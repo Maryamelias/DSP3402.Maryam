{
 "cells": [
  {
   "cell_type": "markdown",
   "metadata": {},
   "source": [
    "# Lab 5"
   ]
  },
  {
   "cell_type": "markdown",
   "metadata": {},
   "source": [
    "You are tasked with evaluating card counting strategies for black jack. In order to do so, you will use object oriented programming to create a playable casino style black jack game where a computer dealer plays against $n$ computer players and possibily one human player. If you don't know the rules of blackjack or card counting, please google it. \n",
    "\n",
    "A few requirements:\n",
    "* The game should utilize multiple 52-card decks. Typically the game is played with 6 decks.\n",
    "* Players should have chips.\n",
    "* Dealer's actions are predefined by rules of the game (typically hit on 16). \n",
    "* The players should be aware of all shown cards so that they can count cards.\n",
    "* Each player could have a different strategy.\n",
    "* The system should allow you to play large numbers of games, study the outcomes, and compare average winnings per hand rate for different strategies."
   ]
  },
  {
   "cell_type": "markdown",
   "metadata": {},
   "source": [
    "1. Begin by creating a classes to represent cards and decks. The deck should support more than one 52-card set. The deck should allow you to shuffle and draw cards. Include a \"plastic\" card, placed randomly in the deck. Later, when the plastic card is dealt, shuffle the cards before the next deal."
   ]
  },
  {
   "cell_type": "code",
   "execution_count": 1,
   "metadata": {},
   "outputs": [],
   "source": [
    "import random\n",
    "class Card:\n",
    "    def __init__(self, suit, rank):\n",
    "        self.suit = suit\n",
    "        self.rank = rank\n",
    "        self.value = self.get_value()\n",
    "\n",
    "    def get_value(self):\n",
    "        if self.rank.isdigit():\n",
    "            return int(self.rank)\n",
    "        elif self.rank in ['Jack', 'Queen', 'King']:\n",
    "            return 10\n",
    "        elif self.rank == 'Ace':\n",
    "            return 11\n",
    "        else:\n",
    "            return 0\n",
    "\n",
    "    def __repr__(self):\n",
    "        return f\"{self.rank} of {self.suit}\"\n",
    "\n",
    "\n",
    "class Deck:\n",
    "    def __init__(self, num_sets=1):\n",
    "        self.num_sets = num_sets\n",
    "        self.cards = self.create_deck()\n",
    "        self.plastic_index = None\n",
    "        self.add_plastic_card()\n",
    "\n",
    "    def create_deck(self):\n",
    "        ranks = [\"2\", \"3\", \"4\", \"5\", \"6\", \"7\", \"8\", \"9\", \"10\", \"Jack\", \"Queen\", \"King\", \"Ace\"]\n",
    "        suits = [\"Hearts\", \"Diamonds\", \"Clubs\", \"Spades\"]\n",
    "        deck = [Card(rank, suit) for _ in range(self.num_sets) for rank in ranks for suit in suits]\n",
    "        return deck\n",
    "\n",
    "    def shuffle(self):\n",
    "        random.shuffle(self.cards)\n",
    "\n",
    "    def draw_card(self):\n",
    "        if not self.cards:\n",
    "            return None\n",
    "        return self.cards.pop(0)\n",
    "\n",
    "    def add_plastic_card(self):\n",
    "        self.plastic_index = random.randint(0, len(self.cards))\n",
    "        self.cards.insert(self.plastic_index, Card(\"Plastic\", \"Card\"))\n",
    "        \n",
    "    def remove_plastic_card(self):\n",
    "        self.cards.pop(self.plastic_index)\n",
    "        self.plastic_index = None\n",
    "\n",
    "    def shuffle_after_plastic_card(self):\n",
    "        if self.plastic_index is not None:\n",
    "            self.cards.insert(self.plastic_index, self.cards.pop(self.plastic_index))\n",
    "            self.shuffle()"
   ]
  },
  {
   "cell_type": "code",
   "execution_count": 2,
   "metadata": {},
   "outputs": [
    {
     "name": "stdout",
     "output_type": "stream",
     "text": [
      "Clubs of 4\n",
      "Spades of 3\n",
      "Diamonds of 4\n",
      "Clubs of 9\n",
      "Clubs of 3\n",
      "Hearts of 9\n",
      "Spades of 9\n",
      "Diamonds of 5\n",
      "Clubs of 9\n",
      "Clubs of Ace\n"
     ]
    }
   ],
   "source": [
    "# Testing solution\n",
    "# Creating a deck with 2 sets of cards\n",
    "deck = Deck(num_sets=2)\n",
    "\n",
    "# Shuffling the deck\n",
    "deck.shuffle()\n",
    "\n",
    "# Drawing cards from the deck\n",
    "for _ in range(10):\n",
    "    print(deck.draw_card())"
   ]
  },
  {
   "cell_type": "markdown",
   "metadata": {},
   "source": [
    "2. Now design your game on a UML diagram. You may want to create classes to represent, players, a hand, and/or the game. As you work through the lab, update your UML diagram. At the end of the lab, submit your diagram (as pdf file) along with your notebook. "
   ]
  },
  {
   "cell_type": "code",
   "execution_count": 3,
   "metadata": {},
   "outputs": [],
   "source": [
    "### Creating the Hand class\n",
    "class Hand:\n",
    "    def __init__(self, dealer=False):\n",
    "        self.dealer = dealer\n",
    "        self.cards = []\n",
    "\n",
    "    def add_card(self, card):\n",
    "        self.cards.append(card)\n",
    "\n",
    "    def calculate_value(self):\n",
    "        total_value = sum(card.value for card in self.cards if card.rank != 'Plastic')\n",
    "        num_aces = sum(1 for card in self.cards if card.rank == 'Ace')\n",
    "        while total_value > 21 and num_aces:\n",
    "            total_value -= 10\n",
    "            num_aces -= 1\n",
    "        return total_value\n",
    "\n",
    "    def __repr__(self):\n",
    "        if self.dealer:\n",
    "            return \"[Hidden Card] \" + \", \".join(str(card) for card in self.cards[1:])\n",
    "        else:\n",
    "            return \", \".join(str(card) for card in self.cards)"
   ]
  },
  {
   "cell_type": "code",
   "execution_count": 4,
   "metadata": {},
   "outputs": [
    {
     "name": "stdout",
     "output_type": "stream",
     "text": [
      "Total value of the hand: 16\n"
     ]
    }
   ],
   "source": [
    "## Testing the solution\n",
    "# Creating a hand\n",
    "hand = Hand()\n",
    "\n",
    "# Adding some cards to the hand\n",
    "card1 = Card(\"Hearts\", \"Ace\")\n",
    "card2 = Card(\"Diamonds\", \"5\")\n",
    "card3 = Card(\"Spades\", \"King\")\n",
    "\n",
    "hand.add_card(card1)\n",
    "hand.add_card(card2)\n",
    "hand.add_card(card3)\n",
    "\n",
    "# Calculating and displaying the total value of the hand\n",
    "total_value = hand.calculate_value()\n",
    "print(\"Total value of the hand:\", total_value)"
   ]
  },
  {
   "cell_type": "code",
   "execution_count": 5,
   "metadata": {},
   "outputs": [],
   "source": [
    "class Player:\n",
    "    def __init__(self, name):\n",
    "        self.name = name\n",
    "        self.hand = Hand()\n",
    "\n",
    "    def draw_card(self, deck):\n",
    "        card = deck.draw_card()\n",
    "        if card:\n",
    "            self.hand.add_card(card)\n",
    "            print(f\"{self.name} drew a card:\", card)\n",
    "        else:\n",
    "            print(\"No more cards in the deck.\")\n",
    "\n",
    "    def show_hand(self, dealer=False):\n",
    "        print(f\"{self.name}'s hand:\", self.hand if not dealer else self.hand.calculate_value())"
   ]
  },
  {
   "cell_type": "code",
   "execution_count": 6,
   "metadata": {},
   "outputs": [
    {
     "name": "stdout",
     "output_type": "stream",
     "text": [
      "Alice drew a card: Hearts of 2\n",
      "Alice drew a card: Diamonds of 2\n",
      "Alice's hand: Hearts of 2, Diamonds of 2\n"
     ]
    }
   ],
   "source": [
    "### Testing the solution\n",
    "deck = Deck(num_sets=1)\n",
    "player = Player(\"Alice\")\n",
    "\n",
    "# Deal initial cards to the player\n",
    "for _ in range(2):\n",
    "    player.draw_card(deck)\n",
    "\n",
    "# Show player's hand\n",
    "player.show_hand()"
   ]
  },
  {
   "cell_type": "code",
   "execution_count": 7,
   "metadata": {},
   "outputs": [],
   "source": [
    "class Game:\n",
    "    def __init__(self, num_players):\n",
    "        self.num_players = num_players\n",
    "        self.deck = Deck()\n",
    "        self.players = [Player(f\"Player {i + 1}\") for i in range(num_players)]\n",
    "\n",
    "    def start(self):\n",
    "        print(\"Starting the game!\")\n",
    "        if len(self.deck.cards) < 2 * (self.num_players + 1):\n",
    "            print(\"Not enough cards in the deck. Reshuffling...\")\n",
    "            self.deck = Deck()\n",
    "        for player in self.players:\n",
    "            player.draw_card(self.deck)\n",
    "            player.draw_card(self.deck)\n",
    "        # Discard plastic card\n",
    "        self.deck.cards.pop(self.deck.plastic_index)\n",
    "\n",
    "    def play_round(self):\n",
    "        print(\"Starting Round\")\n",
    "        for player in self.players:\n",
    "            while True:\n",
    "                player.show_hand()\n",
    "                decision = input(f\"{player.name}, do you want to hit or stand? (h/s): \").lower()\n",
    "                if decision == 'h':\n",
    "                    player.draw_card(self.deck)\n",
    "                elif decision == 's':\n",
    "                    break\n",
    "                else:\n",
    "                    print(\"Invalid input. Please enter 'h' to hit or 's' to stand.\")\n",
    "\n",
    "        print(\"Dealer's turn:\")\n",
    "        dealer_hand = Hand(dealer=True)\n",
    "        for player in self.players:\n",
    "            dealer_hand.cards.extend(player.hand.cards)\n",
    "        print(f\"Dealer's hand: {dealer_hand}\")\n",
    "        while dealer_hand.calculate_value() < 17:\n",
    "            drawn_card = self.deck.draw_card()\n",
    "            if drawn_card is None:\n",
    "                print(\"No more cards in the deck.\")\n",
    "                break\n",
    "            dealer_hand.add_card(drawn_card)\n",
    "            print(f\"Dealer drew a card:\", dealer_hand.cards[-1])\n",
    "            print(f\"Dealer's hand: {dealer_hand}\")\n",
    "            \n",
    "    def end(self):\n",
    "        print(\"End of the Game!\")\n",
    "        for player in self.players:\n",
    "            player.show_hand()\n",
    "        print(\"Dealer's hand:\")\n",
    "        dealer_hand = Hand(dealer=True)\n",
    "        for player in self.players:\n",
    "            dealer_hand.cards.extend(player.hand.cards)\n",
    "        print(f\"Dealer's hand: {dealer_hand}\")"
   ]
  },
  {
   "cell_type": "code",
   "execution_count": 8,
   "metadata": {},
   "outputs": [
    {
     "name": "stdout",
     "output_type": "stream",
     "text": [
      "Starting the game!\n",
      "Player 1 drew a card: Hearts of 2\n",
      "Player 1 drew a card: Diamonds of 2\n",
      "Player 2 drew a card: Clubs of 2\n",
      "Player 2 drew a card: Spades of 2\n",
      "Starting Round\n",
      "Player 1's hand: Hearts of 2, Diamonds of 2\n"
     ]
    },
    {
     "name": "stdin",
     "output_type": "stream",
     "text": [
      "Player 1, do you want to hit or stand? (h/s):  h\n"
     ]
    },
    {
     "name": "stdout",
     "output_type": "stream",
     "text": [
      "Player 1 drew a card: Hearts of 3\n",
      "Player 1's hand: Hearts of 2, Diamonds of 2, Hearts of 3\n"
     ]
    },
    {
     "name": "stdin",
     "output_type": "stream",
     "text": [
      "Player 1, do you want to hit or stand? (h/s):  s\n"
     ]
    },
    {
     "name": "stdout",
     "output_type": "stream",
     "text": [
      "Player 2's hand: Clubs of 2, Spades of 2\n"
     ]
    },
    {
     "name": "stdin",
     "output_type": "stream",
     "text": [
      "Player 2, do you want to hit or stand? (h/s):  h\n"
     ]
    },
    {
     "name": "stdout",
     "output_type": "stream",
     "text": [
      "Player 2 drew a card: Diamonds of 3\n",
      "Player 2's hand: Clubs of 2, Spades of 2, Diamonds of 3\n"
     ]
    },
    {
     "name": "stdin",
     "output_type": "stream",
     "text": [
      "Player 2, do you want to hit or stand? (h/s):  s\n"
     ]
    },
    {
     "name": "stdout",
     "output_type": "stream",
     "text": [
      "Dealer's turn:\n",
      "Dealer's hand: [Hidden Card] Diamonds of 2, Hearts of 3, Clubs of 2, Spades of 2, Diamonds of 3\n",
      "Dealer drew a card: Clubs of 3\n",
      "Dealer's hand: [Hidden Card] Diamonds of 2, Hearts of 3, Clubs of 2, Spades of 2, Diamonds of 3, Clubs of 3\n",
      "Dealer drew a card: Spades of 3\n",
      "Dealer's hand: [Hidden Card] Diamonds of 2, Hearts of 3, Clubs of 2, Spades of 2, Diamonds of 3, Clubs of 3, Spades of 3\n",
      "Dealer drew a card: Hearts of 4\n",
      "Dealer's hand: [Hidden Card] Diamonds of 2, Hearts of 3, Clubs of 2, Spades of 2, Diamonds of 3, Clubs of 3, Spades of 3, Hearts of 4\n",
      "Dealer drew a card: Diamonds of 4\n",
      "Dealer's hand: [Hidden Card] Diamonds of 2, Hearts of 3, Clubs of 2, Spades of 2, Diamonds of 3, Clubs of 3, Spades of 3, Hearts of 4, Diamonds of 4\n",
      "Dealer drew a card: Clubs of 4\n",
      "Dealer's hand: [Hidden Card] Diamonds of 2, Hearts of 3, Clubs of 2, Spades of 2, Diamonds of 3, Clubs of 3, Spades of 3, Hearts of 4, Diamonds of 4, Clubs of 4\n",
      "Dealer drew a card: Spades of 4\n",
      "Dealer's hand: [Hidden Card] Diamonds of 2, Hearts of 3, Clubs of 2, Spades of 2, Diamonds of 3, Clubs of 3, Spades of 3, Hearts of 4, Diamonds of 4, Clubs of 4, Spades of 4\n",
      "Dealer drew a card: Hearts of 5\n",
      "Dealer's hand: [Hidden Card] Diamonds of 2, Hearts of 3, Clubs of 2, Spades of 2, Diamonds of 3, Clubs of 3, Spades of 3, Hearts of 4, Diamonds of 4, Clubs of 4, Spades of 4, Hearts of 5\n",
      "Dealer drew a card: Diamonds of 5\n",
      "Dealer's hand: [Hidden Card] Diamonds of 2, Hearts of 3, Clubs of 2, Spades of 2, Diamonds of 3, Clubs of 3, Spades of 3, Hearts of 4, Diamonds of 4, Clubs of 4, Spades of 4, Hearts of 5, Diamonds of 5\n",
      "Dealer drew a card: Clubs of 5\n",
      "Dealer's hand: [Hidden Card] Diamonds of 2, Hearts of 3, Clubs of 2, Spades of 2, Diamonds of 3, Clubs of 3, Spades of 3, Hearts of 4, Diamonds of 4, Clubs of 4, Spades of 4, Hearts of 5, Diamonds of 5, Clubs of 5\n",
      "Dealer drew a card: Card of Plastic\n",
      "Dealer's hand: [Hidden Card] Diamonds of 2, Hearts of 3, Clubs of 2, Spades of 2, Diamonds of 3, Clubs of 3, Spades of 3, Hearts of 4, Diamonds of 4, Clubs of 4, Spades of 4, Hearts of 5, Diamonds of 5, Clubs of 5, Card of Plastic\n",
      "Dealer drew a card: Spades of 5\n",
      "Dealer's hand: [Hidden Card] Diamonds of 2, Hearts of 3, Clubs of 2, Spades of 2, Diamonds of 3, Clubs of 3, Spades of 3, Hearts of 4, Diamonds of 4, Clubs of 4, Spades of 4, Hearts of 5, Diamonds of 5, Clubs of 5, Card of Plastic, Spades of 5\n",
      "Dealer drew a card: Hearts of 6\n",
      "Dealer's hand: [Hidden Card] Diamonds of 2, Hearts of 3, Clubs of 2, Spades of 2, Diamonds of 3, Clubs of 3, Spades of 3, Hearts of 4, Diamonds of 4, Clubs of 4, Spades of 4, Hearts of 5, Diamonds of 5, Clubs of 5, Card of Plastic, Spades of 5, Hearts of 6\n",
      "Dealer drew a card: Diamonds of 6\n",
      "Dealer's hand: [Hidden Card] Diamonds of 2, Hearts of 3, Clubs of 2, Spades of 2, Diamonds of 3, Clubs of 3, Spades of 3, Hearts of 4, Diamonds of 4, Clubs of 4, Spades of 4, Hearts of 5, Diamonds of 5, Clubs of 5, Card of Plastic, Spades of 5, Hearts of 6, Diamonds of 6\n",
      "Dealer drew a card: Spades of 6\n",
      "Dealer's hand: [Hidden Card] Diamonds of 2, Hearts of 3, Clubs of 2, Spades of 2, Diamonds of 3, Clubs of 3, Spades of 3, Hearts of 4, Diamonds of 4, Clubs of 4, Spades of 4, Hearts of 5, Diamonds of 5, Clubs of 5, Card of Plastic, Spades of 5, Hearts of 6, Diamonds of 6, Spades of 6\n",
      "Dealer drew a card: Hearts of 7\n",
      "Dealer's hand: [Hidden Card] Diamonds of 2, Hearts of 3, Clubs of 2, Spades of 2, Diamonds of 3, Clubs of 3, Spades of 3, Hearts of 4, Diamonds of 4, Clubs of 4, Spades of 4, Hearts of 5, Diamonds of 5, Clubs of 5, Card of Plastic, Spades of 5, Hearts of 6, Diamonds of 6, Spades of 6, Hearts of 7\n",
      "Dealer drew a card: Diamonds of 7\n",
      "Dealer's hand: [Hidden Card] Diamonds of 2, Hearts of 3, Clubs of 2, Spades of 2, Diamonds of 3, Clubs of 3, Spades of 3, Hearts of 4, Diamonds of 4, Clubs of 4, Spades of 4, Hearts of 5, Diamonds of 5, Clubs of 5, Card of Plastic, Spades of 5, Hearts of 6, Diamonds of 6, Spades of 6, Hearts of 7, Diamonds of 7\n",
      "Dealer drew a card: Clubs of 7\n",
      "Dealer's hand: [Hidden Card] Diamonds of 2, Hearts of 3, Clubs of 2, Spades of 2, Diamonds of 3, Clubs of 3, Spades of 3, Hearts of 4, Diamonds of 4, Clubs of 4, Spades of 4, Hearts of 5, Diamonds of 5, Clubs of 5, Card of Plastic, Spades of 5, Hearts of 6, Diamonds of 6, Spades of 6, Hearts of 7, Diamonds of 7, Clubs of 7\n",
      "Dealer drew a card: Spades of 7\n",
      "Dealer's hand: [Hidden Card] Diamonds of 2, Hearts of 3, Clubs of 2, Spades of 2, Diamonds of 3, Clubs of 3, Spades of 3, Hearts of 4, Diamonds of 4, Clubs of 4, Spades of 4, Hearts of 5, Diamonds of 5, Clubs of 5, Card of Plastic, Spades of 5, Hearts of 6, Diamonds of 6, Spades of 6, Hearts of 7, Diamonds of 7, Clubs of 7, Spades of 7\n",
      "Dealer drew a card: Hearts of 8\n",
      "Dealer's hand: [Hidden Card] Diamonds of 2, Hearts of 3, Clubs of 2, Spades of 2, Diamonds of 3, Clubs of 3, Spades of 3, Hearts of 4, Diamonds of 4, Clubs of 4, Spades of 4, Hearts of 5, Diamonds of 5, Clubs of 5, Card of Plastic, Spades of 5, Hearts of 6, Diamonds of 6, Spades of 6, Hearts of 7, Diamonds of 7, Clubs of 7, Spades of 7, Hearts of 8\n",
      "Dealer drew a card: Diamonds of 8\n",
      "Dealer's hand: [Hidden Card] Diamonds of 2, Hearts of 3, Clubs of 2, Spades of 2, Diamonds of 3, Clubs of 3, Spades of 3, Hearts of 4, Diamonds of 4, Clubs of 4, Spades of 4, Hearts of 5, Diamonds of 5, Clubs of 5, Card of Plastic, Spades of 5, Hearts of 6, Diamonds of 6, Spades of 6, Hearts of 7, Diamonds of 7, Clubs of 7, Spades of 7, Hearts of 8, Diamonds of 8\n",
      "Dealer drew a card: Clubs of 8\n",
      "Dealer's hand: [Hidden Card] Diamonds of 2, Hearts of 3, Clubs of 2, Spades of 2, Diamonds of 3, Clubs of 3, Spades of 3, Hearts of 4, Diamonds of 4, Clubs of 4, Spades of 4, Hearts of 5, Diamonds of 5, Clubs of 5, Card of Plastic, Spades of 5, Hearts of 6, Diamonds of 6, Spades of 6, Hearts of 7, Diamonds of 7, Clubs of 7, Spades of 7, Hearts of 8, Diamonds of 8, Clubs of 8\n",
      "Dealer drew a card: Spades of 8\n",
      "Dealer's hand: [Hidden Card] Diamonds of 2, Hearts of 3, Clubs of 2, Spades of 2, Diamonds of 3, Clubs of 3, Spades of 3, Hearts of 4, Diamonds of 4, Clubs of 4, Spades of 4, Hearts of 5, Diamonds of 5, Clubs of 5, Card of Plastic, Spades of 5, Hearts of 6, Diamonds of 6, Spades of 6, Hearts of 7, Diamonds of 7, Clubs of 7, Spades of 7, Hearts of 8, Diamonds of 8, Clubs of 8, Spades of 8\n",
      "Dealer drew a card: Hearts of 9\n",
      "Dealer's hand: [Hidden Card] Diamonds of 2, Hearts of 3, Clubs of 2, Spades of 2, Diamonds of 3, Clubs of 3, Spades of 3, Hearts of 4, Diamonds of 4, Clubs of 4, Spades of 4, Hearts of 5, Diamonds of 5, Clubs of 5, Card of Plastic, Spades of 5, Hearts of 6, Diamonds of 6, Spades of 6, Hearts of 7, Diamonds of 7, Clubs of 7, Spades of 7, Hearts of 8, Diamonds of 8, Clubs of 8, Spades of 8, Hearts of 9\n",
      "Dealer drew a card: Diamonds of 9\n",
      "Dealer's hand: [Hidden Card] Diamonds of 2, Hearts of 3, Clubs of 2, Spades of 2, Diamonds of 3, Clubs of 3, Spades of 3, Hearts of 4, Diamonds of 4, Clubs of 4, Spades of 4, Hearts of 5, Diamonds of 5, Clubs of 5, Card of Plastic, Spades of 5, Hearts of 6, Diamonds of 6, Spades of 6, Hearts of 7, Diamonds of 7, Clubs of 7, Spades of 7, Hearts of 8, Diamonds of 8, Clubs of 8, Spades of 8, Hearts of 9, Diamonds of 9\n",
      "Dealer drew a card: Clubs of 9\n",
      "Dealer's hand: [Hidden Card] Diamonds of 2, Hearts of 3, Clubs of 2, Spades of 2, Diamonds of 3, Clubs of 3, Spades of 3, Hearts of 4, Diamonds of 4, Clubs of 4, Spades of 4, Hearts of 5, Diamonds of 5, Clubs of 5, Card of Plastic, Spades of 5, Hearts of 6, Diamonds of 6, Spades of 6, Hearts of 7, Diamonds of 7, Clubs of 7, Spades of 7, Hearts of 8, Diamonds of 8, Clubs of 8, Spades of 8, Hearts of 9, Diamonds of 9, Clubs of 9\n",
      "Dealer drew a card: Spades of 9\n",
      "Dealer's hand: [Hidden Card] Diamonds of 2, Hearts of 3, Clubs of 2, Spades of 2, Diamonds of 3, Clubs of 3, Spades of 3, Hearts of 4, Diamonds of 4, Clubs of 4, Spades of 4, Hearts of 5, Diamonds of 5, Clubs of 5, Card of Plastic, Spades of 5, Hearts of 6, Diamonds of 6, Spades of 6, Hearts of 7, Diamonds of 7, Clubs of 7, Spades of 7, Hearts of 8, Diamonds of 8, Clubs of 8, Spades of 8, Hearts of 9, Diamonds of 9, Clubs of 9, Spades of 9\n",
      "Dealer drew a card: Hearts of 10\n",
      "Dealer's hand: [Hidden Card] Diamonds of 2, Hearts of 3, Clubs of 2, Spades of 2, Diamonds of 3, Clubs of 3, Spades of 3, Hearts of 4, Diamonds of 4, Clubs of 4, Spades of 4, Hearts of 5, Diamonds of 5, Clubs of 5, Card of Plastic, Spades of 5, Hearts of 6, Diamonds of 6, Spades of 6, Hearts of 7, Diamonds of 7, Clubs of 7, Spades of 7, Hearts of 8, Diamonds of 8, Clubs of 8, Spades of 8, Hearts of 9, Diamonds of 9, Clubs of 9, Spades of 9, Hearts of 10\n",
      "Dealer drew a card: Diamonds of 10\n",
      "Dealer's hand: [Hidden Card] Diamonds of 2, Hearts of 3, Clubs of 2, Spades of 2, Diamonds of 3, Clubs of 3, Spades of 3, Hearts of 4, Diamonds of 4, Clubs of 4, Spades of 4, Hearts of 5, Diamonds of 5, Clubs of 5, Card of Plastic, Spades of 5, Hearts of 6, Diamonds of 6, Spades of 6, Hearts of 7, Diamonds of 7, Clubs of 7, Spades of 7, Hearts of 8, Diamonds of 8, Clubs of 8, Spades of 8, Hearts of 9, Diamonds of 9, Clubs of 9, Spades of 9, Hearts of 10, Diamonds of 10\n",
      "Dealer drew a card: Clubs of 10\n",
      "Dealer's hand: [Hidden Card] Diamonds of 2, Hearts of 3, Clubs of 2, Spades of 2, Diamonds of 3, Clubs of 3, Spades of 3, Hearts of 4, Diamonds of 4, Clubs of 4, Spades of 4, Hearts of 5, Diamonds of 5, Clubs of 5, Card of Plastic, Spades of 5, Hearts of 6, Diamonds of 6, Spades of 6, Hearts of 7, Diamonds of 7, Clubs of 7, Spades of 7, Hearts of 8, Diamonds of 8, Clubs of 8, Spades of 8, Hearts of 9, Diamonds of 9, Clubs of 9, Spades of 9, Hearts of 10, Diamonds of 10, Clubs of 10\n",
      "Dealer drew a card: Spades of 10\n",
      "Dealer's hand: [Hidden Card] Diamonds of 2, Hearts of 3, Clubs of 2, Spades of 2, Diamonds of 3, Clubs of 3, Spades of 3, Hearts of 4, Diamonds of 4, Clubs of 4, Spades of 4, Hearts of 5, Diamonds of 5, Clubs of 5, Card of Plastic, Spades of 5, Hearts of 6, Diamonds of 6, Spades of 6, Hearts of 7, Diamonds of 7, Clubs of 7, Spades of 7, Hearts of 8, Diamonds of 8, Clubs of 8, Spades of 8, Hearts of 9, Diamonds of 9, Clubs of 9, Spades of 9, Hearts of 10, Diamonds of 10, Clubs of 10, Spades of 10\n",
      "Dealer drew a card: Hearts of Jack\n",
      "Dealer's hand: [Hidden Card] Diamonds of 2, Hearts of 3, Clubs of 2, Spades of 2, Diamonds of 3, Clubs of 3, Spades of 3, Hearts of 4, Diamonds of 4, Clubs of 4, Spades of 4, Hearts of 5, Diamonds of 5, Clubs of 5, Card of Plastic, Spades of 5, Hearts of 6, Diamonds of 6, Spades of 6, Hearts of 7, Diamonds of 7, Clubs of 7, Spades of 7, Hearts of 8, Diamonds of 8, Clubs of 8, Spades of 8, Hearts of 9, Diamonds of 9, Clubs of 9, Spades of 9, Hearts of 10, Diamonds of 10, Clubs of 10, Spades of 10, Hearts of Jack\n",
      "Dealer drew a card: Diamonds of Jack\n",
      "Dealer's hand: [Hidden Card] Diamonds of 2, Hearts of 3, Clubs of 2, Spades of 2, Diamonds of 3, Clubs of 3, Spades of 3, Hearts of 4, Diamonds of 4, Clubs of 4, Spades of 4, Hearts of 5, Diamonds of 5, Clubs of 5, Card of Plastic, Spades of 5, Hearts of 6, Diamonds of 6, Spades of 6, Hearts of 7, Diamonds of 7, Clubs of 7, Spades of 7, Hearts of 8, Diamonds of 8, Clubs of 8, Spades of 8, Hearts of 9, Diamonds of 9, Clubs of 9, Spades of 9, Hearts of 10, Diamonds of 10, Clubs of 10, Spades of 10, Hearts of Jack, Diamonds of Jack\n",
      "Dealer drew a card: Clubs of Jack\n",
      "Dealer's hand: [Hidden Card] Diamonds of 2, Hearts of 3, Clubs of 2, Spades of 2, Diamonds of 3, Clubs of 3, Spades of 3, Hearts of 4, Diamonds of 4, Clubs of 4, Spades of 4, Hearts of 5, Diamonds of 5, Clubs of 5, Card of Plastic, Spades of 5, Hearts of 6, Diamonds of 6, Spades of 6, Hearts of 7, Diamonds of 7, Clubs of 7, Spades of 7, Hearts of 8, Diamonds of 8, Clubs of 8, Spades of 8, Hearts of 9, Diamonds of 9, Clubs of 9, Spades of 9, Hearts of 10, Diamonds of 10, Clubs of 10, Spades of 10, Hearts of Jack, Diamonds of Jack, Clubs of Jack\n",
      "Dealer drew a card: Spades of Jack\n",
      "Dealer's hand: [Hidden Card] Diamonds of 2, Hearts of 3, Clubs of 2, Spades of 2, Diamonds of 3, Clubs of 3, Spades of 3, Hearts of 4, Diamonds of 4, Clubs of 4, Spades of 4, Hearts of 5, Diamonds of 5, Clubs of 5, Card of Plastic, Spades of 5, Hearts of 6, Diamonds of 6, Spades of 6, Hearts of 7, Diamonds of 7, Clubs of 7, Spades of 7, Hearts of 8, Diamonds of 8, Clubs of 8, Spades of 8, Hearts of 9, Diamonds of 9, Clubs of 9, Spades of 9, Hearts of 10, Diamonds of 10, Clubs of 10, Spades of 10, Hearts of Jack, Diamonds of Jack, Clubs of Jack, Spades of Jack\n",
      "Dealer drew a card: Hearts of Queen\n",
      "Dealer's hand: [Hidden Card] Diamonds of 2, Hearts of 3, Clubs of 2, Spades of 2, Diamonds of 3, Clubs of 3, Spades of 3, Hearts of 4, Diamonds of 4, Clubs of 4, Spades of 4, Hearts of 5, Diamonds of 5, Clubs of 5, Card of Plastic, Spades of 5, Hearts of 6, Diamonds of 6, Spades of 6, Hearts of 7, Diamonds of 7, Clubs of 7, Spades of 7, Hearts of 8, Diamonds of 8, Clubs of 8, Spades of 8, Hearts of 9, Diamonds of 9, Clubs of 9, Spades of 9, Hearts of 10, Diamonds of 10, Clubs of 10, Spades of 10, Hearts of Jack, Diamonds of Jack, Clubs of Jack, Spades of Jack, Hearts of Queen\n",
      "Dealer drew a card: Diamonds of Queen\n",
      "Dealer's hand: [Hidden Card] Diamonds of 2, Hearts of 3, Clubs of 2, Spades of 2, Diamonds of 3, Clubs of 3, Spades of 3, Hearts of 4, Diamonds of 4, Clubs of 4, Spades of 4, Hearts of 5, Diamonds of 5, Clubs of 5, Card of Plastic, Spades of 5, Hearts of 6, Diamonds of 6, Spades of 6, Hearts of 7, Diamonds of 7, Clubs of 7, Spades of 7, Hearts of 8, Diamonds of 8, Clubs of 8, Spades of 8, Hearts of 9, Diamonds of 9, Clubs of 9, Spades of 9, Hearts of 10, Diamonds of 10, Clubs of 10, Spades of 10, Hearts of Jack, Diamonds of Jack, Clubs of Jack, Spades of Jack, Hearts of Queen, Diamonds of Queen\n",
      "Dealer drew a card: Clubs of Queen\n",
      "Dealer's hand: [Hidden Card] Diamonds of 2, Hearts of 3, Clubs of 2, Spades of 2, Diamonds of 3, Clubs of 3, Spades of 3, Hearts of 4, Diamonds of 4, Clubs of 4, Spades of 4, Hearts of 5, Diamonds of 5, Clubs of 5, Card of Plastic, Spades of 5, Hearts of 6, Diamonds of 6, Spades of 6, Hearts of 7, Diamonds of 7, Clubs of 7, Spades of 7, Hearts of 8, Diamonds of 8, Clubs of 8, Spades of 8, Hearts of 9, Diamonds of 9, Clubs of 9, Spades of 9, Hearts of 10, Diamonds of 10, Clubs of 10, Spades of 10, Hearts of Jack, Diamonds of Jack, Clubs of Jack, Spades of Jack, Hearts of Queen, Diamonds of Queen, Clubs of Queen\n",
      "Dealer drew a card: Spades of Queen\n",
      "Dealer's hand: [Hidden Card] Diamonds of 2, Hearts of 3, Clubs of 2, Spades of 2, Diamonds of 3, Clubs of 3, Spades of 3, Hearts of 4, Diamonds of 4, Clubs of 4, Spades of 4, Hearts of 5, Diamonds of 5, Clubs of 5, Card of Plastic, Spades of 5, Hearts of 6, Diamonds of 6, Spades of 6, Hearts of 7, Diamonds of 7, Clubs of 7, Spades of 7, Hearts of 8, Diamonds of 8, Clubs of 8, Spades of 8, Hearts of 9, Diamonds of 9, Clubs of 9, Spades of 9, Hearts of 10, Diamonds of 10, Clubs of 10, Spades of 10, Hearts of Jack, Diamonds of Jack, Clubs of Jack, Spades of Jack, Hearts of Queen, Diamonds of Queen, Clubs of Queen, Spades of Queen\n",
      "Dealer drew a card: Hearts of King\n",
      "Dealer's hand: [Hidden Card] Diamonds of 2, Hearts of 3, Clubs of 2, Spades of 2, Diamonds of 3, Clubs of 3, Spades of 3, Hearts of 4, Diamonds of 4, Clubs of 4, Spades of 4, Hearts of 5, Diamonds of 5, Clubs of 5, Card of Plastic, Spades of 5, Hearts of 6, Diamonds of 6, Spades of 6, Hearts of 7, Diamonds of 7, Clubs of 7, Spades of 7, Hearts of 8, Diamonds of 8, Clubs of 8, Spades of 8, Hearts of 9, Diamonds of 9, Clubs of 9, Spades of 9, Hearts of 10, Diamonds of 10, Clubs of 10, Spades of 10, Hearts of Jack, Diamonds of Jack, Clubs of Jack, Spades of Jack, Hearts of Queen, Diamonds of Queen, Clubs of Queen, Spades of Queen, Hearts of King\n",
      "Dealer drew a card: Diamonds of King\n",
      "Dealer's hand: [Hidden Card] Diamonds of 2, Hearts of 3, Clubs of 2, Spades of 2, Diamonds of 3, Clubs of 3, Spades of 3, Hearts of 4, Diamonds of 4, Clubs of 4, Spades of 4, Hearts of 5, Diamonds of 5, Clubs of 5, Card of Plastic, Spades of 5, Hearts of 6, Diamonds of 6, Spades of 6, Hearts of 7, Diamonds of 7, Clubs of 7, Spades of 7, Hearts of 8, Diamonds of 8, Clubs of 8, Spades of 8, Hearts of 9, Diamonds of 9, Clubs of 9, Spades of 9, Hearts of 10, Diamonds of 10, Clubs of 10, Spades of 10, Hearts of Jack, Diamonds of Jack, Clubs of Jack, Spades of Jack, Hearts of Queen, Diamonds of Queen, Clubs of Queen, Spades of Queen, Hearts of King, Diamonds of King\n",
      "Dealer drew a card: Clubs of King\n",
      "Dealer's hand: [Hidden Card] Diamonds of 2, Hearts of 3, Clubs of 2, Spades of 2, Diamonds of 3, Clubs of 3, Spades of 3, Hearts of 4, Diamonds of 4, Clubs of 4, Spades of 4, Hearts of 5, Diamonds of 5, Clubs of 5, Card of Plastic, Spades of 5, Hearts of 6, Diamonds of 6, Spades of 6, Hearts of 7, Diamonds of 7, Clubs of 7, Spades of 7, Hearts of 8, Diamonds of 8, Clubs of 8, Spades of 8, Hearts of 9, Diamonds of 9, Clubs of 9, Spades of 9, Hearts of 10, Diamonds of 10, Clubs of 10, Spades of 10, Hearts of Jack, Diamonds of Jack, Clubs of Jack, Spades of Jack, Hearts of Queen, Diamonds of Queen, Clubs of Queen, Spades of Queen, Hearts of King, Diamonds of King, Clubs of King\n",
      "Dealer drew a card: Spades of King\n",
      "Dealer's hand: [Hidden Card] Diamonds of 2, Hearts of 3, Clubs of 2, Spades of 2, Diamonds of 3, Clubs of 3, Spades of 3, Hearts of 4, Diamonds of 4, Clubs of 4, Spades of 4, Hearts of 5, Diamonds of 5, Clubs of 5, Card of Plastic, Spades of 5, Hearts of 6, Diamonds of 6, Spades of 6, Hearts of 7, Diamonds of 7, Clubs of 7, Spades of 7, Hearts of 8, Diamonds of 8, Clubs of 8, Spades of 8, Hearts of 9, Diamonds of 9, Clubs of 9, Spades of 9, Hearts of 10, Diamonds of 10, Clubs of 10, Spades of 10, Hearts of Jack, Diamonds of Jack, Clubs of Jack, Spades of Jack, Hearts of Queen, Diamonds of Queen, Clubs of Queen, Spades of Queen, Hearts of King, Diamonds of King, Clubs of King, Spades of King\n",
      "Dealer drew a card: Hearts of Ace\n",
      "Dealer's hand: [Hidden Card] Diamonds of 2, Hearts of 3, Clubs of 2, Spades of 2, Diamonds of 3, Clubs of 3, Spades of 3, Hearts of 4, Diamonds of 4, Clubs of 4, Spades of 4, Hearts of 5, Diamonds of 5, Clubs of 5, Card of Plastic, Spades of 5, Hearts of 6, Diamonds of 6, Spades of 6, Hearts of 7, Diamonds of 7, Clubs of 7, Spades of 7, Hearts of 8, Diamonds of 8, Clubs of 8, Spades of 8, Hearts of 9, Diamonds of 9, Clubs of 9, Spades of 9, Hearts of 10, Diamonds of 10, Clubs of 10, Spades of 10, Hearts of Jack, Diamonds of Jack, Clubs of Jack, Spades of Jack, Hearts of Queen, Diamonds of Queen, Clubs of Queen, Spades of Queen, Hearts of King, Diamonds of King, Clubs of King, Spades of King, Hearts of Ace\n",
      "Dealer drew a card: Diamonds of Ace\n",
      "Dealer's hand: [Hidden Card] Diamonds of 2, Hearts of 3, Clubs of 2, Spades of 2, Diamonds of 3, Clubs of 3, Spades of 3, Hearts of 4, Diamonds of 4, Clubs of 4, Spades of 4, Hearts of 5, Diamonds of 5, Clubs of 5, Card of Plastic, Spades of 5, Hearts of 6, Diamonds of 6, Spades of 6, Hearts of 7, Diamonds of 7, Clubs of 7, Spades of 7, Hearts of 8, Diamonds of 8, Clubs of 8, Spades of 8, Hearts of 9, Diamonds of 9, Clubs of 9, Spades of 9, Hearts of 10, Diamonds of 10, Clubs of 10, Spades of 10, Hearts of Jack, Diamonds of Jack, Clubs of Jack, Spades of Jack, Hearts of Queen, Diamonds of Queen, Clubs of Queen, Spades of Queen, Hearts of King, Diamonds of King, Clubs of King, Spades of King, Hearts of Ace, Diamonds of Ace\n",
      "Dealer drew a card: Clubs of Ace\n",
      "Dealer's hand: [Hidden Card] Diamonds of 2, Hearts of 3, Clubs of 2, Spades of 2, Diamonds of 3, Clubs of 3, Spades of 3, Hearts of 4, Diamonds of 4, Clubs of 4, Spades of 4, Hearts of 5, Diamonds of 5, Clubs of 5, Card of Plastic, Spades of 5, Hearts of 6, Diamonds of 6, Spades of 6, Hearts of 7, Diamonds of 7, Clubs of 7, Spades of 7, Hearts of 8, Diamonds of 8, Clubs of 8, Spades of 8, Hearts of 9, Diamonds of 9, Clubs of 9, Spades of 9, Hearts of 10, Diamonds of 10, Clubs of 10, Spades of 10, Hearts of Jack, Diamonds of Jack, Clubs of Jack, Spades of Jack, Hearts of Queen, Diamonds of Queen, Clubs of Queen, Spades of Queen, Hearts of King, Diamonds of King, Clubs of King, Spades of King, Hearts of Ace, Diamonds of Ace, Clubs of Ace\n",
      "Dealer drew a card: Spades of Ace\n",
      "Dealer's hand: [Hidden Card] Diamonds of 2, Hearts of 3, Clubs of 2, Spades of 2, Diamonds of 3, Clubs of 3, Spades of 3, Hearts of 4, Diamonds of 4, Clubs of 4, Spades of 4, Hearts of 5, Diamonds of 5, Clubs of 5, Card of Plastic, Spades of 5, Hearts of 6, Diamonds of 6, Spades of 6, Hearts of 7, Diamonds of 7, Clubs of 7, Spades of 7, Hearts of 8, Diamonds of 8, Clubs of 8, Spades of 8, Hearts of 9, Diamonds of 9, Clubs of 9, Spades of 9, Hearts of 10, Diamonds of 10, Clubs of 10, Spades of 10, Hearts of Jack, Diamonds of Jack, Clubs of Jack, Spades of Jack, Hearts of Queen, Diamonds of Queen, Clubs of Queen, Spades of Queen, Hearts of King, Diamonds of King, Clubs of King, Spades of King, Hearts of Ace, Diamonds of Ace, Clubs of Ace, Spades of Ace\n",
      "No more cards in the deck.\n",
      "End of the Game!\n",
      "Player 1's hand: Hearts of 2, Diamonds of 2, Hearts of 3\n",
      "Player 2's hand: Clubs of 2, Spades of 2, Diamonds of 3\n",
      "Dealer's hand:\n",
      "Dealer's hand: [Hidden Card] Diamonds of 2, Hearts of 3, Clubs of 2, Spades of 2, Diamonds of 3\n"
     ]
    }
   ],
   "source": [
    "# Testing the solutions\n",
    "num_players = 2\n",
    "game = Game(num_players)\n",
    "game.start()\n",
    "game.play_round()\n",
    "game.end()"
   ]
  },
  {
   "cell_type": "markdown",
   "metadata": {},
   "source": [
    "3. Begin with implementing the skeleton (ie define data members and methods/functions, but do not code the logic) of the classes in your UML diagram."
   ]
  },
  {
   "cell_type": "markdown",
   "metadata": {},
   "source": [
    "4. Complete the implementation by coding the logic of all functions. For now, just implement the dealer player and human player."
   ]
  },
  {
   "cell_type": "markdown",
   "metadata": {},
   "source": [
    "5.  Test. Demonstrate game play. For example, create a game of several dealer players and show that the game is functional through several rounds."
   ]
  },
  {
   "cell_type": "code",
   "execution_count": 9,
   "metadata": {
    "scrolled": true
   },
   "outputs": [
    {
     "name": "stdout",
     "output_type": "stream",
     "text": [
      "Starting the game!\n",
      "Player 1 drew a card: Hearts of 2\n",
      "Player 1 drew a card: Diamonds of 2\n",
      "Player 2 drew a card: Clubs of 2\n",
      "Player 2 drew a card: Spades of 2\n",
      "\n",
      "--- Round 1 ---\n",
      "Starting Round\n",
      "Player 1's hand: Hearts of 2, Diamonds of 2\n"
     ]
    },
    {
     "name": "stdin",
     "output_type": "stream",
     "text": [
      "Player 1, do you want to hit or stand? (h/s):  h\n"
     ]
    },
    {
     "name": "stdout",
     "output_type": "stream",
     "text": [
      "Player 1 drew a card: Hearts of 3\n",
      "Player 1's hand: Hearts of 2, Diamonds of 2, Hearts of 3\n"
     ]
    },
    {
     "name": "stdin",
     "output_type": "stream",
     "text": [
      "Player 1, do you want to hit or stand? (h/s):  s\n"
     ]
    },
    {
     "name": "stdout",
     "output_type": "stream",
     "text": [
      "Player 2's hand: Clubs of 2, Spades of 2\n"
     ]
    },
    {
     "name": "stdin",
     "output_type": "stream",
     "text": [
      "Player 2, do you want to hit or stand? (h/s):  h\n"
     ]
    },
    {
     "name": "stdout",
     "output_type": "stream",
     "text": [
      "Player 2 drew a card: Card of Plastic\n",
      "Player 2's hand: Clubs of 2, Spades of 2, Card of Plastic\n"
     ]
    },
    {
     "name": "stdin",
     "output_type": "stream",
     "text": [
      "Player 2, do you want to hit or stand? (h/s):  s\n"
     ]
    },
    {
     "name": "stdout",
     "output_type": "stream",
     "text": [
      "Dealer's turn:\n",
      "Dealer's hand: [Hidden Card] Diamonds of 2, Hearts of 3, Clubs of 2, Spades of 2, Card of Plastic\n",
      "Dealer drew a card: Diamonds of 3\n",
      "Dealer's hand: [Hidden Card] Diamonds of 2, Hearts of 3, Clubs of 2, Spades of 2, Card of Plastic, Diamonds of 3\n",
      "Dealer drew a card: Clubs of 3\n",
      "Dealer's hand: [Hidden Card] Diamonds of 2, Hearts of 3, Clubs of 2, Spades of 2, Card of Plastic, Diamonds of 3, Clubs of 3\n",
      "Dealer drew a card: Spades of 3\n",
      "Dealer's hand: [Hidden Card] Diamonds of 2, Hearts of 3, Clubs of 2, Spades of 2, Card of Plastic, Diamonds of 3, Clubs of 3, Spades of 3\n",
      "Dealer drew a card: Diamonds of 4\n",
      "Dealer's hand: [Hidden Card] Diamonds of 2, Hearts of 3, Clubs of 2, Spades of 2, Card of Plastic, Diamonds of 3, Clubs of 3, Spades of 3, Diamonds of 4\n",
      "Dealer drew a card: Clubs of 4\n",
      "Dealer's hand: [Hidden Card] Diamonds of 2, Hearts of 3, Clubs of 2, Spades of 2, Card of Plastic, Diamonds of 3, Clubs of 3, Spades of 3, Diamonds of 4, Clubs of 4\n",
      "Dealer drew a card: Spades of 4\n",
      "Dealer's hand: [Hidden Card] Diamonds of 2, Hearts of 3, Clubs of 2, Spades of 2, Card of Plastic, Diamonds of 3, Clubs of 3, Spades of 3, Diamonds of 4, Clubs of 4, Spades of 4\n",
      "Dealer drew a card: Hearts of 5\n",
      "Dealer's hand: [Hidden Card] Diamonds of 2, Hearts of 3, Clubs of 2, Spades of 2, Card of Plastic, Diamonds of 3, Clubs of 3, Spades of 3, Diamonds of 4, Clubs of 4, Spades of 4, Hearts of 5\n",
      "Dealer drew a card: Diamonds of 5\n",
      "Dealer's hand: [Hidden Card] Diamonds of 2, Hearts of 3, Clubs of 2, Spades of 2, Card of Plastic, Diamonds of 3, Clubs of 3, Spades of 3, Diamonds of 4, Clubs of 4, Spades of 4, Hearts of 5, Diamonds of 5\n",
      "Dealer drew a card: Clubs of 5\n",
      "Dealer's hand: [Hidden Card] Diamonds of 2, Hearts of 3, Clubs of 2, Spades of 2, Card of Plastic, Diamonds of 3, Clubs of 3, Spades of 3, Diamonds of 4, Clubs of 4, Spades of 4, Hearts of 5, Diamonds of 5, Clubs of 5\n",
      "Dealer drew a card: Spades of 5\n",
      "Dealer's hand: [Hidden Card] Diamonds of 2, Hearts of 3, Clubs of 2, Spades of 2, Card of Plastic, Diamonds of 3, Clubs of 3, Spades of 3, Diamonds of 4, Clubs of 4, Spades of 4, Hearts of 5, Diamonds of 5, Clubs of 5, Spades of 5\n",
      "Dealer drew a card: Hearts of 6\n",
      "Dealer's hand: [Hidden Card] Diamonds of 2, Hearts of 3, Clubs of 2, Spades of 2, Card of Plastic, Diamonds of 3, Clubs of 3, Spades of 3, Diamonds of 4, Clubs of 4, Spades of 4, Hearts of 5, Diamonds of 5, Clubs of 5, Spades of 5, Hearts of 6\n",
      "Dealer drew a card: Diamonds of 6\n",
      "Dealer's hand: [Hidden Card] Diamonds of 2, Hearts of 3, Clubs of 2, Spades of 2, Card of Plastic, Diamonds of 3, Clubs of 3, Spades of 3, Diamonds of 4, Clubs of 4, Spades of 4, Hearts of 5, Diamonds of 5, Clubs of 5, Spades of 5, Hearts of 6, Diamonds of 6\n",
      "Dealer drew a card: Clubs of 6\n",
      "Dealer's hand: [Hidden Card] Diamonds of 2, Hearts of 3, Clubs of 2, Spades of 2, Card of Plastic, Diamonds of 3, Clubs of 3, Spades of 3, Diamonds of 4, Clubs of 4, Spades of 4, Hearts of 5, Diamonds of 5, Clubs of 5, Spades of 5, Hearts of 6, Diamonds of 6, Clubs of 6\n",
      "Dealer drew a card: Spades of 6\n",
      "Dealer's hand: [Hidden Card] Diamonds of 2, Hearts of 3, Clubs of 2, Spades of 2, Card of Plastic, Diamonds of 3, Clubs of 3, Spades of 3, Diamonds of 4, Clubs of 4, Spades of 4, Hearts of 5, Diamonds of 5, Clubs of 5, Spades of 5, Hearts of 6, Diamonds of 6, Clubs of 6, Spades of 6\n",
      "Dealer drew a card: Hearts of 7\n",
      "Dealer's hand: [Hidden Card] Diamonds of 2, Hearts of 3, Clubs of 2, Spades of 2, Card of Plastic, Diamonds of 3, Clubs of 3, Spades of 3, Diamonds of 4, Clubs of 4, Spades of 4, Hearts of 5, Diamonds of 5, Clubs of 5, Spades of 5, Hearts of 6, Diamonds of 6, Clubs of 6, Spades of 6, Hearts of 7\n",
      "Dealer drew a card: Diamonds of 7\n",
      "Dealer's hand: [Hidden Card] Diamonds of 2, Hearts of 3, Clubs of 2, Spades of 2, Card of Plastic, Diamonds of 3, Clubs of 3, Spades of 3, Diamonds of 4, Clubs of 4, Spades of 4, Hearts of 5, Diamonds of 5, Clubs of 5, Spades of 5, Hearts of 6, Diamonds of 6, Clubs of 6, Spades of 6, Hearts of 7, Diamonds of 7\n",
      "Dealer drew a card: Clubs of 7\n",
      "Dealer's hand: [Hidden Card] Diamonds of 2, Hearts of 3, Clubs of 2, Spades of 2, Card of Plastic, Diamonds of 3, Clubs of 3, Spades of 3, Diamonds of 4, Clubs of 4, Spades of 4, Hearts of 5, Diamonds of 5, Clubs of 5, Spades of 5, Hearts of 6, Diamonds of 6, Clubs of 6, Spades of 6, Hearts of 7, Diamonds of 7, Clubs of 7\n",
      "Dealer drew a card: Spades of 7\n",
      "Dealer's hand: [Hidden Card] Diamonds of 2, Hearts of 3, Clubs of 2, Spades of 2, Card of Plastic, Diamonds of 3, Clubs of 3, Spades of 3, Diamonds of 4, Clubs of 4, Spades of 4, Hearts of 5, Diamonds of 5, Clubs of 5, Spades of 5, Hearts of 6, Diamonds of 6, Clubs of 6, Spades of 6, Hearts of 7, Diamonds of 7, Clubs of 7, Spades of 7\n",
      "Dealer drew a card: Hearts of 8\n",
      "Dealer's hand: [Hidden Card] Diamonds of 2, Hearts of 3, Clubs of 2, Spades of 2, Card of Plastic, Diamonds of 3, Clubs of 3, Spades of 3, Diamonds of 4, Clubs of 4, Spades of 4, Hearts of 5, Diamonds of 5, Clubs of 5, Spades of 5, Hearts of 6, Diamonds of 6, Clubs of 6, Spades of 6, Hearts of 7, Diamonds of 7, Clubs of 7, Spades of 7, Hearts of 8\n",
      "Dealer drew a card: Diamonds of 8\n",
      "Dealer's hand: [Hidden Card] Diamonds of 2, Hearts of 3, Clubs of 2, Spades of 2, Card of Plastic, Diamonds of 3, Clubs of 3, Spades of 3, Diamonds of 4, Clubs of 4, Spades of 4, Hearts of 5, Diamonds of 5, Clubs of 5, Spades of 5, Hearts of 6, Diamonds of 6, Clubs of 6, Spades of 6, Hearts of 7, Diamonds of 7, Clubs of 7, Spades of 7, Hearts of 8, Diamonds of 8\n",
      "Dealer drew a card: Clubs of 8\n",
      "Dealer's hand: [Hidden Card] Diamonds of 2, Hearts of 3, Clubs of 2, Spades of 2, Card of Plastic, Diamonds of 3, Clubs of 3, Spades of 3, Diamonds of 4, Clubs of 4, Spades of 4, Hearts of 5, Diamonds of 5, Clubs of 5, Spades of 5, Hearts of 6, Diamonds of 6, Clubs of 6, Spades of 6, Hearts of 7, Diamonds of 7, Clubs of 7, Spades of 7, Hearts of 8, Diamonds of 8, Clubs of 8\n",
      "Dealer drew a card: Spades of 8\n",
      "Dealer's hand: [Hidden Card] Diamonds of 2, Hearts of 3, Clubs of 2, Spades of 2, Card of Plastic, Diamonds of 3, Clubs of 3, Spades of 3, Diamonds of 4, Clubs of 4, Spades of 4, Hearts of 5, Diamonds of 5, Clubs of 5, Spades of 5, Hearts of 6, Diamonds of 6, Clubs of 6, Spades of 6, Hearts of 7, Diamonds of 7, Clubs of 7, Spades of 7, Hearts of 8, Diamonds of 8, Clubs of 8, Spades of 8\n",
      "Dealer drew a card: Hearts of 9\n",
      "Dealer's hand: [Hidden Card] Diamonds of 2, Hearts of 3, Clubs of 2, Spades of 2, Card of Plastic, Diamonds of 3, Clubs of 3, Spades of 3, Diamonds of 4, Clubs of 4, Spades of 4, Hearts of 5, Diamonds of 5, Clubs of 5, Spades of 5, Hearts of 6, Diamonds of 6, Clubs of 6, Spades of 6, Hearts of 7, Diamonds of 7, Clubs of 7, Spades of 7, Hearts of 8, Diamonds of 8, Clubs of 8, Spades of 8, Hearts of 9\n",
      "Dealer drew a card: Diamonds of 9\n",
      "Dealer's hand: [Hidden Card] Diamonds of 2, Hearts of 3, Clubs of 2, Spades of 2, Card of Plastic, Diamonds of 3, Clubs of 3, Spades of 3, Diamonds of 4, Clubs of 4, Spades of 4, Hearts of 5, Diamonds of 5, Clubs of 5, Spades of 5, Hearts of 6, Diamonds of 6, Clubs of 6, Spades of 6, Hearts of 7, Diamonds of 7, Clubs of 7, Spades of 7, Hearts of 8, Diamonds of 8, Clubs of 8, Spades of 8, Hearts of 9, Diamonds of 9\n",
      "Dealer drew a card: Clubs of 9\n",
      "Dealer's hand: [Hidden Card] Diamonds of 2, Hearts of 3, Clubs of 2, Spades of 2, Card of Plastic, Diamonds of 3, Clubs of 3, Spades of 3, Diamonds of 4, Clubs of 4, Spades of 4, Hearts of 5, Diamonds of 5, Clubs of 5, Spades of 5, Hearts of 6, Diamonds of 6, Clubs of 6, Spades of 6, Hearts of 7, Diamonds of 7, Clubs of 7, Spades of 7, Hearts of 8, Diamonds of 8, Clubs of 8, Spades of 8, Hearts of 9, Diamonds of 9, Clubs of 9\n",
      "Dealer drew a card: Spades of 9\n",
      "Dealer's hand: [Hidden Card] Diamonds of 2, Hearts of 3, Clubs of 2, Spades of 2, Card of Plastic, Diamonds of 3, Clubs of 3, Spades of 3, Diamonds of 4, Clubs of 4, Spades of 4, Hearts of 5, Diamonds of 5, Clubs of 5, Spades of 5, Hearts of 6, Diamonds of 6, Clubs of 6, Spades of 6, Hearts of 7, Diamonds of 7, Clubs of 7, Spades of 7, Hearts of 8, Diamonds of 8, Clubs of 8, Spades of 8, Hearts of 9, Diamonds of 9, Clubs of 9, Spades of 9\n",
      "Dealer drew a card: Hearts of 10\n",
      "Dealer's hand: [Hidden Card] Diamonds of 2, Hearts of 3, Clubs of 2, Spades of 2, Card of Plastic, Diamonds of 3, Clubs of 3, Spades of 3, Diamonds of 4, Clubs of 4, Spades of 4, Hearts of 5, Diamonds of 5, Clubs of 5, Spades of 5, Hearts of 6, Diamonds of 6, Clubs of 6, Spades of 6, Hearts of 7, Diamonds of 7, Clubs of 7, Spades of 7, Hearts of 8, Diamonds of 8, Clubs of 8, Spades of 8, Hearts of 9, Diamonds of 9, Clubs of 9, Spades of 9, Hearts of 10\n",
      "Dealer drew a card: Diamonds of 10\n",
      "Dealer's hand: [Hidden Card] Diamonds of 2, Hearts of 3, Clubs of 2, Spades of 2, Card of Plastic, Diamonds of 3, Clubs of 3, Spades of 3, Diamonds of 4, Clubs of 4, Spades of 4, Hearts of 5, Diamonds of 5, Clubs of 5, Spades of 5, Hearts of 6, Diamonds of 6, Clubs of 6, Spades of 6, Hearts of 7, Diamonds of 7, Clubs of 7, Spades of 7, Hearts of 8, Diamonds of 8, Clubs of 8, Spades of 8, Hearts of 9, Diamonds of 9, Clubs of 9, Spades of 9, Hearts of 10, Diamonds of 10\n",
      "Dealer drew a card: Clubs of 10\n",
      "Dealer's hand: [Hidden Card] Diamonds of 2, Hearts of 3, Clubs of 2, Spades of 2, Card of Plastic, Diamonds of 3, Clubs of 3, Spades of 3, Diamonds of 4, Clubs of 4, Spades of 4, Hearts of 5, Diamonds of 5, Clubs of 5, Spades of 5, Hearts of 6, Diamonds of 6, Clubs of 6, Spades of 6, Hearts of 7, Diamonds of 7, Clubs of 7, Spades of 7, Hearts of 8, Diamonds of 8, Clubs of 8, Spades of 8, Hearts of 9, Diamonds of 9, Clubs of 9, Spades of 9, Hearts of 10, Diamonds of 10, Clubs of 10\n",
      "Dealer drew a card: Spades of 10\n",
      "Dealer's hand: [Hidden Card] Diamonds of 2, Hearts of 3, Clubs of 2, Spades of 2, Card of Plastic, Diamonds of 3, Clubs of 3, Spades of 3, Diamonds of 4, Clubs of 4, Spades of 4, Hearts of 5, Diamonds of 5, Clubs of 5, Spades of 5, Hearts of 6, Diamonds of 6, Clubs of 6, Spades of 6, Hearts of 7, Diamonds of 7, Clubs of 7, Spades of 7, Hearts of 8, Diamonds of 8, Clubs of 8, Spades of 8, Hearts of 9, Diamonds of 9, Clubs of 9, Spades of 9, Hearts of 10, Diamonds of 10, Clubs of 10, Spades of 10\n",
      "Dealer drew a card: Hearts of Jack\n",
      "Dealer's hand: [Hidden Card] Diamonds of 2, Hearts of 3, Clubs of 2, Spades of 2, Card of Plastic, Diamonds of 3, Clubs of 3, Spades of 3, Diamonds of 4, Clubs of 4, Spades of 4, Hearts of 5, Diamonds of 5, Clubs of 5, Spades of 5, Hearts of 6, Diamonds of 6, Clubs of 6, Spades of 6, Hearts of 7, Diamonds of 7, Clubs of 7, Spades of 7, Hearts of 8, Diamonds of 8, Clubs of 8, Spades of 8, Hearts of 9, Diamonds of 9, Clubs of 9, Spades of 9, Hearts of 10, Diamonds of 10, Clubs of 10, Spades of 10, Hearts of Jack\n",
      "Dealer drew a card: Diamonds of Jack\n",
      "Dealer's hand: [Hidden Card] Diamonds of 2, Hearts of 3, Clubs of 2, Spades of 2, Card of Plastic, Diamonds of 3, Clubs of 3, Spades of 3, Diamonds of 4, Clubs of 4, Spades of 4, Hearts of 5, Diamonds of 5, Clubs of 5, Spades of 5, Hearts of 6, Diamonds of 6, Clubs of 6, Spades of 6, Hearts of 7, Diamonds of 7, Clubs of 7, Spades of 7, Hearts of 8, Diamonds of 8, Clubs of 8, Spades of 8, Hearts of 9, Diamonds of 9, Clubs of 9, Spades of 9, Hearts of 10, Diamonds of 10, Clubs of 10, Spades of 10, Hearts of Jack, Diamonds of Jack\n",
      "Dealer drew a card: Clubs of Jack\n",
      "Dealer's hand: [Hidden Card] Diamonds of 2, Hearts of 3, Clubs of 2, Spades of 2, Card of Plastic, Diamonds of 3, Clubs of 3, Spades of 3, Diamonds of 4, Clubs of 4, Spades of 4, Hearts of 5, Diamonds of 5, Clubs of 5, Spades of 5, Hearts of 6, Diamonds of 6, Clubs of 6, Spades of 6, Hearts of 7, Diamonds of 7, Clubs of 7, Spades of 7, Hearts of 8, Diamonds of 8, Clubs of 8, Spades of 8, Hearts of 9, Diamonds of 9, Clubs of 9, Spades of 9, Hearts of 10, Diamonds of 10, Clubs of 10, Spades of 10, Hearts of Jack, Diamonds of Jack, Clubs of Jack\n",
      "Dealer drew a card: Spades of Jack\n",
      "Dealer's hand: [Hidden Card] Diamonds of 2, Hearts of 3, Clubs of 2, Spades of 2, Card of Plastic, Diamonds of 3, Clubs of 3, Spades of 3, Diamonds of 4, Clubs of 4, Spades of 4, Hearts of 5, Diamonds of 5, Clubs of 5, Spades of 5, Hearts of 6, Diamonds of 6, Clubs of 6, Spades of 6, Hearts of 7, Diamonds of 7, Clubs of 7, Spades of 7, Hearts of 8, Diamonds of 8, Clubs of 8, Spades of 8, Hearts of 9, Diamonds of 9, Clubs of 9, Spades of 9, Hearts of 10, Diamonds of 10, Clubs of 10, Spades of 10, Hearts of Jack, Diamonds of Jack, Clubs of Jack, Spades of Jack\n",
      "Dealer drew a card: Hearts of Queen\n",
      "Dealer's hand: [Hidden Card] Diamonds of 2, Hearts of 3, Clubs of 2, Spades of 2, Card of Plastic, Diamonds of 3, Clubs of 3, Spades of 3, Diamonds of 4, Clubs of 4, Spades of 4, Hearts of 5, Diamonds of 5, Clubs of 5, Spades of 5, Hearts of 6, Diamonds of 6, Clubs of 6, Spades of 6, Hearts of 7, Diamonds of 7, Clubs of 7, Spades of 7, Hearts of 8, Diamonds of 8, Clubs of 8, Spades of 8, Hearts of 9, Diamonds of 9, Clubs of 9, Spades of 9, Hearts of 10, Diamonds of 10, Clubs of 10, Spades of 10, Hearts of Jack, Diamonds of Jack, Clubs of Jack, Spades of Jack, Hearts of Queen\n",
      "Dealer drew a card: Diamonds of Queen\n",
      "Dealer's hand: [Hidden Card] Diamonds of 2, Hearts of 3, Clubs of 2, Spades of 2, Card of Plastic, Diamonds of 3, Clubs of 3, Spades of 3, Diamonds of 4, Clubs of 4, Spades of 4, Hearts of 5, Diamonds of 5, Clubs of 5, Spades of 5, Hearts of 6, Diamonds of 6, Clubs of 6, Spades of 6, Hearts of 7, Diamonds of 7, Clubs of 7, Spades of 7, Hearts of 8, Diamonds of 8, Clubs of 8, Spades of 8, Hearts of 9, Diamonds of 9, Clubs of 9, Spades of 9, Hearts of 10, Diamonds of 10, Clubs of 10, Spades of 10, Hearts of Jack, Diamonds of Jack, Clubs of Jack, Spades of Jack, Hearts of Queen, Diamonds of Queen\n",
      "Dealer drew a card: Clubs of Queen\n",
      "Dealer's hand: [Hidden Card] Diamonds of 2, Hearts of 3, Clubs of 2, Spades of 2, Card of Plastic, Diamonds of 3, Clubs of 3, Spades of 3, Diamonds of 4, Clubs of 4, Spades of 4, Hearts of 5, Diamonds of 5, Clubs of 5, Spades of 5, Hearts of 6, Diamonds of 6, Clubs of 6, Spades of 6, Hearts of 7, Diamonds of 7, Clubs of 7, Spades of 7, Hearts of 8, Diamonds of 8, Clubs of 8, Spades of 8, Hearts of 9, Diamonds of 9, Clubs of 9, Spades of 9, Hearts of 10, Diamonds of 10, Clubs of 10, Spades of 10, Hearts of Jack, Diamonds of Jack, Clubs of Jack, Spades of Jack, Hearts of Queen, Diamonds of Queen, Clubs of Queen\n",
      "Dealer drew a card: Spades of Queen\n",
      "Dealer's hand: [Hidden Card] Diamonds of 2, Hearts of 3, Clubs of 2, Spades of 2, Card of Plastic, Diamonds of 3, Clubs of 3, Spades of 3, Diamonds of 4, Clubs of 4, Spades of 4, Hearts of 5, Diamonds of 5, Clubs of 5, Spades of 5, Hearts of 6, Diamonds of 6, Clubs of 6, Spades of 6, Hearts of 7, Diamonds of 7, Clubs of 7, Spades of 7, Hearts of 8, Diamonds of 8, Clubs of 8, Spades of 8, Hearts of 9, Diamonds of 9, Clubs of 9, Spades of 9, Hearts of 10, Diamonds of 10, Clubs of 10, Spades of 10, Hearts of Jack, Diamonds of Jack, Clubs of Jack, Spades of Jack, Hearts of Queen, Diamonds of Queen, Clubs of Queen, Spades of Queen\n",
      "Dealer drew a card: Hearts of King\n",
      "Dealer's hand: [Hidden Card] Diamonds of 2, Hearts of 3, Clubs of 2, Spades of 2, Card of Plastic, Diamonds of 3, Clubs of 3, Spades of 3, Diamonds of 4, Clubs of 4, Spades of 4, Hearts of 5, Diamonds of 5, Clubs of 5, Spades of 5, Hearts of 6, Diamonds of 6, Clubs of 6, Spades of 6, Hearts of 7, Diamonds of 7, Clubs of 7, Spades of 7, Hearts of 8, Diamonds of 8, Clubs of 8, Spades of 8, Hearts of 9, Diamonds of 9, Clubs of 9, Spades of 9, Hearts of 10, Diamonds of 10, Clubs of 10, Spades of 10, Hearts of Jack, Diamonds of Jack, Clubs of Jack, Spades of Jack, Hearts of Queen, Diamonds of Queen, Clubs of Queen, Spades of Queen, Hearts of King\n",
      "Dealer drew a card: Diamonds of King\n",
      "Dealer's hand: [Hidden Card] Diamonds of 2, Hearts of 3, Clubs of 2, Spades of 2, Card of Plastic, Diamonds of 3, Clubs of 3, Spades of 3, Diamonds of 4, Clubs of 4, Spades of 4, Hearts of 5, Diamonds of 5, Clubs of 5, Spades of 5, Hearts of 6, Diamonds of 6, Clubs of 6, Spades of 6, Hearts of 7, Diamonds of 7, Clubs of 7, Spades of 7, Hearts of 8, Diamonds of 8, Clubs of 8, Spades of 8, Hearts of 9, Diamonds of 9, Clubs of 9, Spades of 9, Hearts of 10, Diamonds of 10, Clubs of 10, Spades of 10, Hearts of Jack, Diamonds of Jack, Clubs of Jack, Spades of Jack, Hearts of Queen, Diamonds of Queen, Clubs of Queen, Spades of Queen, Hearts of King, Diamonds of King\n",
      "Dealer drew a card: Clubs of King\n",
      "Dealer's hand: [Hidden Card] Diamonds of 2, Hearts of 3, Clubs of 2, Spades of 2, Card of Plastic, Diamonds of 3, Clubs of 3, Spades of 3, Diamonds of 4, Clubs of 4, Spades of 4, Hearts of 5, Diamonds of 5, Clubs of 5, Spades of 5, Hearts of 6, Diamonds of 6, Clubs of 6, Spades of 6, Hearts of 7, Diamonds of 7, Clubs of 7, Spades of 7, Hearts of 8, Diamonds of 8, Clubs of 8, Spades of 8, Hearts of 9, Diamonds of 9, Clubs of 9, Spades of 9, Hearts of 10, Diamonds of 10, Clubs of 10, Spades of 10, Hearts of Jack, Diamonds of Jack, Clubs of Jack, Spades of Jack, Hearts of Queen, Diamonds of Queen, Clubs of Queen, Spades of Queen, Hearts of King, Diamonds of King, Clubs of King\n",
      "Dealer drew a card: Spades of King\n",
      "Dealer's hand: [Hidden Card] Diamonds of 2, Hearts of 3, Clubs of 2, Spades of 2, Card of Plastic, Diamonds of 3, Clubs of 3, Spades of 3, Diamonds of 4, Clubs of 4, Spades of 4, Hearts of 5, Diamonds of 5, Clubs of 5, Spades of 5, Hearts of 6, Diamonds of 6, Clubs of 6, Spades of 6, Hearts of 7, Diamonds of 7, Clubs of 7, Spades of 7, Hearts of 8, Diamonds of 8, Clubs of 8, Spades of 8, Hearts of 9, Diamonds of 9, Clubs of 9, Spades of 9, Hearts of 10, Diamonds of 10, Clubs of 10, Spades of 10, Hearts of Jack, Diamonds of Jack, Clubs of Jack, Spades of Jack, Hearts of Queen, Diamonds of Queen, Clubs of Queen, Spades of Queen, Hearts of King, Diamonds of King, Clubs of King, Spades of King\n",
      "Dealer drew a card: Hearts of Ace\n",
      "Dealer's hand: [Hidden Card] Diamonds of 2, Hearts of 3, Clubs of 2, Spades of 2, Card of Plastic, Diamonds of 3, Clubs of 3, Spades of 3, Diamonds of 4, Clubs of 4, Spades of 4, Hearts of 5, Diamonds of 5, Clubs of 5, Spades of 5, Hearts of 6, Diamonds of 6, Clubs of 6, Spades of 6, Hearts of 7, Diamonds of 7, Clubs of 7, Spades of 7, Hearts of 8, Diamonds of 8, Clubs of 8, Spades of 8, Hearts of 9, Diamonds of 9, Clubs of 9, Spades of 9, Hearts of 10, Diamonds of 10, Clubs of 10, Spades of 10, Hearts of Jack, Diamonds of Jack, Clubs of Jack, Spades of Jack, Hearts of Queen, Diamonds of Queen, Clubs of Queen, Spades of Queen, Hearts of King, Diamonds of King, Clubs of King, Spades of King, Hearts of Ace\n",
      "Dealer drew a card: Diamonds of Ace\n",
      "Dealer's hand: [Hidden Card] Diamonds of 2, Hearts of 3, Clubs of 2, Spades of 2, Card of Plastic, Diamonds of 3, Clubs of 3, Spades of 3, Diamonds of 4, Clubs of 4, Spades of 4, Hearts of 5, Diamonds of 5, Clubs of 5, Spades of 5, Hearts of 6, Diamonds of 6, Clubs of 6, Spades of 6, Hearts of 7, Diamonds of 7, Clubs of 7, Spades of 7, Hearts of 8, Diamonds of 8, Clubs of 8, Spades of 8, Hearts of 9, Diamonds of 9, Clubs of 9, Spades of 9, Hearts of 10, Diamonds of 10, Clubs of 10, Spades of 10, Hearts of Jack, Diamonds of Jack, Clubs of Jack, Spades of Jack, Hearts of Queen, Diamonds of Queen, Clubs of Queen, Spades of Queen, Hearts of King, Diamonds of King, Clubs of King, Spades of King, Hearts of Ace, Diamonds of Ace\n",
      "Dealer drew a card: Clubs of Ace\n",
      "Dealer's hand: [Hidden Card] Diamonds of 2, Hearts of 3, Clubs of 2, Spades of 2, Card of Plastic, Diamonds of 3, Clubs of 3, Spades of 3, Diamonds of 4, Clubs of 4, Spades of 4, Hearts of 5, Diamonds of 5, Clubs of 5, Spades of 5, Hearts of 6, Diamonds of 6, Clubs of 6, Spades of 6, Hearts of 7, Diamonds of 7, Clubs of 7, Spades of 7, Hearts of 8, Diamonds of 8, Clubs of 8, Spades of 8, Hearts of 9, Diamonds of 9, Clubs of 9, Spades of 9, Hearts of 10, Diamonds of 10, Clubs of 10, Spades of 10, Hearts of Jack, Diamonds of Jack, Clubs of Jack, Spades of Jack, Hearts of Queen, Diamonds of Queen, Clubs of Queen, Spades of Queen, Hearts of King, Diamonds of King, Clubs of King, Spades of King, Hearts of Ace, Diamonds of Ace, Clubs of Ace\n",
      "Dealer drew a card: Spades of Ace\n",
      "Dealer's hand: [Hidden Card] Diamonds of 2, Hearts of 3, Clubs of 2, Spades of 2, Card of Plastic, Diamonds of 3, Clubs of 3, Spades of 3, Diamonds of 4, Clubs of 4, Spades of 4, Hearts of 5, Diamonds of 5, Clubs of 5, Spades of 5, Hearts of 6, Diamonds of 6, Clubs of 6, Spades of 6, Hearts of 7, Diamonds of 7, Clubs of 7, Spades of 7, Hearts of 8, Diamonds of 8, Clubs of 8, Spades of 8, Hearts of 9, Diamonds of 9, Clubs of 9, Spades of 9, Hearts of 10, Diamonds of 10, Clubs of 10, Spades of 10, Hearts of Jack, Diamonds of Jack, Clubs of Jack, Spades of Jack, Hearts of Queen, Diamonds of Queen, Clubs of Queen, Spades of Queen, Hearts of King, Diamonds of King, Clubs of King, Spades of King, Hearts of Ace, Diamonds of Ace, Clubs of Ace, Spades of Ace\n",
      "No more cards in the deck.\n"
     ]
    },
    {
     "name": "stdin",
     "output_type": "stream",
     "text": [
      "Do you want to continue playing? (y/n):  n\n"
     ]
    },
    {
     "name": "stdout",
     "output_type": "stream",
     "text": [
      "End of the Game!\n",
      "Player 1's hand: Hearts of 2, Diamonds of 2, Hearts of 3\n",
      "Player 2's hand: Clubs of 2, Spades of 2, Card of Plastic\n",
      "Dealer's hand:\n",
      "Dealer's hand: [Hidden Card] Diamonds of 2, Hearts of 3, Clubs of 2, Spades of 2, Card of Plastic\n"
     ]
    }
   ],
   "source": [
    "# Testing the solutions\n",
    "num_players = 2  \n",
    "game = Game(num_players)\n",
    "\n",
    "# Start the game\n",
    "game.start()\n",
    "\n",
    "# Play multiple rounds\n",
    "round_count = 1\n",
    "while True:\n",
    "    print(f\"\\n--- Round {round_count} ---\")\n",
    "    game.play_round()\n",
    "    if input(\"Do you want to continue playing? (y/n): \").lower() != 'y':\n",
    "        break\n",
    "    round_count += 1\n",
    "\n",
    "# End the game\n",
    "game.end()"
   ]
  },
  {
   "cell_type": "markdown",
   "metadata": {},
   "source": [
    "6. Implement a new player with the following strategy:\n",
    "\n",
    "    * Assign each card a value: \n",
    "        * Cards 2 to 6 are +1 \n",
    "        * Cards 7 to 9 are 0 \n",
    "        * Cards 10 through Ace are -1\n",
    "    * Compute the sum of the values for all cards seen so far.\n",
    "    * Hit if sum is very negative, stay if sum is very positive. Select a threshold for hit/stay, e.g. 0 or -2.  "
   ]
  },
  {
   "cell_type": "code",
   "execution_count": 10,
   "metadata": {},
   "outputs": [],
   "source": [
    "class CardCountingPlayer(Player):\n",
    "    def __init__(self, name):\n",
    "        super().__init__(name)\n",
    "        self.card_count = 0\n",
    "\n",
    "    def draw_card(self, deck):\n",
    "        card = deck.draw_card()\n",
    "        if card:\n",
    "            if card.rank.isdigit():\n",
    "                value = 1 if 2 <= int(card.rank) <= 6 else (-1 if int(card.rank) >= 10 else 0)\n",
    "                self.card_count += value\n",
    "            elif card.rank in ['Jack', 'Queen', 'King', 'Ace']:\n",
    "                self.card_count -= 1\n",
    "            super().draw_card(deck)\n",
    "        else:\n",
    "            print(\"No more cards in the deck.\")\n",
    "\n",
    "    def decide(self):\n",
    "        if self.card_count <= -2:\n",
    "            return 'h'  # Hit if the count is very negative\n",
    "        else:\n",
    "            return 's'  # Stay otherwise"
   ]
  },
  {
   "cell_type": "code",
   "execution_count": 11,
   "metadata": {},
   "outputs": [
    {
     "name": "stdout",
     "output_type": "stream",
     "text": [
      "Starting the game!\n",
      "Not enough cards in the deck. Reshuffling...\n",
      "Player 1 drew a card: Hearts of 2\n",
      "Player 1 drew a card: Diamonds of 2\n",
      "Card Counting Player drew a card: Spades of 2\n",
      "Card Counting Player drew a card: Diamonds of 3\n",
      "\n",
      "--- Round 1 ---\n",
      "Starting Round\n",
      "Player 1's hand: Hearts of 2, Diamonds of 2, Hearts of 3, Hearts of 2, Diamonds of 2\n"
     ]
    },
    {
     "name": "stdin",
     "output_type": "stream",
     "text": [
      "Player 1, do you want to hit or stand? (h/s):  h\n"
     ]
    },
    {
     "name": "stdout",
     "output_type": "stream",
     "text": [
      "Player 1 drew a card: Clubs of 3\n",
      "Player 1's hand: Hearts of 2, Diamonds of 2, Hearts of 3, Hearts of 2, Diamonds of 2, Clubs of 3\n"
     ]
    },
    {
     "name": "stdin",
     "output_type": "stream",
     "text": [
      "Player 1, do you want to hit or stand? (h/s):  s\n"
     ]
    },
    {
     "name": "stdout",
     "output_type": "stream",
     "text": [
      "Card Counting Player's hand: Spades of 2, Diamonds of 3\n"
     ]
    },
    {
     "name": "stdin",
     "output_type": "stream",
     "text": [
      "Card Counting Player, do you want to hit or stand? (h/s):  h\n"
     ]
    },
    {
     "name": "stdout",
     "output_type": "stream",
     "text": [
      "Card Counting Player drew a card: Hearts of 4\n",
      "Card Counting Player's hand: Spades of 2, Diamonds of 3, Hearts of 4\n"
     ]
    },
    {
     "name": "stdin",
     "output_type": "stream",
     "text": [
      "Card Counting Player, do you want to hit or stand? (h/s):  s\n"
     ]
    },
    {
     "name": "stdout",
     "output_type": "stream",
     "text": [
      "Dealer's turn:\n",
      "Dealer's hand: [Hidden Card] Diamonds of 2, Hearts of 3, Hearts of 2, Diamonds of 2, Clubs of 3, Spades of 2, Diamonds of 3, Hearts of 4\n",
      "Dealer drew a card: Diamonds of 4\n",
      "Dealer's hand: [Hidden Card] Diamonds of 2, Hearts of 3, Hearts of 2, Diamonds of 2, Clubs of 3, Spades of 2, Diamonds of 3, Hearts of 4, Diamonds of 4\n",
      "Dealer drew a card: Clubs of 4\n",
      "Dealer's hand: [Hidden Card] Diamonds of 2, Hearts of 3, Hearts of 2, Diamonds of 2, Clubs of 3, Spades of 2, Diamonds of 3, Hearts of 4, Diamonds of 4, Clubs of 4\n",
      "Dealer drew a card: Spades of 4\n",
      "Dealer's hand: [Hidden Card] Diamonds of 2, Hearts of 3, Hearts of 2, Diamonds of 2, Clubs of 3, Spades of 2, Diamonds of 3, Hearts of 4, Diamonds of 4, Clubs of 4, Spades of 4\n",
      "Dealer drew a card: Hearts of 5\n",
      "Dealer's hand: [Hidden Card] Diamonds of 2, Hearts of 3, Hearts of 2, Diamonds of 2, Clubs of 3, Spades of 2, Diamonds of 3, Hearts of 4, Diamonds of 4, Clubs of 4, Spades of 4, Hearts of 5\n",
      "Dealer drew a card: Diamonds of 5\n",
      "Dealer's hand: [Hidden Card] Diamonds of 2, Hearts of 3, Hearts of 2, Diamonds of 2, Clubs of 3, Spades of 2, Diamonds of 3, Hearts of 4, Diamonds of 4, Clubs of 4, Spades of 4, Hearts of 5, Diamonds of 5\n",
      "Dealer drew a card: Clubs of 5\n",
      "Dealer's hand: [Hidden Card] Diamonds of 2, Hearts of 3, Hearts of 2, Diamonds of 2, Clubs of 3, Spades of 2, Diamonds of 3, Hearts of 4, Diamonds of 4, Clubs of 4, Spades of 4, Hearts of 5, Diamonds of 5, Clubs of 5\n",
      "Dealer drew a card: Spades of 5\n",
      "Dealer's hand: [Hidden Card] Diamonds of 2, Hearts of 3, Hearts of 2, Diamonds of 2, Clubs of 3, Spades of 2, Diamonds of 3, Hearts of 4, Diamonds of 4, Clubs of 4, Spades of 4, Hearts of 5, Diamonds of 5, Clubs of 5, Spades of 5\n",
      "Dealer drew a card: Hearts of 6\n",
      "Dealer's hand: [Hidden Card] Diamonds of 2, Hearts of 3, Hearts of 2, Diamonds of 2, Clubs of 3, Spades of 2, Diamonds of 3, Hearts of 4, Diamonds of 4, Clubs of 4, Spades of 4, Hearts of 5, Diamonds of 5, Clubs of 5, Spades of 5, Hearts of 6\n",
      "Dealer drew a card: Diamonds of 6\n",
      "Dealer's hand: [Hidden Card] Diamonds of 2, Hearts of 3, Hearts of 2, Diamonds of 2, Clubs of 3, Spades of 2, Diamonds of 3, Hearts of 4, Diamonds of 4, Clubs of 4, Spades of 4, Hearts of 5, Diamonds of 5, Clubs of 5, Spades of 5, Hearts of 6, Diamonds of 6\n",
      "Dealer drew a card: Clubs of 6\n",
      "Dealer's hand: [Hidden Card] Diamonds of 2, Hearts of 3, Hearts of 2, Diamonds of 2, Clubs of 3, Spades of 2, Diamonds of 3, Hearts of 4, Diamonds of 4, Clubs of 4, Spades of 4, Hearts of 5, Diamonds of 5, Clubs of 5, Spades of 5, Hearts of 6, Diamonds of 6, Clubs of 6\n",
      "Dealer drew a card: Spades of 6\n",
      "Dealer's hand: [Hidden Card] Diamonds of 2, Hearts of 3, Hearts of 2, Diamonds of 2, Clubs of 3, Spades of 2, Diamonds of 3, Hearts of 4, Diamonds of 4, Clubs of 4, Spades of 4, Hearts of 5, Diamonds of 5, Clubs of 5, Spades of 5, Hearts of 6, Diamonds of 6, Clubs of 6, Spades of 6\n",
      "Dealer drew a card: Hearts of 7\n",
      "Dealer's hand: [Hidden Card] Diamonds of 2, Hearts of 3, Hearts of 2, Diamonds of 2, Clubs of 3, Spades of 2, Diamonds of 3, Hearts of 4, Diamonds of 4, Clubs of 4, Spades of 4, Hearts of 5, Diamonds of 5, Clubs of 5, Spades of 5, Hearts of 6, Diamonds of 6, Clubs of 6, Spades of 6, Hearts of 7\n",
      "Dealer drew a card: Diamonds of 7\n",
      "Dealer's hand: [Hidden Card] Diamonds of 2, Hearts of 3, Hearts of 2, Diamonds of 2, Clubs of 3, Spades of 2, Diamonds of 3, Hearts of 4, Diamonds of 4, Clubs of 4, Spades of 4, Hearts of 5, Diamonds of 5, Clubs of 5, Spades of 5, Hearts of 6, Diamonds of 6, Clubs of 6, Spades of 6, Hearts of 7, Diamonds of 7\n",
      "Dealer drew a card: Clubs of 7\n",
      "Dealer's hand: [Hidden Card] Diamonds of 2, Hearts of 3, Hearts of 2, Diamonds of 2, Clubs of 3, Spades of 2, Diamonds of 3, Hearts of 4, Diamonds of 4, Clubs of 4, Spades of 4, Hearts of 5, Diamonds of 5, Clubs of 5, Spades of 5, Hearts of 6, Diamonds of 6, Clubs of 6, Spades of 6, Hearts of 7, Diamonds of 7, Clubs of 7\n",
      "Dealer drew a card: Spades of 7\n",
      "Dealer's hand: [Hidden Card] Diamonds of 2, Hearts of 3, Hearts of 2, Diamonds of 2, Clubs of 3, Spades of 2, Diamonds of 3, Hearts of 4, Diamonds of 4, Clubs of 4, Spades of 4, Hearts of 5, Diamonds of 5, Clubs of 5, Spades of 5, Hearts of 6, Diamonds of 6, Clubs of 6, Spades of 6, Hearts of 7, Diamonds of 7, Clubs of 7, Spades of 7\n",
      "Dealer drew a card: Hearts of 8\n",
      "Dealer's hand: [Hidden Card] Diamonds of 2, Hearts of 3, Hearts of 2, Diamonds of 2, Clubs of 3, Spades of 2, Diamonds of 3, Hearts of 4, Diamonds of 4, Clubs of 4, Spades of 4, Hearts of 5, Diamonds of 5, Clubs of 5, Spades of 5, Hearts of 6, Diamonds of 6, Clubs of 6, Spades of 6, Hearts of 7, Diamonds of 7, Clubs of 7, Spades of 7, Hearts of 8\n",
      "Dealer drew a card: Diamonds of 8\n",
      "Dealer's hand: [Hidden Card] Diamonds of 2, Hearts of 3, Hearts of 2, Diamonds of 2, Clubs of 3, Spades of 2, Diamonds of 3, Hearts of 4, Diamonds of 4, Clubs of 4, Spades of 4, Hearts of 5, Diamonds of 5, Clubs of 5, Spades of 5, Hearts of 6, Diamonds of 6, Clubs of 6, Spades of 6, Hearts of 7, Diamonds of 7, Clubs of 7, Spades of 7, Hearts of 8, Diamonds of 8\n",
      "Dealer drew a card: Clubs of 8\n",
      "Dealer's hand: [Hidden Card] Diamonds of 2, Hearts of 3, Hearts of 2, Diamonds of 2, Clubs of 3, Spades of 2, Diamonds of 3, Hearts of 4, Diamonds of 4, Clubs of 4, Spades of 4, Hearts of 5, Diamonds of 5, Clubs of 5, Spades of 5, Hearts of 6, Diamonds of 6, Clubs of 6, Spades of 6, Hearts of 7, Diamonds of 7, Clubs of 7, Spades of 7, Hearts of 8, Diamonds of 8, Clubs of 8\n",
      "Dealer drew a card: Spades of 8\n",
      "Dealer's hand: [Hidden Card] Diamonds of 2, Hearts of 3, Hearts of 2, Diamonds of 2, Clubs of 3, Spades of 2, Diamonds of 3, Hearts of 4, Diamonds of 4, Clubs of 4, Spades of 4, Hearts of 5, Diamonds of 5, Clubs of 5, Spades of 5, Hearts of 6, Diamonds of 6, Clubs of 6, Spades of 6, Hearts of 7, Diamonds of 7, Clubs of 7, Spades of 7, Hearts of 8, Diamonds of 8, Clubs of 8, Spades of 8\n",
      "Dealer drew a card: Hearts of 9\n",
      "Dealer's hand: [Hidden Card] Diamonds of 2, Hearts of 3, Hearts of 2, Diamonds of 2, Clubs of 3, Spades of 2, Diamonds of 3, Hearts of 4, Diamonds of 4, Clubs of 4, Spades of 4, Hearts of 5, Diamonds of 5, Clubs of 5, Spades of 5, Hearts of 6, Diamonds of 6, Clubs of 6, Spades of 6, Hearts of 7, Diamonds of 7, Clubs of 7, Spades of 7, Hearts of 8, Diamonds of 8, Clubs of 8, Spades of 8, Hearts of 9\n",
      "Dealer drew a card: Diamonds of 9\n",
      "Dealer's hand: [Hidden Card] Diamonds of 2, Hearts of 3, Hearts of 2, Diamonds of 2, Clubs of 3, Spades of 2, Diamonds of 3, Hearts of 4, Diamonds of 4, Clubs of 4, Spades of 4, Hearts of 5, Diamonds of 5, Clubs of 5, Spades of 5, Hearts of 6, Diamonds of 6, Clubs of 6, Spades of 6, Hearts of 7, Diamonds of 7, Clubs of 7, Spades of 7, Hearts of 8, Diamonds of 8, Clubs of 8, Spades of 8, Hearts of 9, Diamonds of 9\n",
      "Dealer drew a card: Clubs of 9\n",
      "Dealer's hand: [Hidden Card] Diamonds of 2, Hearts of 3, Hearts of 2, Diamonds of 2, Clubs of 3, Spades of 2, Diamonds of 3, Hearts of 4, Diamonds of 4, Clubs of 4, Spades of 4, Hearts of 5, Diamonds of 5, Clubs of 5, Spades of 5, Hearts of 6, Diamonds of 6, Clubs of 6, Spades of 6, Hearts of 7, Diamonds of 7, Clubs of 7, Spades of 7, Hearts of 8, Diamonds of 8, Clubs of 8, Spades of 8, Hearts of 9, Diamonds of 9, Clubs of 9\n",
      "Dealer drew a card: Spades of 9\n",
      "Dealer's hand: [Hidden Card] Diamonds of 2, Hearts of 3, Hearts of 2, Diamonds of 2, Clubs of 3, Spades of 2, Diamonds of 3, Hearts of 4, Diamonds of 4, Clubs of 4, Spades of 4, Hearts of 5, Diamonds of 5, Clubs of 5, Spades of 5, Hearts of 6, Diamonds of 6, Clubs of 6, Spades of 6, Hearts of 7, Diamonds of 7, Clubs of 7, Spades of 7, Hearts of 8, Diamonds of 8, Clubs of 8, Spades of 8, Hearts of 9, Diamonds of 9, Clubs of 9, Spades of 9\n",
      "Dealer drew a card: Hearts of 10\n",
      "Dealer's hand: [Hidden Card] Diamonds of 2, Hearts of 3, Hearts of 2, Diamonds of 2, Clubs of 3, Spades of 2, Diamonds of 3, Hearts of 4, Diamonds of 4, Clubs of 4, Spades of 4, Hearts of 5, Diamonds of 5, Clubs of 5, Spades of 5, Hearts of 6, Diamonds of 6, Clubs of 6, Spades of 6, Hearts of 7, Diamonds of 7, Clubs of 7, Spades of 7, Hearts of 8, Diamonds of 8, Clubs of 8, Spades of 8, Hearts of 9, Diamonds of 9, Clubs of 9, Spades of 9, Hearts of 10\n",
      "Dealer drew a card: Diamonds of 10\n",
      "Dealer's hand: [Hidden Card] Diamonds of 2, Hearts of 3, Hearts of 2, Diamonds of 2, Clubs of 3, Spades of 2, Diamonds of 3, Hearts of 4, Diamonds of 4, Clubs of 4, Spades of 4, Hearts of 5, Diamonds of 5, Clubs of 5, Spades of 5, Hearts of 6, Diamonds of 6, Clubs of 6, Spades of 6, Hearts of 7, Diamonds of 7, Clubs of 7, Spades of 7, Hearts of 8, Diamonds of 8, Clubs of 8, Spades of 8, Hearts of 9, Diamonds of 9, Clubs of 9, Spades of 9, Hearts of 10, Diamonds of 10\n",
      "Dealer drew a card: Clubs of 10\n",
      "Dealer's hand: [Hidden Card] Diamonds of 2, Hearts of 3, Hearts of 2, Diamonds of 2, Clubs of 3, Spades of 2, Diamonds of 3, Hearts of 4, Diamonds of 4, Clubs of 4, Spades of 4, Hearts of 5, Diamonds of 5, Clubs of 5, Spades of 5, Hearts of 6, Diamonds of 6, Clubs of 6, Spades of 6, Hearts of 7, Diamonds of 7, Clubs of 7, Spades of 7, Hearts of 8, Diamonds of 8, Clubs of 8, Spades of 8, Hearts of 9, Diamonds of 9, Clubs of 9, Spades of 9, Hearts of 10, Diamonds of 10, Clubs of 10\n",
      "Dealer drew a card: Spades of 10\n",
      "Dealer's hand: [Hidden Card] Diamonds of 2, Hearts of 3, Hearts of 2, Diamonds of 2, Clubs of 3, Spades of 2, Diamonds of 3, Hearts of 4, Diamonds of 4, Clubs of 4, Spades of 4, Hearts of 5, Diamonds of 5, Clubs of 5, Spades of 5, Hearts of 6, Diamonds of 6, Clubs of 6, Spades of 6, Hearts of 7, Diamonds of 7, Clubs of 7, Spades of 7, Hearts of 8, Diamonds of 8, Clubs of 8, Spades of 8, Hearts of 9, Diamonds of 9, Clubs of 9, Spades of 9, Hearts of 10, Diamonds of 10, Clubs of 10, Spades of 10\n",
      "Dealer drew a card: Card of Plastic\n",
      "Dealer's hand: [Hidden Card] Diamonds of 2, Hearts of 3, Hearts of 2, Diamonds of 2, Clubs of 3, Spades of 2, Diamonds of 3, Hearts of 4, Diamonds of 4, Clubs of 4, Spades of 4, Hearts of 5, Diamonds of 5, Clubs of 5, Spades of 5, Hearts of 6, Diamonds of 6, Clubs of 6, Spades of 6, Hearts of 7, Diamonds of 7, Clubs of 7, Spades of 7, Hearts of 8, Diamonds of 8, Clubs of 8, Spades of 8, Hearts of 9, Diamonds of 9, Clubs of 9, Spades of 9, Hearts of 10, Diamonds of 10, Clubs of 10, Spades of 10, Card of Plastic\n",
      "Dealer drew a card: Hearts of Jack\n",
      "Dealer's hand: [Hidden Card] Diamonds of 2, Hearts of 3, Hearts of 2, Diamonds of 2, Clubs of 3, Spades of 2, Diamonds of 3, Hearts of 4, Diamonds of 4, Clubs of 4, Spades of 4, Hearts of 5, Diamonds of 5, Clubs of 5, Spades of 5, Hearts of 6, Diamonds of 6, Clubs of 6, Spades of 6, Hearts of 7, Diamonds of 7, Clubs of 7, Spades of 7, Hearts of 8, Diamonds of 8, Clubs of 8, Spades of 8, Hearts of 9, Diamonds of 9, Clubs of 9, Spades of 9, Hearts of 10, Diamonds of 10, Clubs of 10, Spades of 10, Card of Plastic, Hearts of Jack\n",
      "Dealer drew a card: Diamonds of Jack\n",
      "Dealer's hand: [Hidden Card] Diamonds of 2, Hearts of 3, Hearts of 2, Diamonds of 2, Clubs of 3, Spades of 2, Diamonds of 3, Hearts of 4, Diamonds of 4, Clubs of 4, Spades of 4, Hearts of 5, Diamonds of 5, Clubs of 5, Spades of 5, Hearts of 6, Diamonds of 6, Clubs of 6, Spades of 6, Hearts of 7, Diamonds of 7, Clubs of 7, Spades of 7, Hearts of 8, Diamonds of 8, Clubs of 8, Spades of 8, Hearts of 9, Diamonds of 9, Clubs of 9, Spades of 9, Hearts of 10, Diamonds of 10, Clubs of 10, Spades of 10, Card of Plastic, Hearts of Jack, Diamonds of Jack\n",
      "Dealer drew a card: Clubs of Jack\n",
      "Dealer's hand: [Hidden Card] Diamonds of 2, Hearts of 3, Hearts of 2, Diamonds of 2, Clubs of 3, Spades of 2, Diamonds of 3, Hearts of 4, Diamonds of 4, Clubs of 4, Spades of 4, Hearts of 5, Diamonds of 5, Clubs of 5, Spades of 5, Hearts of 6, Diamonds of 6, Clubs of 6, Spades of 6, Hearts of 7, Diamonds of 7, Clubs of 7, Spades of 7, Hearts of 8, Diamonds of 8, Clubs of 8, Spades of 8, Hearts of 9, Diamonds of 9, Clubs of 9, Spades of 9, Hearts of 10, Diamonds of 10, Clubs of 10, Spades of 10, Card of Plastic, Hearts of Jack, Diamonds of Jack, Clubs of Jack\n",
      "Dealer drew a card: Spades of Jack\n",
      "Dealer's hand: [Hidden Card] Diamonds of 2, Hearts of 3, Hearts of 2, Diamonds of 2, Clubs of 3, Spades of 2, Diamonds of 3, Hearts of 4, Diamonds of 4, Clubs of 4, Spades of 4, Hearts of 5, Diamonds of 5, Clubs of 5, Spades of 5, Hearts of 6, Diamonds of 6, Clubs of 6, Spades of 6, Hearts of 7, Diamonds of 7, Clubs of 7, Spades of 7, Hearts of 8, Diamonds of 8, Clubs of 8, Spades of 8, Hearts of 9, Diamonds of 9, Clubs of 9, Spades of 9, Hearts of 10, Diamonds of 10, Clubs of 10, Spades of 10, Card of Plastic, Hearts of Jack, Diamonds of Jack, Clubs of Jack, Spades of Jack\n",
      "Dealer drew a card: Hearts of Queen\n",
      "Dealer's hand: [Hidden Card] Diamonds of 2, Hearts of 3, Hearts of 2, Diamonds of 2, Clubs of 3, Spades of 2, Diamonds of 3, Hearts of 4, Diamonds of 4, Clubs of 4, Spades of 4, Hearts of 5, Diamonds of 5, Clubs of 5, Spades of 5, Hearts of 6, Diamonds of 6, Clubs of 6, Spades of 6, Hearts of 7, Diamonds of 7, Clubs of 7, Spades of 7, Hearts of 8, Diamonds of 8, Clubs of 8, Spades of 8, Hearts of 9, Diamonds of 9, Clubs of 9, Spades of 9, Hearts of 10, Diamonds of 10, Clubs of 10, Spades of 10, Card of Plastic, Hearts of Jack, Diamonds of Jack, Clubs of Jack, Spades of Jack, Hearts of Queen\n",
      "Dealer drew a card: Clubs of Queen\n",
      "Dealer's hand: [Hidden Card] Diamonds of 2, Hearts of 3, Hearts of 2, Diamonds of 2, Clubs of 3, Spades of 2, Diamonds of 3, Hearts of 4, Diamonds of 4, Clubs of 4, Spades of 4, Hearts of 5, Diamonds of 5, Clubs of 5, Spades of 5, Hearts of 6, Diamonds of 6, Clubs of 6, Spades of 6, Hearts of 7, Diamonds of 7, Clubs of 7, Spades of 7, Hearts of 8, Diamonds of 8, Clubs of 8, Spades of 8, Hearts of 9, Diamonds of 9, Clubs of 9, Spades of 9, Hearts of 10, Diamonds of 10, Clubs of 10, Spades of 10, Card of Plastic, Hearts of Jack, Diamonds of Jack, Clubs of Jack, Spades of Jack, Hearts of Queen, Clubs of Queen\n",
      "Dealer drew a card: Spades of Queen\n",
      "Dealer's hand: [Hidden Card] Diamonds of 2, Hearts of 3, Hearts of 2, Diamonds of 2, Clubs of 3, Spades of 2, Diamonds of 3, Hearts of 4, Diamonds of 4, Clubs of 4, Spades of 4, Hearts of 5, Diamonds of 5, Clubs of 5, Spades of 5, Hearts of 6, Diamonds of 6, Clubs of 6, Spades of 6, Hearts of 7, Diamonds of 7, Clubs of 7, Spades of 7, Hearts of 8, Diamonds of 8, Clubs of 8, Spades of 8, Hearts of 9, Diamonds of 9, Clubs of 9, Spades of 9, Hearts of 10, Diamonds of 10, Clubs of 10, Spades of 10, Card of Plastic, Hearts of Jack, Diamonds of Jack, Clubs of Jack, Spades of Jack, Hearts of Queen, Clubs of Queen, Spades of Queen\n",
      "Dealer drew a card: Hearts of King\n",
      "Dealer's hand: [Hidden Card] Diamonds of 2, Hearts of 3, Hearts of 2, Diamonds of 2, Clubs of 3, Spades of 2, Diamonds of 3, Hearts of 4, Diamonds of 4, Clubs of 4, Spades of 4, Hearts of 5, Diamonds of 5, Clubs of 5, Spades of 5, Hearts of 6, Diamonds of 6, Clubs of 6, Spades of 6, Hearts of 7, Diamonds of 7, Clubs of 7, Spades of 7, Hearts of 8, Diamonds of 8, Clubs of 8, Spades of 8, Hearts of 9, Diamonds of 9, Clubs of 9, Spades of 9, Hearts of 10, Diamonds of 10, Clubs of 10, Spades of 10, Card of Plastic, Hearts of Jack, Diamonds of Jack, Clubs of Jack, Spades of Jack, Hearts of Queen, Clubs of Queen, Spades of Queen, Hearts of King\n",
      "Dealer drew a card: Diamonds of King\n",
      "Dealer's hand: [Hidden Card] Diamonds of 2, Hearts of 3, Hearts of 2, Diamonds of 2, Clubs of 3, Spades of 2, Diamonds of 3, Hearts of 4, Diamonds of 4, Clubs of 4, Spades of 4, Hearts of 5, Diamonds of 5, Clubs of 5, Spades of 5, Hearts of 6, Diamonds of 6, Clubs of 6, Spades of 6, Hearts of 7, Diamonds of 7, Clubs of 7, Spades of 7, Hearts of 8, Diamonds of 8, Clubs of 8, Spades of 8, Hearts of 9, Diamonds of 9, Clubs of 9, Spades of 9, Hearts of 10, Diamonds of 10, Clubs of 10, Spades of 10, Card of Plastic, Hearts of Jack, Diamonds of Jack, Clubs of Jack, Spades of Jack, Hearts of Queen, Clubs of Queen, Spades of Queen, Hearts of King, Diamonds of King\n",
      "Dealer drew a card: Clubs of King\n",
      "Dealer's hand: [Hidden Card] Diamonds of 2, Hearts of 3, Hearts of 2, Diamonds of 2, Clubs of 3, Spades of 2, Diamonds of 3, Hearts of 4, Diamonds of 4, Clubs of 4, Spades of 4, Hearts of 5, Diamonds of 5, Clubs of 5, Spades of 5, Hearts of 6, Diamonds of 6, Clubs of 6, Spades of 6, Hearts of 7, Diamonds of 7, Clubs of 7, Spades of 7, Hearts of 8, Diamonds of 8, Clubs of 8, Spades of 8, Hearts of 9, Diamonds of 9, Clubs of 9, Spades of 9, Hearts of 10, Diamonds of 10, Clubs of 10, Spades of 10, Card of Plastic, Hearts of Jack, Diamonds of Jack, Clubs of Jack, Spades of Jack, Hearts of Queen, Clubs of Queen, Spades of Queen, Hearts of King, Diamonds of King, Clubs of King\n",
      "Dealer drew a card: Spades of King\n",
      "Dealer's hand: [Hidden Card] Diamonds of 2, Hearts of 3, Hearts of 2, Diamonds of 2, Clubs of 3, Spades of 2, Diamonds of 3, Hearts of 4, Diamonds of 4, Clubs of 4, Spades of 4, Hearts of 5, Diamonds of 5, Clubs of 5, Spades of 5, Hearts of 6, Diamonds of 6, Clubs of 6, Spades of 6, Hearts of 7, Diamonds of 7, Clubs of 7, Spades of 7, Hearts of 8, Diamonds of 8, Clubs of 8, Spades of 8, Hearts of 9, Diamonds of 9, Clubs of 9, Spades of 9, Hearts of 10, Diamonds of 10, Clubs of 10, Spades of 10, Card of Plastic, Hearts of Jack, Diamonds of Jack, Clubs of Jack, Spades of Jack, Hearts of Queen, Clubs of Queen, Spades of Queen, Hearts of King, Diamonds of King, Clubs of King, Spades of King\n",
      "Dealer drew a card: Hearts of Ace\n",
      "Dealer's hand: [Hidden Card] Diamonds of 2, Hearts of 3, Hearts of 2, Diamonds of 2, Clubs of 3, Spades of 2, Diamonds of 3, Hearts of 4, Diamonds of 4, Clubs of 4, Spades of 4, Hearts of 5, Diamonds of 5, Clubs of 5, Spades of 5, Hearts of 6, Diamonds of 6, Clubs of 6, Spades of 6, Hearts of 7, Diamonds of 7, Clubs of 7, Spades of 7, Hearts of 8, Diamonds of 8, Clubs of 8, Spades of 8, Hearts of 9, Diamonds of 9, Clubs of 9, Spades of 9, Hearts of 10, Diamonds of 10, Clubs of 10, Spades of 10, Card of Plastic, Hearts of Jack, Diamonds of Jack, Clubs of Jack, Spades of Jack, Hearts of Queen, Clubs of Queen, Spades of Queen, Hearts of King, Diamonds of King, Clubs of King, Spades of King, Hearts of Ace\n",
      "Dealer drew a card: Diamonds of Ace\n",
      "Dealer's hand: [Hidden Card] Diamonds of 2, Hearts of 3, Hearts of 2, Diamonds of 2, Clubs of 3, Spades of 2, Diamonds of 3, Hearts of 4, Diamonds of 4, Clubs of 4, Spades of 4, Hearts of 5, Diamonds of 5, Clubs of 5, Spades of 5, Hearts of 6, Diamonds of 6, Clubs of 6, Spades of 6, Hearts of 7, Diamonds of 7, Clubs of 7, Spades of 7, Hearts of 8, Diamonds of 8, Clubs of 8, Spades of 8, Hearts of 9, Diamonds of 9, Clubs of 9, Spades of 9, Hearts of 10, Diamonds of 10, Clubs of 10, Spades of 10, Card of Plastic, Hearts of Jack, Diamonds of Jack, Clubs of Jack, Spades of Jack, Hearts of Queen, Clubs of Queen, Spades of Queen, Hearts of King, Diamonds of King, Clubs of King, Spades of King, Hearts of Ace, Diamonds of Ace\n",
      "Dealer drew a card: Clubs of Ace\n",
      "Dealer's hand: [Hidden Card] Diamonds of 2, Hearts of 3, Hearts of 2, Diamonds of 2, Clubs of 3, Spades of 2, Diamonds of 3, Hearts of 4, Diamonds of 4, Clubs of 4, Spades of 4, Hearts of 5, Diamonds of 5, Clubs of 5, Spades of 5, Hearts of 6, Diamonds of 6, Clubs of 6, Spades of 6, Hearts of 7, Diamonds of 7, Clubs of 7, Spades of 7, Hearts of 8, Diamonds of 8, Clubs of 8, Spades of 8, Hearts of 9, Diamonds of 9, Clubs of 9, Spades of 9, Hearts of 10, Diamonds of 10, Clubs of 10, Spades of 10, Card of Plastic, Hearts of Jack, Diamonds of Jack, Clubs of Jack, Spades of Jack, Hearts of Queen, Clubs of Queen, Spades of Queen, Hearts of King, Diamonds of King, Clubs of King, Spades of King, Hearts of Ace, Diamonds of Ace, Clubs of Ace\n",
      "Dealer drew a card: Spades of Ace\n",
      "Dealer's hand: [Hidden Card] Diamonds of 2, Hearts of 3, Hearts of 2, Diamonds of 2, Clubs of 3, Spades of 2, Diamonds of 3, Hearts of 4, Diamonds of 4, Clubs of 4, Spades of 4, Hearts of 5, Diamonds of 5, Clubs of 5, Spades of 5, Hearts of 6, Diamonds of 6, Clubs of 6, Spades of 6, Hearts of 7, Diamonds of 7, Clubs of 7, Spades of 7, Hearts of 8, Diamonds of 8, Clubs of 8, Spades of 8, Hearts of 9, Diamonds of 9, Clubs of 9, Spades of 9, Hearts of 10, Diamonds of 10, Clubs of 10, Spades of 10, Card of Plastic, Hearts of Jack, Diamonds of Jack, Clubs of Jack, Spades of Jack, Hearts of Queen, Clubs of Queen, Spades of Queen, Hearts of King, Diamonds of King, Clubs of King, Spades of King, Hearts of Ace, Diamonds of Ace, Clubs of Ace, Spades of Ace\n",
      "No more cards in the deck.\n"
     ]
    },
    {
     "name": "stdin",
     "output_type": "stream",
     "text": [
      "Do you want to continue playing? (y/n):  n\n"
     ]
    },
    {
     "name": "stdout",
     "output_type": "stream",
     "text": [
      "End of the Game!\n",
      "Player 1's hand: Hearts of 2, Diamonds of 2, Hearts of 3, Hearts of 2, Diamonds of 2, Clubs of 3\n",
      "Card Counting Player's hand: Spades of 2, Diamonds of 3, Hearts of 4\n",
      "Dealer's hand:\n",
      "Dealer's hand: [Hidden Card] Diamonds of 2, Hearts of 3, Hearts of 2, Diamonds of 2, Clubs of 3, Spades of 2, Diamonds of 3, Hearts of 4\n"
     ]
    }
   ],
   "source": [
    "### Testing the solution\n",
    "num_players = 3  \n",
    "\n",
    "# Adding new player with card counting strategy\n",
    "game.players[-1] = CardCountingPlayer(\"Card Counting Player\")\n",
    "\n",
    "# Start the game\n",
    "game.start()\n",
    "\n",
    "# Play multiple rounds\n",
    "round_count = 1\n",
    "while True:\n",
    "    print(f\"\\n--- Round {round_count} ---\")\n",
    "    game.play_round()\n",
    "    if input(\"Do you want to continue playing? (y/n): \").lower() != 'y':\n",
    "        break\n",
    "    round_count += 1\n",
    "\n",
    "# End the game\n",
    "game.end()"
   ]
  },
  {
   "cell_type": "markdown",
   "metadata": {},
   "source": [
    "7. Create a test scenario where one player, using the above strategy, is playing with a dealer and 3 other players that follow the dealer's strategy. Each player starts with same number of chips. Play 50 rounds (or until the strategy player is out of money). Compute the strategy player's winnings. You may remove unnecessary printouts from your code (perhaps implement a verbose/quiet mode) to reduce the output."
   ]
  },
  {
   "cell_type": "code",
   "execution_count": 20,
   "metadata": {},
   "outputs": [
    {
     "name": "stdout",
     "output_type": "stream",
     "text": [
      "\n",
      "--- Round 1 ---\n",
      "Starting Round\n",
      "Strategy Player's hand: \n"
     ]
    },
    {
     "name": "stdin",
     "output_type": "stream",
     "text": [
      "Strategy Player, do you want to hit or stand? (h/s):  h\n"
     ]
    },
    {
     "name": "stdout",
     "output_type": "stream",
     "text": [
      "Strategy Player drew a card: Hearts of 8\n",
      "Strategy Player's hand: Hearts of 8\n"
     ]
    },
    {
     "name": "stdin",
     "output_type": "stream",
     "text": [
      "Strategy Player, do you want to hit or stand? (h/s):  s\n"
     ]
    },
    {
     "name": "stdout",
     "output_type": "stream",
     "text": [
      "Player 2's hand: \n"
     ]
    },
    {
     "name": "stdin",
     "output_type": "stream",
     "text": [
      "Player 2, do you want to hit or stand? (h/s):  h\n"
     ]
    },
    {
     "name": "stdout",
     "output_type": "stream",
     "text": [
      "Player 2 drew a card: Diamonds of 6\n",
      "Player 2's hand: Diamonds of 6\n"
     ]
    },
    {
     "name": "stdin",
     "output_type": "stream",
     "text": [
      "Player 2, do you want to hit or stand? (h/s):  s\n"
     ]
    },
    {
     "name": "stdout",
     "output_type": "stream",
     "text": [
      "Player 3's hand: \n"
     ]
    },
    {
     "name": "stdin",
     "output_type": "stream",
     "text": [
      "Player 3, do you want to hit or stand? (h/s):  h\n"
     ]
    },
    {
     "name": "stdout",
     "output_type": "stream",
     "text": [
      "Player 3 drew a card: Hearts of 3\n",
      "Player 3's hand: Hearts of 3\n"
     ]
    },
    {
     "name": "stdin",
     "output_type": "stream",
     "text": [
      "Player 3, do you want to hit or stand? (h/s):  s\n"
     ]
    },
    {
     "name": "stdout",
     "output_type": "stream",
     "text": [
      "Player 4's hand: \n"
     ]
    },
    {
     "name": "stdin",
     "output_type": "stream",
     "text": [
      "Player 4, do you want to hit or stand? (h/s):  h\n"
     ]
    },
    {
     "name": "stdout",
     "output_type": "stream",
     "text": [
      "Player 4 drew a card: Clubs of King\n",
      "Player 4's hand: Clubs of King\n"
     ]
    },
    {
     "name": "stdin",
     "output_type": "stream",
     "text": [
      "Player 4, do you want to hit or stand? (h/s):  s\n"
     ]
    },
    {
     "name": "stdout",
     "output_type": "stream",
     "text": [
      "Dealer's turn:\n",
      "Dealer's hand: [Hidden Card] Diamonds of 6, Hearts of 3, Clubs of King\n",
      "Dealer drew a card: Hearts of Ace\n",
      "Dealer's hand: [Hidden Card] Diamonds of 6, Hearts of 3, Clubs of King, Hearts of Ace\n",
      "Dealer drew a card: Clubs of 5\n",
      "Dealer's hand: [Hidden Card] Diamonds of 6, Hearts of 3, Clubs of King, Hearts of Ace, Clubs of 5\n",
      "Dealer drew a card: Spades of Jack\n",
      "Dealer's hand: [Hidden Card] Diamonds of 6, Hearts of 3, Clubs of King, Hearts of Ace, Clubs of 5, Spades of Jack\n",
      "Dealer drew a card: Diamonds of King\n",
      "Dealer's hand: [Hidden Card] Diamonds of 6, Hearts of 3, Clubs of King, Hearts of Ace, Clubs of 5, Spades of Jack, Diamonds of King\n",
      "Dealer drew a card: Diamonds of Ace\n",
      "Dealer's hand: [Hidden Card] Diamonds of 6, Hearts of 3, Clubs of King, Hearts of Ace, Clubs of 5, Spades of Jack, Diamonds of King, Diamonds of Ace\n",
      "Dealer drew a card: Hearts of 7\n",
      "Dealer's hand: [Hidden Card] Diamonds of 6, Hearts of 3, Clubs of King, Hearts of Ace, Clubs of 5, Spades of Jack, Diamonds of King, Diamonds of Ace, Hearts of 7\n",
      "Dealer drew a card: Spades of Queen\n",
      "Dealer's hand: [Hidden Card] Diamonds of 6, Hearts of 3, Clubs of King, Hearts of Ace, Clubs of 5, Spades of Jack, Diamonds of King, Diamonds of Ace, Hearts of 7, Spades of Queen\n",
      "Dealer drew a card: Clubs of 2\n",
      "Dealer's hand: [Hidden Card] Diamonds of 6, Hearts of 3, Clubs of King, Hearts of Ace, Clubs of 5, Spades of Jack, Diamonds of King, Diamonds of Ace, Hearts of 7, Spades of Queen, Clubs of 2\n",
      "Dealer drew a card: Hearts of 9\n",
      "Dealer's hand: [Hidden Card] Diamonds of 6, Hearts of 3, Clubs of King, Hearts of Ace, Clubs of 5, Spades of Jack, Diamonds of King, Diamonds of Ace, Hearts of 7, Spades of Queen, Clubs of 2, Hearts of 9\n",
      "Dealer drew a card: Clubs of 8\n",
      "Dealer's hand: [Hidden Card] Diamonds of 6, Hearts of 3, Clubs of King, Hearts of Ace, Clubs of 5, Spades of Jack, Diamonds of King, Diamonds of Ace, Hearts of 7, Spades of Queen, Clubs of 2, Hearts of 9, Clubs of 8\n",
      "Dealer drew a card: Hearts of Queen\n",
      "Dealer's hand: [Hidden Card] Diamonds of 6, Hearts of 3, Clubs of King, Hearts of Ace, Clubs of 5, Spades of Jack, Diamonds of King, Diamonds of Ace, Hearts of 7, Spades of Queen, Clubs of 2, Hearts of 9, Clubs of 8, Hearts of Queen\n",
      "Dealer drew a card: Hearts of 10\n",
      "Dealer's hand: [Hidden Card] Diamonds of 6, Hearts of 3, Clubs of King, Hearts of Ace, Clubs of 5, Spades of Jack, Diamonds of King, Diamonds of Ace, Hearts of 7, Spades of Queen, Clubs of 2, Hearts of 9, Clubs of 8, Hearts of Queen, Hearts of 10\n",
      "Dealer drew a card: Diamonds of 4\n",
      "Dealer's hand: [Hidden Card] Diamonds of 6, Hearts of 3, Clubs of King, Hearts of Ace, Clubs of 5, Spades of Jack, Diamonds of King, Diamonds of Ace, Hearts of 7, Spades of Queen, Clubs of 2, Hearts of 9, Clubs of 8, Hearts of Queen, Hearts of 10, Diamonds of 4\n",
      "Dealer drew a card: Spades of Ace\n",
      "Dealer's hand: [Hidden Card] Diamonds of 6, Hearts of 3, Clubs of King, Hearts of Ace, Clubs of 5, Spades of Jack, Diamonds of King, Diamonds of Ace, Hearts of 7, Spades of Queen, Clubs of 2, Hearts of 9, Clubs of 8, Hearts of Queen, Hearts of 10, Diamonds of 4, Spades of Ace\n",
      "Dealer drew a card: Clubs of Queen\n",
      "Dealer's hand: [Hidden Card] Diamonds of 6, Hearts of 3, Clubs of King, Hearts of Ace, Clubs of 5, Spades of Jack, Diamonds of King, Diamonds of Ace, Hearts of 7, Spades of Queen, Clubs of 2, Hearts of 9, Clubs of 8, Hearts of Queen, Hearts of 10, Diamonds of 4, Spades of Ace, Clubs of Queen\n",
      "Dealer drew a card: Diamonds of 5\n",
      "Dealer's hand: [Hidden Card] Diamonds of 6, Hearts of 3, Clubs of King, Hearts of Ace, Clubs of 5, Spades of Jack, Diamonds of King, Diamonds of Ace, Hearts of 7, Spades of Queen, Clubs of 2, Hearts of 9, Clubs of 8, Hearts of Queen, Hearts of 10, Diamonds of 4, Spades of Ace, Clubs of Queen, Diamonds of 5\n",
      "Dealer drew a card: Clubs of 6\n",
      "Dealer's hand: [Hidden Card] Diamonds of 6, Hearts of 3, Clubs of King, Hearts of Ace, Clubs of 5, Spades of Jack, Diamonds of King, Diamonds of Ace, Hearts of 7, Spades of Queen, Clubs of 2, Hearts of 9, Clubs of 8, Hearts of Queen, Hearts of 10, Diamonds of 4, Spades of Ace, Clubs of Queen, Diamonds of 5, Clubs of 6\n",
      "Dealer drew a card: Diamonds of 10\n",
      "Dealer's hand: [Hidden Card] Diamonds of 6, Hearts of 3, Clubs of King, Hearts of Ace, Clubs of 5, Spades of Jack, Diamonds of King, Diamonds of Ace, Hearts of 7, Spades of Queen, Clubs of 2, Hearts of 9, Clubs of 8, Hearts of Queen, Hearts of 10, Diamonds of 4, Spades of Ace, Clubs of Queen, Diamonds of 5, Clubs of 6, Diamonds of 10\n",
      "Dealer drew a card: Hearts of 2\n",
      "Dealer's hand: [Hidden Card] Diamonds of 6, Hearts of 3, Clubs of King, Hearts of Ace, Clubs of 5, Spades of Jack, Diamonds of King, Diamonds of Ace, Hearts of 7, Spades of Queen, Clubs of 2, Hearts of 9, Clubs of 8, Hearts of Queen, Hearts of 10, Diamonds of 4, Spades of Ace, Clubs of Queen, Diamonds of 5, Clubs of 6, Diamonds of 10, Hearts of 2\n",
      "Dealer drew a card: Clubs of 10\n",
      "Dealer's hand: [Hidden Card] Diamonds of 6, Hearts of 3, Clubs of King, Hearts of Ace, Clubs of 5, Spades of Jack, Diamonds of King, Diamonds of Ace, Hearts of 7, Spades of Queen, Clubs of 2, Hearts of 9, Clubs of 8, Hearts of Queen, Hearts of 10, Diamonds of 4, Spades of Ace, Clubs of Queen, Diamonds of 5, Clubs of 6, Diamonds of 10, Hearts of 2, Clubs of 10\n",
      "Dealer drew a card: Spades of King\n",
      "Dealer's hand: [Hidden Card] Diamonds of 6, Hearts of 3, Clubs of King, Hearts of Ace, Clubs of 5, Spades of Jack, Diamonds of King, Diamonds of Ace, Hearts of 7, Spades of Queen, Clubs of 2, Hearts of 9, Clubs of 8, Hearts of Queen, Hearts of 10, Diamonds of 4, Spades of Ace, Clubs of Queen, Diamonds of 5, Clubs of 6, Diamonds of 10, Hearts of 2, Clubs of 10, Spades of King\n",
      "Dealer drew a card: Clubs of 4\n",
      "Dealer's hand: [Hidden Card] Diamonds of 6, Hearts of 3, Clubs of King, Hearts of Ace, Clubs of 5, Spades of Jack, Diamonds of King, Diamonds of Ace, Hearts of 7, Spades of Queen, Clubs of 2, Hearts of 9, Clubs of 8, Hearts of Queen, Hearts of 10, Diamonds of 4, Spades of Ace, Clubs of Queen, Diamonds of 5, Clubs of 6, Diamonds of 10, Hearts of 2, Clubs of 10, Spades of King, Clubs of 4\n",
      "Dealer drew a card: Diamonds of 8\n",
      "Dealer's hand: [Hidden Card] Diamonds of 6, Hearts of 3, Clubs of King, Hearts of Ace, Clubs of 5, Spades of Jack, Diamonds of King, Diamonds of Ace, Hearts of 7, Spades of Queen, Clubs of 2, Hearts of 9, Clubs of 8, Hearts of Queen, Hearts of 10, Diamonds of 4, Spades of Ace, Clubs of Queen, Diamonds of 5, Clubs of 6, Diamonds of 10, Hearts of 2, Clubs of 10, Spades of King, Clubs of 4, Diamonds of 8\n",
      "Dealer drew a card: Clubs of 9\n",
      "Dealer's hand: [Hidden Card] Diamonds of 6, Hearts of 3, Clubs of King, Hearts of Ace, Clubs of 5, Spades of Jack, Diamonds of King, Diamonds of Ace, Hearts of 7, Spades of Queen, Clubs of 2, Hearts of 9, Clubs of 8, Hearts of Queen, Hearts of 10, Diamonds of 4, Spades of Ace, Clubs of Queen, Diamonds of 5, Clubs of 6, Diamonds of 10, Hearts of 2, Clubs of 10, Spades of King, Clubs of 4, Diamonds of 8, Clubs of 9\n",
      "Dealer drew a card: Diamonds of Jack\n",
      "Dealer's hand: [Hidden Card] Diamonds of 6, Hearts of 3, Clubs of King, Hearts of Ace, Clubs of 5, Spades of Jack, Diamonds of King, Diamonds of Ace, Hearts of 7, Spades of Queen, Clubs of 2, Hearts of 9, Clubs of 8, Hearts of Queen, Hearts of 10, Diamonds of 4, Spades of Ace, Clubs of Queen, Diamonds of 5, Clubs of 6, Diamonds of 10, Hearts of 2, Clubs of 10, Spades of King, Clubs of 4, Diamonds of 8, Clubs of 9, Diamonds of Jack\n",
      "Dealer drew a card: Card of Plastic\n",
      "Dealer's hand: [Hidden Card] Diamonds of 6, Hearts of 3, Clubs of King, Hearts of Ace, Clubs of 5, Spades of Jack, Diamonds of King, Diamonds of Ace, Hearts of 7, Spades of Queen, Clubs of 2, Hearts of 9, Clubs of 8, Hearts of Queen, Hearts of 10, Diamonds of 4, Spades of Ace, Clubs of Queen, Diamonds of 5, Clubs of 6, Diamonds of 10, Hearts of 2, Clubs of 10, Spades of King, Clubs of 4, Diamonds of 8, Clubs of 9, Diamonds of Jack, Card of Plastic\n",
      "Dealer drew a card: Spades of 9\n",
      "Dealer's hand: [Hidden Card] Diamonds of 6, Hearts of 3, Clubs of King, Hearts of Ace, Clubs of 5, Spades of Jack, Diamonds of King, Diamonds of Ace, Hearts of 7, Spades of Queen, Clubs of 2, Hearts of 9, Clubs of 8, Hearts of Queen, Hearts of 10, Diamonds of 4, Spades of Ace, Clubs of Queen, Diamonds of 5, Clubs of 6, Diamonds of 10, Hearts of 2, Clubs of 10, Spades of King, Clubs of 4, Diamonds of 8, Clubs of 9, Diamonds of Jack, Card of Plastic, Spades of 9\n",
      "Dealer drew a card: Spades of 4\n",
      "Dealer's hand: [Hidden Card] Diamonds of 6, Hearts of 3, Clubs of King, Hearts of Ace, Clubs of 5, Spades of Jack, Diamonds of King, Diamonds of Ace, Hearts of 7, Spades of Queen, Clubs of 2, Hearts of 9, Clubs of 8, Hearts of Queen, Hearts of 10, Diamonds of 4, Spades of Ace, Clubs of Queen, Diamonds of 5, Clubs of 6, Diamonds of 10, Hearts of 2, Clubs of 10, Spades of King, Clubs of 4, Diamonds of 8, Clubs of 9, Diamonds of Jack, Card of Plastic, Spades of 9, Spades of 4\n",
      "Dealer drew a card: Spades of 3\n",
      "Dealer's hand: [Hidden Card] Diamonds of 6, Hearts of 3, Clubs of King, Hearts of Ace, Clubs of 5, Spades of Jack, Diamonds of King, Diamonds of Ace, Hearts of 7, Spades of Queen, Clubs of 2, Hearts of 9, Clubs of 8, Hearts of Queen, Hearts of 10, Diamonds of 4, Spades of Ace, Clubs of Queen, Diamonds of 5, Clubs of 6, Diamonds of 10, Hearts of 2, Clubs of 10, Spades of King, Clubs of 4, Diamonds of 8, Clubs of 9, Diamonds of Jack, Card of Plastic, Spades of 9, Spades of 4, Spades of 3\n",
      "Dealer drew a card: Diamonds of 9\n",
      "Dealer's hand: [Hidden Card] Diamonds of 6, Hearts of 3, Clubs of King, Hearts of Ace, Clubs of 5, Spades of Jack, Diamonds of King, Diamonds of Ace, Hearts of 7, Spades of Queen, Clubs of 2, Hearts of 9, Clubs of 8, Hearts of Queen, Hearts of 10, Diamonds of 4, Spades of Ace, Clubs of Queen, Diamonds of 5, Clubs of 6, Diamonds of 10, Hearts of 2, Clubs of 10, Spades of King, Clubs of 4, Diamonds of 8, Clubs of 9, Diamonds of Jack, Card of Plastic, Spades of 9, Spades of 4, Spades of 3, Diamonds of 9\n",
      "Dealer drew a card: Hearts of 6\n",
      "Dealer's hand: [Hidden Card] Diamonds of 6, Hearts of 3, Clubs of King, Hearts of Ace, Clubs of 5, Spades of Jack, Diamonds of King, Diamonds of Ace, Hearts of 7, Spades of Queen, Clubs of 2, Hearts of 9, Clubs of 8, Hearts of Queen, Hearts of 10, Diamonds of 4, Spades of Ace, Clubs of Queen, Diamonds of 5, Clubs of 6, Diamonds of 10, Hearts of 2, Clubs of 10, Spades of King, Clubs of 4, Diamonds of 8, Clubs of 9, Diamonds of Jack, Card of Plastic, Spades of 9, Spades of 4, Spades of 3, Diamonds of 9, Hearts of 6\n",
      "Dealer drew a card: Hearts of Jack\n",
      "Dealer's hand: [Hidden Card] Diamonds of 6, Hearts of 3, Clubs of King, Hearts of Ace, Clubs of 5, Spades of Jack, Diamonds of King, Diamonds of Ace, Hearts of 7, Spades of Queen, Clubs of 2, Hearts of 9, Clubs of 8, Hearts of Queen, Hearts of 10, Diamonds of 4, Spades of Ace, Clubs of Queen, Diamonds of 5, Clubs of 6, Diamonds of 10, Hearts of 2, Clubs of 10, Spades of King, Clubs of 4, Diamonds of 8, Clubs of 9, Diamonds of Jack, Card of Plastic, Spades of 9, Spades of 4, Spades of 3, Diamonds of 9, Hearts of 6, Hearts of Jack\n",
      "Dealer drew a card: Spades of 2\n",
      "Dealer's hand: [Hidden Card] Diamonds of 6, Hearts of 3, Clubs of King, Hearts of Ace, Clubs of 5, Spades of Jack, Diamonds of King, Diamonds of Ace, Hearts of 7, Spades of Queen, Clubs of 2, Hearts of 9, Clubs of 8, Hearts of Queen, Hearts of 10, Diamonds of 4, Spades of Ace, Clubs of Queen, Diamonds of 5, Clubs of 6, Diamonds of 10, Hearts of 2, Clubs of 10, Spades of King, Clubs of 4, Diamonds of 8, Clubs of 9, Diamonds of Jack, Card of Plastic, Spades of 9, Spades of 4, Spades of 3, Diamonds of 9, Hearts of 6, Hearts of Jack, Spades of 2\n",
      "Dealer drew a card: Spades of 6\n",
      "Dealer's hand: [Hidden Card] Diamonds of 6, Hearts of 3, Clubs of King, Hearts of Ace, Clubs of 5, Spades of Jack, Diamonds of King, Diamonds of Ace, Hearts of 7, Spades of Queen, Clubs of 2, Hearts of 9, Clubs of 8, Hearts of Queen, Hearts of 10, Diamonds of 4, Spades of Ace, Clubs of Queen, Diamonds of 5, Clubs of 6, Diamonds of 10, Hearts of 2, Clubs of 10, Spades of King, Clubs of 4, Diamonds of 8, Clubs of 9, Diamonds of Jack, Card of Plastic, Spades of 9, Spades of 4, Spades of 3, Diamonds of 9, Hearts of 6, Hearts of Jack, Spades of 2, Spades of 6\n",
      "Dealer drew a card: Spades of 5\n",
      "Dealer's hand: [Hidden Card] Diamonds of 6, Hearts of 3, Clubs of King, Hearts of Ace, Clubs of 5, Spades of Jack, Diamonds of King, Diamonds of Ace, Hearts of 7, Spades of Queen, Clubs of 2, Hearts of 9, Clubs of 8, Hearts of Queen, Hearts of 10, Diamonds of 4, Spades of Ace, Clubs of Queen, Diamonds of 5, Clubs of 6, Diamonds of 10, Hearts of 2, Clubs of 10, Spades of King, Clubs of 4, Diamonds of 8, Clubs of 9, Diamonds of Jack, Card of Plastic, Spades of 9, Spades of 4, Spades of 3, Diamonds of 9, Hearts of 6, Hearts of Jack, Spades of 2, Spades of 6, Spades of 5\n",
      "Dealer drew a card: Diamonds of 3\n",
      "Dealer's hand: [Hidden Card] Diamonds of 6, Hearts of 3, Clubs of King, Hearts of Ace, Clubs of 5, Spades of Jack, Diamonds of King, Diamonds of Ace, Hearts of 7, Spades of Queen, Clubs of 2, Hearts of 9, Clubs of 8, Hearts of Queen, Hearts of 10, Diamonds of 4, Spades of Ace, Clubs of Queen, Diamonds of 5, Clubs of 6, Diamonds of 10, Hearts of 2, Clubs of 10, Spades of King, Clubs of 4, Diamonds of 8, Clubs of 9, Diamonds of Jack, Card of Plastic, Spades of 9, Spades of 4, Spades of 3, Diamonds of 9, Hearts of 6, Hearts of Jack, Spades of 2, Spades of 6, Spades of 5, Diamonds of 3\n",
      "Dealer drew a card: Hearts of 4\n",
      "Dealer's hand: [Hidden Card] Diamonds of 6, Hearts of 3, Clubs of King, Hearts of Ace, Clubs of 5, Spades of Jack, Diamonds of King, Diamonds of Ace, Hearts of 7, Spades of Queen, Clubs of 2, Hearts of 9, Clubs of 8, Hearts of Queen, Hearts of 10, Diamonds of 4, Spades of Ace, Clubs of Queen, Diamonds of 5, Clubs of 6, Diamonds of 10, Hearts of 2, Clubs of 10, Spades of King, Clubs of 4, Diamonds of 8, Clubs of 9, Diamonds of Jack, Card of Plastic, Spades of 9, Spades of 4, Spades of 3, Diamonds of 9, Hearts of 6, Hearts of Jack, Spades of 2, Spades of 6, Spades of 5, Diamonds of 3, Hearts of 4\n",
      "Dealer drew a card: Spades of 7\n",
      "Dealer's hand: [Hidden Card] Diamonds of 6, Hearts of 3, Clubs of King, Hearts of Ace, Clubs of 5, Spades of Jack, Diamonds of King, Diamonds of Ace, Hearts of 7, Spades of Queen, Clubs of 2, Hearts of 9, Clubs of 8, Hearts of Queen, Hearts of 10, Diamonds of 4, Spades of Ace, Clubs of Queen, Diamonds of 5, Clubs of 6, Diamonds of 10, Hearts of 2, Clubs of 10, Spades of King, Clubs of 4, Diamonds of 8, Clubs of 9, Diamonds of Jack, Card of Plastic, Spades of 9, Spades of 4, Spades of 3, Diamonds of 9, Hearts of 6, Hearts of Jack, Spades of 2, Spades of 6, Spades of 5, Diamonds of 3, Hearts of 4, Spades of 7\n",
      "Dealer drew a card: Hearts of 5\n",
      "Dealer's hand: [Hidden Card] Diamonds of 6, Hearts of 3, Clubs of King, Hearts of Ace, Clubs of 5, Spades of Jack, Diamonds of King, Diamonds of Ace, Hearts of 7, Spades of Queen, Clubs of 2, Hearts of 9, Clubs of 8, Hearts of Queen, Hearts of 10, Diamonds of 4, Spades of Ace, Clubs of Queen, Diamonds of 5, Clubs of 6, Diamonds of 10, Hearts of 2, Clubs of 10, Spades of King, Clubs of 4, Diamonds of 8, Clubs of 9, Diamonds of Jack, Card of Plastic, Spades of 9, Spades of 4, Spades of 3, Diamonds of 9, Hearts of 6, Hearts of Jack, Spades of 2, Spades of 6, Spades of 5, Diamonds of 3, Hearts of 4, Spades of 7, Hearts of 5\n",
      "Dealer drew a card: Clubs of Ace\n",
      "Dealer's hand: [Hidden Card] Diamonds of 6, Hearts of 3, Clubs of King, Hearts of Ace, Clubs of 5, Spades of Jack, Diamonds of King, Diamonds of Ace, Hearts of 7, Spades of Queen, Clubs of 2, Hearts of 9, Clubs of 8, Hearts of Queen, Hearts of 10, Diamonds of 4, Spades of Ace, Clubs of Queen, Diamonds of 5, Clubs of 6, Diamonds of 10, Hearts of 2, Clubs of 10, Spades of King, Clubs of 4, Diamonds of 8, Clubs of 9, Diamonds of Jack, Card of Plastic, Spades of 9, Spades of 4, Spades of 3, Diamonds of 9, Hearts of 6, Hearts of Jack, Spades of 2, Spades of 6, Spades of 5, Diamonds of 3, Hearts of 4, Spades of 7, Hearts of 5, Clubs of Ace\n",
      "Dealer drew a card: Diamonds of Queen\n",
      "Dealer's hand: [Hidden Card] Diamonds of 6, Hearts of 3, Clubs of King, Hearts of Ace, Clubs of 5, Spades of Jack, Diamonds of King, Diamonds of Ace, Hearts of 7, Spades of Queen, Clubs of 2, Hearts of 9, Clubs of 8, Hearts of Queen, Hearts of 10, Diamonds of 4, Spades of Ace, Clubs of Queen, Diamonds of 5, Clubs of 6, Diamonds of 10, Hearts of 2, Clubs of 10, Spades of King, Clubs of 4, Diamonds of 8, Clubs of 9, Diamonds of Jack, Card of Plastic, Spades of 9, Spades of 4, Spades of 3, Diamonds of 9, Hearts of 6, Hearts of Jack, Spades of 2, Spades of 6, Spades of 5, Diamonds of 3, Hearts of 4, Spades of 7, Hearts of 5, Clubs of Ace, Diamonds of Queen\n",
      "Dealer drew a card: Clubs of Jack\n",
      "Dealer's hand: [Hidden Card] Diamonds of 6, Hearts of 3, Clubs of King, Hearts of Ace, Clubs of 5, Spades of Jack, Diamonds of King, Diamonds of Ace, Hearts of 7, Spades of Queen, Clubs of 2, Hearts of 9, Clubs of 8, Hearts of Queen, Hearts of 10, Diamonds of 4, Spades of Ace, Clubs of Queen, Diamonds of 5, Clubs of 6, Diamonds of 10, Hearts of 2, Clubs of 10, Spades of King, Clubs of 4, Diamonds of 8, Clubs of 9, Diamonds of Jack, Card of Plastic, Spades of 9, Spades of 4, Spades of 3, Diamonds of 9, Hearts of 6, Hearts of Jack, Spades of 2, Spades of 6, Spades of 5, Diamonds of 3, Hearts of 4, Spades of 7, Hearts of 5, Clubs of Ace, Diamonds of Queen, Clubs of Jack\n",
      "Dealer drew a card: Spades of 10\n",
      "Dealer's hand: [Hidden Card] Diamonds of 6, Hearts of 3, Clubs of King, Hearts of Ace, Clubs of 5, Spades of Jack, Diamonds of King, Diamonds of Ace, Hearts of 7, Spades of Queen, Clubs of 2, Hearts of 9, Clubs of 8, Hearts of Queen, Hearts of 10, Diamonds of 4, Spades of Ace, Clubs of Queen, Diamonds of 5, Clubs of 6, Diamonds of 10, Hearts of 2, Clubs of 10, Spades of King, Clubs of 4, Diamonds of 8, Clubs of 9, Diamonds of Jack, Card of Plastic, Spades of 9, Spades of 4, Spades of 3, Diamonds of 9, Hearts of 6, Hearts of Jack, Spades of 2, Spades of 6, Spades of 5, Diamonds of 3, Hearts of 4, Spades of 7, Hearts of 5, Clubs of Ace, Diamonds of Queen, Clubs of Jack, Spades of 10\n",
      "Dealer drew a card: Diamonds of 2\n",
      "Dealer's hand: [Hidden Card] Diamonds of 6, Hearts of 3, Clubs of King, Hearts of Ace, Clubs of 5, Spades of Jack, Diamonds of King, Diamonds of Ace, Hearts of 7, Spades of Queen, Clubs of 2, Hearts of 9, Clubs of 8, Hearts of Queen, Hearts of 10, Diamonds of 4, Spades of Ace, Clubs of Queen, Diamonds of 5, Clubs of 6, Diamonds of 10, Hearts of 2, Clubs of 10, Spades of King, Clubs of 4, Diamonds of 8, Clubs of 9, Diamonds of Jack, Card of Plastic, Spades of 9, Spades of 4, Spades of 3, Diamonds of 9, Hearts of 6, Hearts of Jack, Spades of 2, Spades of 6, Spades of 5, Diamonds of 3, Hearts of 4, Spades of 7, Hearts of 5, Clubs of Ace, Diamonds of Queen, Clubs of Jack, Spades of 10, Diamonds of 2\n",
      "Dealer drew a card: Diamonds of 7\n",
      "Dealer's hand: [Hidden Card] Diamonds of 6, Hearts of 3, Clubs of King, Hearts of Ace, Clubs of 5, Spades of Jack, Diamonds of King, Diamonds of Ace, Hearts of 7, Spades of Queen, Clubs of 2, Hearts of 9, Clubs of 8, Hearts of Queen, Hearts of 10, Diamonds of 4, Spades of Ace, Clubs of Queen, Diamonds of 5, Clubs of 6, Diamonds of 10, Hearts of 2, Clubs of 10, Spades of King, Clubs of 4, Diamonds of 8, Clubs of 9, Diamonds of Jack, Card of Plastic, Spades of 9, Spades of 4, Spades of 3, Diamonds of 9, Hearts of 6, Hearts of Jack, Spades of 2, Spades of 6, Spades of 5, Diamonds of 3, Hearts of 4, Spades of 7, Hearts of 5, Clubs of Ace, Diamonds of Queen, Clubs of Jack, Spades of 10, Diamonds of 2, Diamonds of 7\n",
      "Dealer drew a card: Spades of 8\n",
      "Dealer's hand: [Hidden Card] Diamonds of 6, Hearts of 3, Clubs of King, Hearts of Ace, Clubs of 5, Spades of Jack, Diamonds of King, Diamonds of Ace, Hearts of 7, Spades of Queen, Clubs of 2, Hearts of 9, Clubs of 8, Hearts of Queen, Hearts of 10, Diamonds of 4, Spades of Ace, Clubs of Queen, Diamonds of 5, Clubs of 6, Diamonds of 10, Hearts of 2, Clubs of 10, Spades of King, Clubs of 4, Diamonds of 8, Clubs of 9, Diamonds of Jack, Card of Plastic, Spades of 9, Spades of 4, Spades of 3, Diamonds of 9, Hearts of 6, Hearts of Jack, Spades of 2, Spades of 6, Spades of 5, Diamonds of 3, Hearts of 4, Spades of 7, Hearts of 5, Clubs of Ace, Diamonds of Queen, Clubs of Jack, Spades of 10, Diamonds of 2, Diamonds of 7, Spades of 8\n",
      "Dealer drew a card: Hearts of King\n",
      "Dealer's hand: [Hidden Card] Diamonds of 6, Hearts of 3, Clubs of King, Hearts of Ace, Clubs of 5, Spades of Jack, Diamonds of King, Diamonds of Ace, Hearts of 7, Spades of Queen, Clubs of 2, Hearts of 9, Clubs of 8, Hearts of Queen, Hearts of 10, Diamonds of 4, Spades of Ace, Clubs of Queen, Diamonds of 5, Clubs of 6, Diamonds of 10, Hearts of 2, Clubs of 10, Spades of King, Clubs of 4, Diamonds of 8, Clubs of 9, Diamonds of Jack, Card of Plastic, Spades of 9, Spades of 4, Spades of 3, Diamonds of 9, Hearts of 6, Hearts of Jack, Spades of 2, Spades of 6, Spades of 5, Diamonds of 3, Hearts of 4, Spades of 7, Hearts of 5, Clubs of Ace, Diamonds of Queen, Clubs of Jack, Spades of 10, Diamonds of 2, Diamonds of 7, Spades of 8, Hearts of King\n",
      "Dealer drew a card: Clubs of 3\n",
      "Dealer's hand: [Hidden Card] Diamonds of 6, Hearts of 3, Clubs of King, Hearts of Ace, Clubs of 5, Spades of Jack, Diamonds of King, Diamonds of Ace, Hearts of 7, Spades of Queen, Clubs of 2, Hearts of 9, Clubs of 8, Hearts of Queen, Hearts of 10, Diamonds of 4, Spades of Ace, Clubs of Queen, Diamonds of 5, Clubs of 6, Diamonds of 10, Hearts of 2, Clubs of 10, Spades of King, Clubs of 4, Diamonds of 8, Clubs of 9, Diamonds of Jack, Card of Plastic, Spades of 9, Spades of 4, Spades of 3, Diamonds of 9, Hearts of 6, Hearts of Jack, Spades of 2, Spades of 6, Spades of 5, Diamonds of 3, Hearts of 4, Spades of 7, Hearts of 5, Clubs of Ace, Diamonds of Queen, Clubs of Jack, Spades of 10, Diamonds of 2, Diamonds of 7, Spades of 8, Hearts of King, Clubs of 3\n",
      "No more cards in the deck.\n",
      "\n",
      "--- Round 2 ---\n",
      "Starting Round\n",
      "Strategy Player's hand: Hearts of 8\n"
     ]
    },
    {
     "name": "stdin",
     "output_type": "stream",
     "text": [
      "Strategy Player, do you want to hit or stand? (h/s):  h\n"
     ]
    },
    {
     "name": "stdout",
     "output_type": "stream",
     "text": [
      "No more cards in the deck.\n",
      "Strategy Player's hand: Hearts of 8\n"
     ]
    },
    {
     "ename": "KeyboardInterrupt",
     "evalue": "Interrupted by user",
     "output_type": "error",
     "traceback": [
      "\u001b[0;31m---------------------------------------------------------------------------\u001b[0m",
      "\u001b[0;31mKeyboardInterrupt\u001b[0m                         Traceback (most recent call last)",
      "Cell \u001b[0;32mIn[20], line 67\u001b[0m\n\u001b[1;32m     63\u001b[0m         round_count \u001b[38;5;241m+\u001b[39m\u001b[38;5;241m=\u001b[39m \u001b[38;5;241m1\u001b[39m\n\u001b[1;32m     65\u001b[0m     \u001b[38;5;28mprint\u001b[39m(\u001b[38;5;124mf\u001b[39m\u001b[38;5;124m\"\u001b[39m\u001b[38;5;130;01m\\n\u001b[39;00m\u001b[38;5;124mStrategy player\u001b[39m\u001b[38;5;124m'\u001b[39m\u001b[38;5;124ms winnings after \u001b[39m\u001b[38;5;132;01m{\u001b[39;00mround_count\u001b[38;5;132;01m}\u001b[39;00m\u001b[38;5;124m rounds: \u001b[39m\u001b[38;5;132;01m{\u001b[39;00mstrategy_player_winnings\u001b[38;5;132;01m}\u001b[39;00m\u001b[38;5;124m\"\u001b[39m)\n\u001b[0;32m---> 67\u001b[0m \u001b[43mplay_scenario\u001b[49m\u001b[43m(\u001b[49m\u001b[43m)\u001b[49m\n",
      "Cell \u001b[0;32mIn[20], line 60\u001b[0m, in \u001b[0;36mplay_scenario\u001b[0;34m()\u001b[0m\n\u001b[1;32m     58\u001b[0m \u001b[38;5;28;01mwhile\u001b[39;00m round_count \u001b[38;5;241m<\u001b[39m num_rounds:\n\u001b[1;32m     59\u001b[0m     \u001b[38;5;28mprint\u001b[39m(\u001b[38;5;124mf\u001b[39m\u001b[38;5;124m\"\u001b[39m\u001b[38;5;130;01m\\n\u001b[39;00m\u001b[38;5;124m--- Round \u001b[39m\u001b[38;5;132;01m{\u001b[39;00mround_count\u001b[38;5;250m \u001b[39m\u001b[38;5;241m+\u001b[39m\u001b[38;5;250m \u001b[39m\u001b[38;5;241m1\u001b[39m\u001b[38;5;132;01m}\u001b[39;00m\u001b[38;5;124m ---\u001b[39m\u001b[38;5;124m\"\u001b[39m)\n\u001b[0;32m---> 60\u001b[0m     round_ended \u001b[38;5;241m=\u001b[39m \u001b[43msimulate_round\u001b[49m\u001b[43m(\u001b[49m\u001b[43mgame\u001b[49m\u001b[43m)\u001b[49m\n\u001b[1;32m     61\u001b[0m     \u001b[38;5;28;01mif\u001b[39;00m round_ended:\n\u001b[1;32m     62\u001b[0m         \u001b[38;5;28;01mbreak\u001b[39;00m\n",
      "Cell \u001b[0;32mIn[20], line 37\u001b[0m, in \u001b[0;36msimulate_round\u001b[0;34m(self)\u001b[0m\n\u001b[1;32m     35\u001b[0m                 \u001b[38;5;28mprint\u001b[39m(\u001b[38;5;124m\"\u001b[39m\u001b[38;5;124mNo more cards in the deck.\u001b[39m\u001b[38;5;124m\"\u001b[39m)\n\u001b[1;32m     36\u001b[0m                 round_ended \u001b[38;5;241m=\u001b[39m \u001b[38;5;28;01mTrue\u001b[39;00m\n\u001b[0;32m---> 37\u001b[0m \u001b[38;5;28;43mself\u001b[39;49m\u001b[38;5;241;43m.\u001b[39;49m\u001b[43mplay_round\u001b[49m\u001b[43m(\u001b[49m\u001b[43m)\u001b[49m\n\u001b[1;32m     38\u001b[0m \u001b[38;5;28;01mreturn\u001b[39;00m round_ended\n",
      "Cell \u001b[0;32mIn[7], line 23\u001b[0m, in \u001b[0;36mGame.play_round\u001b[0;34m(self)\u001b[0m\n\u001b[1;32m     21\u001b[0m \u001b[38;5;28;01mwhile\u001b[39;00m \u001b[38;5;28;01mTrue\u001b[39;00m:\n\u001b[1;32m     22\u001b[0m     player\u001b[38;5;241m.\u001b[39mshow_hand()\n\u001b[0;32m---> 23\u001b[0m     decision \u001b[38;5;241m=\u001b[39m \u001b[38;5;28;43minput\u001b[39;49m\u001b[43m(\u001b[49m\u001b[38;5;124;43mf\u001b[39;49m\u001b[38;5;124;43m\"\u001b[39;49m\u001b[38;5;132;43;01m{\u001b[39;49;00m\u001b[43mplayer\u001b[49m\u001b[38;5;241;43m.\u001b[39;49m\u001b[43mname\u001b[49m\u001b[38;5;132;43;01m}\u001b[39;49;00m\u001b[38;5;124;43m, do you want to hit or stand? (h/s): \u001b[39;49m\u001b[38;5;124;43m\"\u001b[39;49m\u001b[43m)\u001b[49m\u001b[38;5;241m.\u001b[39mlower()\n\u001b[1;32m     24\u001b[0m     \u001b[38;5;28;01mif\u001b[39;00m decision \u001b[38;5;241m==\u001b[39m \u001b[38;5;124m'\u001b[39m\u001b[38;5;124mh\u001b[39m\u001b[38;5;124m'\u001b[39m:\n\u001b[1;32m     25\u001b[0m         player\u001b[38;5;241m.\u001b[39mdraw_card(\u001b[38;5;28mself\u001b[39m\u001b[38;5;241m.\u001b[39mdeck)\n",
      "File \u001b[0;32m/usr/local/lib/python3.10/dist-packages/ipykernel/kernelbase.py:1270\u001b[0m, in \u001b[0;36mKernel.raw_input\u001b[0;34m(self, prompt)\u001b[0m\n\u001b[1;32m   1268\u001b[0m     msg \u001b[38;5;241m=\u001b[39m \u001b[38;5;124m\"\u001b[39m\u001b[38;5;124mraw_input was called, but this frontend does not support input requests.\u001b[39m\u001b[38;5;124m\"\u001b[39m\n\u001b[1;32m   1269\u001b[0m     \u001b[38;5;28;01mraise\u001b[39;00m StdinNotImplementedError(msg)\n\u001b[0;32m-> 1270\u001b[0m \u001b[38;5;28;01mreturn\u001b[39;00m \u001b[38;5;28;43mself\u001b[39;49m\u001b[38;5;241;43m.\u001b[39;49m\u001b[43m_input_request\u001b[49m\u001b[43m(\u001b[49m\n\u001b[1;32m   1271\u001b[0m \u001b[43m    \u001b[49m\u001b[38;5;28;43mstr\u001b[39;49m\u001b[43m(\u001b[49m\u001b[43mprompt\u001b[49m\u001b[43m)\u001b[49m\u001b[43m,\u001b[49m\n\u001b[1;32m   1272\u001b[0m \u001b[43m    \u001b[49m\u001b[38;5;28;43mself\u001b[39;49m\u001b[38;5;241;43m.\u001b[39;49m\u001b[43m_parent_ident\u001b[49m\u001b[43m[\u001b[49m\u001b[38;5;124;43m\"\u001b[39;49m\u001b[38;5;124;43mshell\u001b[39;49m\u001b[38;5;124;43m\"\u001b[39;49m\u001b[43m]\u001b[49m\u001b[43m,\u001b[49m\n\u001b[1;32m   1273\u001b[0m \u001b[43m    \u001b[49m\u001b[38;5;28;43mself\u001b[39;49m\u001b[38;5;241;43m.\u001b[39;49m\u001b[43mget_parent\u001b[49m\u001b[43m(\u001b[49m\u001b[38;5;124;43m\"\u001b[39;49m\u001b[38;5;124;43mshell\u001b[39;49m\u001b[38;5;124;43m\"\u001b[39;49m\u001b[43m)\u001b[49m\u001b[43m,\u001b[49m\n\u001b[1;32m   1274\u001b[0m \u001b[43m    \u001b[49m\u001b[43mpassword\u001b[49m\u001b[38;5;241;43m=\u001b[39;49m\u001b[38;5;28;43;01mFalse\u001b[39;49;00m\u001b[43m,\u001b[49m\n\u001b[1;32m   1275\u001b[0m \u001b[43m\u001b[49m\u001b[43m)\u001b[49m\n",
      "File \u001b[0;32m/usr/local/lib/python3.10/dist-packages/ipykernel/kernelbase.py:1313\u001b[0m, in \u001b[0;36mKernel._input_request\u001b[0;34m(self, prompt, ident, parent, password)\u001b[0m\n\u001b[1;32m   1310\u001b[0m \u001b[38;5;28;01mexcept\u001b[39;00m \u001b[38;5;167;01mKeyboardInterrupt\u001b[39;00m:\n\u001b[1;32m   1311\u001b[0m     \u001b[38;5;66;03m# re-raise KeyboardInterrupt, to truncate traceback\u001b[39;00m\n\u001b[1;32m   1312\u001b[0m     msg \u001b[38;5;241m=\u001b[39m \u001b[38;5;124m\"\u001b[39m\u001b[38;5;124mInterrupted by user\u001b[39m\u001b[38;5;124m\"\u001b[39m\n\u001b[0;32m-> 1313\u001b[0m     \u001b[38;5;28;01mraise\u001b[39;00m \u001b[38;5;167;01mKeyboardInterrupt\u001b[39;00m(msg) \u001b[38;5;28;01mfrom\u001b[39;00m \u001b[38;5;28;01mNone\u001b[39;00m\n\u001b[1;32m   1314\u001b[0m \u001b[38;5;28;01mexcept\u001b[39;00m \u001b[38;5;167;01mException\u001b[39;00m:\n\u001b[1;32m   1315\u001b[0m     \u001b[38;5;28mself\u001b[39m\u001b[38;5;241m.\u001b[39mlog\u001b[38;5;241m.\u001b[39mwarning(\u001b[38;5;124m\"\u001b[39m\u001b[38;5;124mInvalid Message:\u001b[39m\u001b[38;5;124m\"\u001b[39m, exc_info\u001b[38;5;241m=\u001b[39m\u001b[38;5;28;01mTrue\u001b[39;00m)\n",
      "\u001b[0;31mKeyboardInterrupt\u001b[0m: Interrupted by user"
     ]
    }
   ],
   "source": [
    "class Dealer(Player):\n",
    "    def decide(self):\n",
    "        if self.hand.calculate_value() < 17:\n",
    "            return 'h'  # Hit if the value of the hand is less than 17\n",
    "        else:\n",
    "            return 's'  # Stand otherwise\n",
    "\n",
    "\n",
    "def simulate_round(self):\n",
    "        round_ended = False  # Flag to track whether the round has ended\n",
    "        self.deck.shuffle()  # Shuffle the deck before starting a new round\n",
    "        for player in self.players:\n",
    "            if isinstance(player, CardCountingPlayer):\n",
    "                while player.hand.calculate_value() <= -2:\n",
    "                    if self.deck.cards:  # Check if there are cards left in the deck\n",
    "                        player.draw_card(self.deck)\n",
    "                    else:\n",
    "                        print(\"No more cards in the deck.\")\n",
    "                        round_ended = True\n",
    "                        break\n",
    "            elif isinstance(player, Dealer):\n",
    "                while player.hand.calculate_value() < 17:\n",
    "                    if self.deck.cards:  # Check if there are cards left in the deck\n",
    "                        player.draw_card(self.deck)\n",
    "                    else:\n",
    "                        print(\"No more cards in the deck.\")\n",
    "                        round_ended = True\n",
    "                        break\n",
    "            else:\n",
    "                decision = 's'  # Regular players always stand\n",
    "                if decision == 'h':\n",
    "                    if self.deck.cards:  # Check if there are cards left in the deck\n",
    "                        player.draw_card(self.deck)\n",
    "                    else:\n",
    "                        print(\"No more cards in the deck.\")\n",
    "                        round_ended = True\n",
    "        self.play_round()\n",
    "        return round_ended\n",
    "    \n",
    "def play_scenario():\n",
    "    initial_chips = 1000  # Initial number of chips for each player\n",
    "    num_rounds = 50\n",
    "    strategy_player_winnings = 0\n",
    "\n",
    "    # Instantiate the game with the dealer and three regular players\n",
    "    game = Game(num_players=4)\n",
    "\n",
    "    # Add the strategy player\n",
    "    strategy_player = CardCountingPlayer(\"Strategy Player\")\n",
    "    game.players[0] = strategy_player\n",
    "\n",
    "    # Set initial chips for all players\n",
    "    for player in game.players:\n",
    "        player.chips = initial_chips\n",
    "\n",
    "    # Play multiple rounds\n",
    "    round_count = 0\n",
    "    while round_count < num_rounds:\n",
    "        print(f\"\\n--- Round {round_count + 1} ---\")\n",
    "        round_ended = simulate_round(game)\n",
    "        if round_ended:\n",
    "            break\n",
    "        round_count += 1\n",
    "\n",
    "    print(f\"\\nStrategy player's winnings after {round_count} rounds: {strategy_player_winnings}\")\n",
    "\n",
    "play_scenario()"
   ]
  },
  {
   "cell_type": "markdown",
   "metadata": {},
   "source": [
    "8. Create a loop that runs 100 games of 50 rounds, as setup in previous question, and store the strategy player's chips at the end of the game (aka \"winnings\") in a list. Histogram the winnings. What is the average winnings per round? What is the standard deviation. What is the probabilty of net winning or lossing after 50 rounds?\n"
   ]
  },
  {
   "cell_type": "code",
   "execution_count": 17,
   "metadata": {},
   "outputs": [
    {
     "ename": "AttributeError",
     "evalue": "'Game' object has no attribute 'simulate_round'",
     "output_type": "error",
     "traceback": [
      "\u001b[0;31m---------------------------------------------------------------------------\u001b[0m",
      "\u001b[0;31mAttributeError\u001b[0m                            Traceback (most recent call last)",
      "Cell \u001b[0;32mIn[17], line 56\u001b[0m\n\u001b[1;32m     54\u001b[0m num_games \u001b[38;5;241m=\u001b[39m \u001b[38;5;241m100\u001b[39m\n\u001b[1;32m     55\u001b[0m num_rounds_per_game \u001b[38;5;241m=\u001b[39m \u001b[38;5;241m50\u001b[39m\n\u001b[0;32m---> 56\u001b[0m strategy_player_winnings_list \u001b[38;5;241m=\u001b[39m \u001b[43mplay_multiple_games\u001b[49m\u001b[43m(\u001b[49m\u001b[43mnum_games\u001b[49m\u001b[43m,\u001b[49m\u001b[43m \u001b[49m\u001b[43mnum_rounds_per_game\u001b[49m\u001b[43m)\u001b[49m\n\u001b[1;32m     58\u001b[0m \u001b[38;5;66;03m# Analyze winnings\u001b[39;00m\n\u001b[1;32m     59\u001b[0m avg_winnings_per_round, std_deviation, net_win_probability, net_loss_probability \u001b[38;5;241m=\u001b[39m analyze_winnings(strategy_player_winnings_list)\n",
      "Cell \u001b[0;32mIn[17], line 24\u001b[0m, in \u001b[0;36mplay_multiple_games\u001b[0;34m(num_games, num_rounds_per_game)\u001b[0m\n\u001b[1;32m     22\u001b[0m \u001b[38;5;66;03m# Play multiple rounds\u001b[39;00m\n\u001b[1;32m     23\u001b[0m \u001b[38;5;28;01mfor\u001b[39;00m _ \u001b[38;5;129;01min\u001b[39;00m \u001b[38;5;28mrange\u001b[39m(num_rounds_per_game):\n\u001b[0;32m---> 24\u001b[0m     round_ended \u001b[38;5;241m=\u001b[39m \u001b[43mgame\u001b[49m\u001b[38;5;241;43m.\u001b[39;49m\u001b[43msimulate_round\u001b[49m()\n\u001b[1;32m     25\u001b[0m     \u001b[38;5;28;01mif\u001b[39;00m round_ended:\n\u001b[1;32m     26\u001b[0m         \u001b[38;5;28;01mbreak\u001b[39;00m\n",
      "\u001b[0;31mAttributeError\u001b[0m: 'Game' object has no attribute 'simulate_round'"
     ]
    }
   ],
   "source": [
    "import numpy as np\n",
    "import matplotlib.pyplot as plt\n",
    "\n",
    "def play_multiple_games(num_games, num_rounds_per_game):\n",
    "    strategy_player_winnings_list = []\n",
    "\n",
    "    for _ in range(num_games):\n",
    "        initial_chips = 1000  # Initial number of chips for each player\n",
    "        strategy_player_winnings = 0\n",
    "\n",
    "        # Instantiate the game with the dealer and three regular players\n",
    "        game = Game(num_players=4)\n",
    "\n",
    "        # Add the strategy player\n",
    "        strategy_player = CardCountingPlayer(\"Strategy Player\")\n",
    "        game.players[0] = strategy_player\n",
    "\n",
    "        # Set initial chips for all players\n",
    "        for player in game.players:\n",
    "            player.chips = initial_chips\n",
    "\n",
    "        # Play multiple rounds\n",
    "        for _ in range(num_rounds_per_game):\n",
    "            round_ended = game.simulate_round()\n",
    "            if round_ended:\n",
    "                break\n",
    "\n",
    "        # Store strategy player's winnings at the end of the game\n",
    "        strategy_player_winnings_list.append(strategy_player.chips - initial_chips)\n",
    "\n",
    "    return strategy_player_winnings_list\n",
    "\n",
    "def analyze_winnings(strategy_player_winnings_list):\n",
    "    # Histogram the winnings\n",
    "    plt.hist(strategy_player_winnings_list, bins=20, edgecolor='black')\n",
    "    plt.xlabel('Strategy Player Winnings')\n",
    "    plt.ylabel('Frequency')\n",
    "    plt.title('Histogram of Strategy Player Winnings')\n",
    "    plt.show()\n",
    "\n",
    "    # Calculate average winnings per round\n",
    "    avg_winnings_per_round = np.mean(strategy_player_winnings_list) / 50\n",
    "\n",
    "    # Calculate standard deviation\n",
    "    std_deviation = np.std(strategy_player_winnings_list)\n",
    "\n",
    "    # Calculate probability of net winning or losing after 50 rounds\n",
    "    net_win_probability = sum(1 for winnings in strategy_player_winnings_list if winnings > 0) / len(strategy_player_winnings_list)\n",
    "    net_loss_probability = sum(1 for winnings in strategy_player_winnings_list if winnings < 0) / len(strategy_player_winnings_list)\n",
    "\n",
    "    return avg_winnings_per_round, std_deviation, net_win_probability, net_loss_probability\n",
    "\n",
    "# Main code to run 100 games of 50 rounds each\n",
    "num_games = 100\n",
    "num_rounds_per_game = 50\n",
    "strategy_player_winnings_list = play_multiple_games(num_games, num_rounds_per_game)\n",
    "\n",
    "# Analyze winnings\n",
    "avg_winnings_per_round, std_deviation, net_win_probability, net_loss_probability = analyze_winnings(strategy_player_winnings_list)\n",
    "\n",
    "# Print results\n",
    "print(\"Average winnings per round:\", avg_winnings_per_round)\n",
    "print(\"Standard deviation of winnings:\", std_deviation)\n",
    "print(\"Probability of net winning after 50 rounds:\", net_win_probability)\n",
    "print(\"Probability of net losing after 50 rounds:\", net_loss_probability)"
   ]
  },
  {
   "cell_type": "code",
   "execution_count": null,
   "metadata": {},
   "outputs": [],
   "source": [
    "## testing the solution\n",
    "scenario = TestScenario()\n",
    "winnings = scenario.run_simulations(100)"
   ]
  },
  {
   "cell_type": "code",
   "execution_count": null,
   "metadata": {},
   "outputs": [],
   "source": []
  },
  {
   "cell_type": "markdown",
   "metadata": {},
   "source": [
    "9. Repeat previous questions scanning the value of the threshold. Try at least 5 different threshold values. Can you find an optimal value?"
   ]
  },
  {
   "cell_type": "markdown",
   "metadata": {},
   "source": [
    "10. Create a new strategy based on web searches or your own ideas. Demonstrate that the new strategy will result in increased or decreased winnings. "
   ]
  }
 ],
 "metadata": {
  "kernelspec": {
   "display_name": "Python 3 (ipykernel)",
   "language": "python",
   "name": "python3"
  },
  "language_info": {
   "codemirror_mode": {
    "name": "ipython",
    "version": 3
   },
   "file_extension": ".py",
   "mimetype": "text/x-python",
   "name": "python",
   "nbconvert_exporter": "python",
   "pygments_lexer": "ipython3",
   "version": "3.10.12"
  }
 },
 "nbformat": 4,
 "nbformat_minor": 4
}
