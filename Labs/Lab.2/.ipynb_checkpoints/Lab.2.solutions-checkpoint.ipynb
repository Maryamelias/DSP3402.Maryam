{
 "cells": [
  {
   "cell_type": "markdown",
   "metadata": {},
   "source": [
    "## Lab 2- Tic Tac Toe\n",
    "\n",
    "In this lab your will build a n x n Tic Tac Toe game. As you do the exercises, make sure your solutions work for any size Tic Tac Toe game. "
   ]
  },
  {
   "cell_type": "markdown",
   "metadata": {},
   "source": [
    "*Exercise 1:* Write a function that creates an n by n matrix (of list of lists) which will represent the state of a Tie Tac Toe game. Let 0, 1, and 2 represent empty, \"X\", and \"O\", respectively.\n"
   ]
  },
  {
   "cell_type": "code",
   "execution_count": 32,
   "metadata": {},
   "outputs": [],
   "source": [
    "# Write your solution here\n",
    "player_1 = 1\n",
    "player_2 = 2\n",
    "empty = 0\n",
    "\n",
    "# Game board size\n",
    "size = 3"
   ]
  },
  {
   "cell_type": "code",
   "execution_count": 33,
   "metadata": {},
   "outputs": [
    {
     "data": {
      "text/plain": [
       "[[0, 0, 0], [0, 0, 0], [0, 0, 0]]"
      ]
     },
     "execution_count": 33,
     "metadata": {},
     "output_type": "execute_result"
    }
   ],
   "source": [
    "# Test your solution here\n",
    "board=[[empty]*size]*size\n",
    "board"
   ]
  },
  {
   "cell_type": "markdown",
   "metadata": {},
   "source": [
    "*Exercise 2:* Write a function that takes 2 integers `n` and `m` as input and draws a `n` by `m` game board. For example the following is a 3x3 board:\n",
    "```\n",
    "   --- --- --- \n",
    "  |   |   |   | \n",
    "   --- --- ---  \n",
    "  |   |   |   | \n",
    "   --- --- ---  \n",
    "  |   |   |   | \n",
    "   --- --- --- \n",
    "   ```"
   ]
  },
  {
   "cell_type": "code",
   "execution_count": 34,
   "metadata": {},
   "outputs": [],
   "source": [
    "# Write your solution here\n",
    "#Creating a gameboard\n",
    "def draw_game_board(n, m):\n",
    "    for i in range(n):\n",
    "        # Drawing the horizontal lines\n",
    "        print(\" ---\" * m)\n",
    "        \n",
    "        # Drawing the vertical lines\n",
    "        print(\"|   \" * (m + 1))\n",
    "        \n",
    "    # Drawing the last horizontal line to close the board\n",
    "    print(\" ---\" * m)"
   ]
  },
  {
   "cell_type": "code",
   "execution_count": 35,
   "metadata": {},
   "outputs": [
    {
     "name": "stdout",
     "output_type": "stream",
     "text": [
      " --- --- ---\n",
      "|   |   |   |   \n",
      " --- --- ---\n",
      "|   |   |   |   \n",
      " --- --- ---\n",
      "|   |   |   |   \n",
      " --- --- ---\n"
     ]
    }
   ],
   "source": [
    "# Test your solution here\n",
    "draw_game_board(3,3)"
   ]
  },
  {
   "cell_type": "markdown",
   "metadata": {},
   "source": [
    "*Exercise 3:* Modify exercise 2, so that it takes a matrix of the form from exercise 1 and draws a tic-tac-tie board with \"X\"s and \"O\"s.  "
   ]
  },
  {
   "cell_type": "code",
   "execution_count": 36,
   "metadata": {},
   "outputs": [],
   "source": [
    "# Write your solution here\\\n",
    "def print_board(board):\n",
    "    for row in board:\n",
    "        # Draw horizontal lines\n",
    "        print(\" ---\" * len(row))\n",
    "        \n",
    "        # Draw symbols for each cell\n",
    "        for cell in row:\n",
    "            if cell == 0:\n",
    "                print(\"|   \", end='')\n",
    "            elif cell == 1:\n",
    "                print(\"| X \", end='')\n",
    "            elif cell == 2:\n",
    "                print(\"| O \", end='')\n",
    "        print(\"|\")  # End of the row\n",
    "        \n",
    "    # Draw the last horizontal line\n",
    "    print(\" ---\" * len(board[0]))"
   ]
  },
  {
   "cell_type": "code",
   "execution_count": 37,
   "metadata": {},
   "outputs": [
    {
     "name": "stdout",
     "output_type": "stream",
     "text": [
      " --- --- ---\n",
      "|   |   |   |\n",
      " --- --- ---\n",
      "|   |   |   |\n",
      " --- --- ---\n",
      "|   |   |   |\n",
      " --- --- ---\n"
     ]
    }
   ],
   "source": [
    "# Test your solution here\n",
    "print_board(board)"
   ]
  },
  {
   "cell_type": "markdown",
   "metadata": {},
   "source": [
    "*Exercise 4:* Write a function that takes a `n` by `n` matrix representing a tic-tac-toe game, and returns -1, 0, 1, or 2 indicating the game is incomplete, the game is a draw, player 1 has won, or player 2 has one, respectively. Here are some example inputs you can use to test your code:"
   ]
  },
  {
   "cell_type": "code",
   "execution_count": 38,
   "metadata": {},
   "outputs": [],
   "source": [
    "# Write your solution here\n",
    "#Check Rows, Columns, and Diagonals\n",
    "player_1= 1\n",
    "player_2 = 2\n",
    "empty = 0\n",
    "def checkrows(board):\n",
    "    for row in board:\n",
    "        if len(set(row)) ==1:\n",
    "            return row[0]\n",
    "    return 0\n",
    "\n",
    "def checkCol(board):\n",
    "    s_board= [[board[j][i] for j in range (len(board))] for i in range(len(board))]\n",
    "    for col in s_board:\n",
    "        if len(set(col))==1:\n",
    "            return col[0]\n",
    "    return 0\n",
    "\n",
    "def checkDiagonals(board):\n",
    "    if len(set([board[i][i] for i in range(len(board))])) ==1:\n",
    "        return board[0][0]\n",
    "    if len(set([board[i][len(board)-i-1]for i in range (len(board))]))==1:\n",
    "        return board[0][len(board)-1]\n",
    "    return 0\n",
    "    \n",
    "# Checking for Draws\n",
    "def is_broad_full(board):\n",
    "    for row in board:\n",
    "        for cell in row:\n",
    "            if cell ==0:\n",
    "                return False\n",
    "    return True\n",
    "# Check For the Winner and Draws\n",
    "def check_wins(board):\n",
    "    row_winner = checkrows(board)\n",
    "    if row_winner != 0:\n",
    "        return row_winner\n",
    "\n",
    "    col_winner =checkCol(board)\n",
    "    if col_winner != 0:\n",
    "        return col_winner\n",
    "    diag_winner = checkDiagonals(board)\n",
    "    if diag_winner != 0:\n",
    "        return diag_winner\n",
    "        if is_board_full(board):\n",
    "            return \"Draw\"\n",
    "#Check for Incomplete Game: If there are empty cells and neither player has won, the game is still ongoing.\n",
    "def check_Incomplete(board):\n",
    "    if checkwins(board) != 0:\n",
    "        return 0 #Game over\n",
    "        \n",
    "    for row in board:\n",
    "        for cell in row:\n",
    "            if cell ==0:\n",
    "                return \"Game Incomplete\"\n",
    "    return \"Game Complete\""
   ]
  },
  {
   "cell_type": "code",
   "execution_count": 39,
   "metadata": {},
   "outputs": [
    {
     "name": "stdout",
     "output_type": "stream",
     "text": [
      " --- --- ---\n",
      "|   |   |   |\n",
      " --- --- ---\n",
      "|   |   |   |\n",
      " --- --- ---\n",
      "|   |   |   |\n",
      " --- --- ---\n"
     ]
    }
   ],
   "source": [
    "print_board(board)"
   ]
  },
  {
   "cell_type": "code",
   "execution_count": 40,
   "metadata": {},
   "outputs": [
    {
     "name": "stdout",
     "output_type": "stream",
     "text": [
      "Winner: 2\n",
      "Game status: 0\n"
     ]
    }
   ],
   "source": [
    "# Test your solution here\n",
    "# winner_is_2\n",
    "board= [[2, 2, 0],\n",
    "\t[2, 1, 0],\n",
    "\t[2, 1, 1]]\n",
    "\n",
    "print(\"Winner:\", checkwins(board))\n",
    "print(\"Game status:\", check_Incomplete(board))"
   ]
  },
  {
   "cell_type": "code",
   "execution_count": 41,
   "metadata": {},
   "outputs": [
    {
     "name": "stdout",
     "output_type": "stream",
     "text": [
      "Winner: 1\n",
      "Game status: 0\n"
     ]
    }
   ],
   "source": [
    "# winner_is_1\n",
    "board= [[1, 2, 0],\n",
    "\t[2, 1, 0],\n",
    "\t[2, 1, 1]]\n",
    "\n",
    "print(\"Winner:\", checkwins(board))\n",
    "print(\"Game status:\", check_Incomplete(board))"
   ]
  },
  {
   "cell_type": "code",
   "execution_count": 42,
   "metadata": {},
   "outputs": [
    {
     "name": "stdout",
     "output_type": "stream",
     "text": [
      "Winner: None\n",
      "Game status: 0\n"
     ]
    }
   ],
   "source": [
    "#no_winner \n",
    "board= [[1, 2, 0],\n",
    "\t[2, 1, 0],\n",
    "\t[2, 1, 2]]\n",
    "print(\"Winner:\", checkwins(board))\n",
    "print(\"Game status:\", check_Incomplete(board))"
   ]
  },
  {
   "cell_type": "code",
   "execution_count": 43,
   "metadata": {},
   "outputs": [
    {
     "name": "stdout",
     "output_type": "stream",
     "text": [
      "Winner: None\n",
      "Game status: 0\n"
     ]
    }
   ],
   "source": [
    "# also_no_winner \n",
    "board= [[1, 2, 0],\n",
    "\t[2, 1, 0],\n",
    "\t[2, 1, 0]]\n",
    "print(\"Winner:\", checkwins(board))\n",
    "print(\"Game status:\", check_Incomplete(board))"
   ]
  },
  {
   "cell_type": "markdown",
   "metadata": {},
   "source": [
    "*Exercise 5:* Write a function that takes a game board, player number, and `(x,y)` coordinates and places \"X\" or \"O\" in the correct location of the game board. Make sure that you only allow filling previously empty locations. Return `True` or `False` to indicate successful placement of \"X\" or \"O\"."
   ]
  },
  {
   "cell_type": "code",
   "execution_count": 44,
   "metadata": {},
   "outputs": [],
   "source": [
    "# Write solution here \n",
    "def place_mark(board, player, x, y):\n",
    "    if x < 0 or x >= len(board) or y < 0 or y >= len(board[0]):\n",
    "        print(\"Out of bounds.\")\n",
    "        return False \n",
    "    \n",
    "    ## Checking if player's input location are empty\n",
    "    if board[x][y]==empty:\n",
    "        board[x][y] = player\n",
    "        return True\n",
    "    else:\n",
    "        print(\"Space Taken\")\n",
    "        return False"
   ]
  },
  {
   "cell_type": "code",
   "execution_count": 45,
   "metadata": {
    "scrolled": true
   },
   "outputs": [
    {
     "name": "stdout",
     "output_type": "stream",
     "text": [
      "Player 1 placed 'X' at position (0, 2)\n",
      "Updated Board:\n",
      "[1, 2, 1]\n",
      "[2, 1, 0]\n",
      "[2, 1, 0]\n"
     ]
    }
   ],
   "source": [
    "# Write your solutions here\n",
    "# Let's say player 1 wants to place their symbol 'X' at position (0, 2)\n",
    "player_1 = 1\n",
    "x_coordinate = 0\n",
    "y_coordinate = 2\n",
    "\n",
    "# Attempt to place 'X' at position (0, 2)\n",
    "success = place_mark(board, player_1, x_coordinate, y_coordinate)\n",
    "\n",
    "if success:\n",
    "    print(\"Player 1 placed 'X' at position (0, 2)\")\n",
    "else:\n",
    "    print(\"Failed to place 'X' at position (0, 2)\")\n",
    "\n",
    "# Display the updated board\n",
    "print(\"Updated Board:\")\n",
    "for row in board:\n",
    "    print(row) # It prints out the board form exercise one, add the move i just make to it)"
   ]
  },
  {
   "cell_type": "markdown",
   "metadata": {},
   "source": [
    "*Exercise 6:* Modify Exercise 4 to show column and row labels so that players can specify location using \"A2\" or \"C1\"."
   ]
  },
  {
   "cell_type": "code",
   "execution_count": 46,
   "metadata": {},
   "outputs": [],
   "source": [
    "player_1_str = \"player 1\"\n",
    "player_2_str = \"player 2\"\n",
    "player_1_move = \"X\"\n",
    "player_2_move = \"O\"\n",
    "empty_space=\" \""
   ]
  },
  {
   "cell_type": "code",
   "execution_count": 47,
   "metadata": {},
   "outputs": [
    {
     "data": {
      "text/plain": [
       "{1: 'X', 2: 'O', 0: ' ', 'player 1': 'X', 'player 2': 'O'}"
      ]
     },
     "execution_count": 47,
     "metadata": {},
     "output_type": "execute_result"
    }
   ],
   "source": [
    "space_character= { player_1: player_1_move,\n",
    "                   player_2: player_2_move,\n",
    "                   empty: empty_space,\n",
    "                   player_1_str: player_1_move,\n",
    "                   player_2_str: player_2_move\n",
    "}\n",
    "space_character"
   ]
  },
  {
   "cell_type": "code",
   "execution_count": 48,
   "metadata": {},
   "outputs": [
    {
     "data": {
      "text/plain": [
       "{'A': 0, 'B': 1, 'C': 2}"
      ]
     },
     "execution_count": 48,
     "metadata": {},
     "output_type": "execute_result"
    }
   ],
   "source": [
    "row_names= list(\"ABCDEFGHIJKLMNOPQRSTUVWXYZ\")\n",
    "row_map= dict(zip(row_names, range(size)))\n",
    "\n",
    "row_map"
   ]
  },
  {
   "cell_type": "code",
   "execution_count": 49,
   "metadata": {},
   "outputs": [
    {
     "data": {
      "text/plain": [
       "{'1': 0, '2': 1, '3': 2}"
      ]
     },
     "execution_count": 49,
     "metadata": {},
     "output_type": "execute_result"
    }
   ],
   "source": [
    "col_names=list(map(str,range(1,size+1)))\n",
    "col_map=dict(zip(col_names,range(size)))\n",
    "\n",
    "col_map"
   ]
  },
  {
   "cell_type": "code",
   "execution_count": 50,
   "metadata": {},
   "outputs": [],
   "source": [
    "def new_board(board):\n",
    "    print(\" \",end=\" \")\n",
    "    for j in range(size):\n",
    "        print(col_names[j],end=\" \")\n",
    "    print()\n",
    "    \n",
    "    for i in range(size):\n",
    "        print(row_names[i],end=\" \")\n",
    "        for j in range(size):\n",
    "            print(space_character[board[i][j]], end=\" \")\n",
    "        print()"
   ]
  },
  {
   "cell_type": "code",
   "execution_count": 51,
   "metadata": {},
   "outputs": [
    {
     "name": "stdout",
     "output_type": "stream",
     "text": [
      "  1 2 3 \n",
      "A X O X \n",
      "B O X   \n",
      "C O X   \n"
     ]
    }
   ],
   "source": [
    "# Test your solution here\n",
    "new_board(board)"
   ]
  },
  {
   "cell_type": "code",
   "execution_count": 52,
   "metadata": {},
   "outputs": [],
   "source": [
    "def print_board(board):\n",
    "    # Calculate the width of the column labels\n",
    "    col_label_width = max(len(col) for col in col_names) + 3 # Add 1 for padding\n",
    "    \n",
    "    # Print column names with appropriate padding for alignment\n",
    "    print(\" \" * col_label_width, end=\"\")\n",
    "    for col in col_names:\n",
    "        print(f\"{col:{col_label_width}}\", end=\"\")\n",
    "    print()\n",
    "    \n",
    "    # Print row labels and board contents\n",
    "    for i, row in enumerate(board):\n",
    "        print(row_names[i], end=\" \")  # Print row label\n",
    "        for cell in row:\n",
    "            if cell == 0:\n",
    "                print(\" |  \", end='')  # Empty cell\n",
    "            elif cell == 1:\n",
    "                print(\" | X \", end='')   # Cell with X\n",
    "            elif cell == 2:\n",
    "                print(\" | O \", end='')   # Cell with O\n",
    "        print(\"|\")  # End of the row\n",
    "        \n",
    "        # Draw the horizontal line\n",
    "        print(\" \" * col_label_width, end=\" \")  # Add space for column labels\n",
    "        print(\"\" + \"----\" * len(board[0]))    # Draw horizontal line"
   ]
  },
  {
   "cell_type": "code",
   "execution_count": 53,
   "metadata": {},
   "outputs": [
    {
     "name": "stdout",
     "output_type": "stream",
     "text": [
      "    1   2   3   \n",
      "A  | X  | O  | X |\n",
      "     ------------\n",
      "B  | O  | X  |  |\n",
      "     ------------\n",
      "C  | O  | X  |  |\n",
      "     ------------\n"
     ]
    }
   ],
   "source": [
    "print_board(board)"
   ]
  },
  {
   "cell_type": "markdown",
   "metadata": {},
   "source": [
    "*Exercise 7:* Write a function that takes a board, player number, and location specified as in exercise 6 and then calls exercise 5 to correctly modify the board.  "
   ]
  },
  {
   "cell_type": "code",
   "execution_count": 54,
   "metadata": {},
   "outputs": [],
   "source": [
    "# Write you solution here\n",
    "def parse_location(l_string):\n",
    "    if not isinstance(l_string,str):\n",
    "        print(\"Bad Input. Location must be string.\")\n",
    "        return False\n",
    "    \n",
    "    if len(l_string)!=2:\n",
    "        print(\"Bad Input. Location must be 2 characters.\")\n",
    "        return False\n",
    "    \n",
    "    row=l_string[0].upper()\n",
    "    col=l_string[1].upper()\n",
    "    \n",
    "    if not row in row_names:\n",
    "        print(\"Bad Row.\")\n",
    "        return False\n",
    "\n",
    "    if not col in col_names:\n",
    "        print(\"Bad Column.\")\n",
    "        return False\n",
    "\n",
    "    return row_map[row],col_map[col]"
   ]
  },
  {
   "cell_type": "code",
   "execution_count": 55,
   "metadata": {},
   "outputs": [
    {
     "data": {
      "text/plain": [
       "(2, 0)"
      ]
     },
     "execution_count": 55,
     "metadata": {},
     "output_type": "execute_result"
    }
   ],
   "source": [
    "parse_location(\"C1\")"
   ]
  },
  {
   "cell_type": "code",
   "execution_count": 56,
   "metadata": {},
   "outputs": [],
   "source": [
    "def place_mark(board, player, location):\n",
    "    # Parse the location string\n",
    "    loc = parse_location(location)\n",
    "    if loc is False:\n",
    "        return False\n",
    "\n",
    "    # Unpack the row and column indices\n",
    "    row, col = loc\n",
    "\n",
    "    # Check if the position is already occupied\n",
    "    if board[row][col] != empty:\n",
    "        print(\"Position already occupied.\")\n",
    "        return False\n",
    "\n",
    "    # Place the player's mark on the board\n",
    "    board[row][col] = player\n",
    "    return True"
   ]
  },
  {
   "cell_type": "code",
   "execution_count": 57,
   "metadata": {},
   "outputs": [
    {
     "name": "stdout",
     "output_type": "stream",
     "text": [
      "player 1 placed move at location 'C3' \n",
      "    1   2   3   \n",
      "A  | X  | O  | X |\n",
      "     ------------\n",
      "B  | O  | X  |  |\n",
      "     ------------\n",
      "C  | O  | X  | X |\n",
      "     ------------\n",
      "Winner: 1\n",
      "Game status: 0\n"
     ]
    }
   ],
   "source": [
    "# Test your solution here\n",
    "# Suppose player 1 wants to place their mark 'X' at location 'C3'\n",
    "player = player_1\n",
    "location = \"C3\"\n",
    "\n",
    "# Attempt to place 'X' at location 'B2'\n",
    "success = place_mark(board, player, location)\n",
    "\n",
    "if success:\n",
    "    print(f\"{player_1_str} placed move at location '{location}' \")\n",
    "    # Display the updated board\n",
    "    print_board(board)\n",
    "    print(\"Winner:\", checkwins(board))\n",
    "    print(\"Game status:\", check_Incomplete(board))\n",
    "else:\n",
    "    print(f\"Failed to place move at location '{location}'\")"
   ]
  },
  {
   "cell_type": "markdown",
   "metadata": {},
   "source": [
    "*Exercise 8:* Write a function is called with a board and player number, takes input from the player using python's `input`, and modifies the board using your function from exercise 7. Note that you should keep asking for input until you have gotten a valid input that results in a valid move."
   ]
  },
  {
   "cell_type": "code",
   "execution_count": 58,
   "metadata": {},
   "outputs": [],
   "source": [
    "# Write you solution here\n",
    "def take_turn(board, player):\n",
    "    while True:\n",
    "        # Prompt the player for input\n",
    "        location = input(f\"Player {player}, enter your move (e.g., A1, B2, etc.): \")\n",
    "\n",
    "        # Attempt to place the player's mark at the specified location\n",
    "        success = place_mark(board, player, location)\n",
    "\n",
    "        if success:\n",
    "            print_board(board)\n",
    "            print_board(board)\n",
    "            print(\"Winner:\", checkwins(board))\n",
    "            print(\"Game status:\", check_Incomplete(board))\n",
    "            # If the move is successful, break out of the loop\n",
    "            break\n",
    "        else:\n",
    "            # If the move is not successful, print an error message and continue the loop\n",
    "            print(\"Invalid move. Please try again.\")"
   ]
  },
  {
   "cell_type": "code",
   "execution_count": 59,
   "metadata": {},
   "outputs": [
    {
     "name": "stdin",
     "output_type": "stream",
     "text": [
      "Player 1, enter your move (e.g., A1, B2, etc.):  a1\n"
     ]
    },
    {
     "name": "stdout",
     "output_type": "stream",
     "text": [
      "Position already occupied.\n",
      "Invalid move. Please try again.\n"
     ]
    },
    {
     "name": "stdin",
     "output_type": "stream",
     "text": [
      "Player 1, enter your move (e.g., A1, B2, etc.):  b3\n"
     ]
    },
    {
     "name": "stdout",
     "output_type": "stream",
     "text": [
      "    1   2   3   \n",
      "A  | X  | O  | X |\n",
      "     ------------\n",
      "B  | O  | X  | X |\n",
      "     ------------\n",
      "C  | O  | X  | X |\n",
      "     ------------\n",
      "    1   2   3   \n",
      "A  | X  | O  | X |\n",
      "     ------------\n",
      "B  | O  | X  | X |\n",
      "     ------------\n",
      "C  | O  | X  | X |\n",
      "     ------------\n",
      "Winner: 1\n",
      "Game status: 0\n"
     ]
    }
   ],
   "source": [
    "# Test your solution here\n",
    "take_turn(board, player)"
   ]
  },
  {
   "cell_type": "markdown",
   "metadata": {},
   "source": [
    "*Exercise 9:* Use all of the previous exercises to implement a full tic-tac-toe game, where an appropriate board is drawn, 2 players are repeatedly asked for a location coordinates of where they wish to place a mark, and the game status is checked until a player wins or a draw occurs."
   ]
  },
  {
   "cell_type": "code",
   "execution_count": 61,
   "metadata": {
    "jp-MarkdownHeadingCollapsed": true
   },
   "outputs": [
    {
     "name": "stdout",
     "output_type": "stream",
     "text": [
      "Welcome to a game of Tic-Tac-Toe\n",
      "--------------------------------\n",
      "    1   2   3   \n",
      "A  |   |   |  |\n",
      "     ------------\n",
      "B  |   |   |  |\n",
      "     ------------\n",
      "C  |   |   |  |\n",
      "     ------------\n"
     ]
    },
    {
     "name": "stdin",
     "output_type": "stream",
     "text": [
      "Player 1, enter your move (e.g., A1, B2, etc.):  b2\n"
     ]
    },
    {
     "name": "stdout",
     "output_type": "stream",
     "text": [
      "    1   2   3   \n",
      "A  |   |   |  |\n",
      "     ------------\n",
      "B  |   | X  |  |\n",
      "     ------------\n",
      "C  |   |   |  |\n",
      "     ------------\n",
      "    1   2   3   \n",
      "A  |   |   |  |\n",
      "     ------------\n",
      "B  |   | X  |  |\n",
      "     ------------\n",
      "C  |   |   |  |\n",
      "     ------------\n",
      "Winner: None\n",
      "Game status: 0\n",
      "    1   2   3   \n",
      "A  |   |   |  |\n",
      "     ------------\n",
      "B  |   | X  |  |\n",
      "     ------------\n",
      "C  |   |   |  |\n",
      "     ------------\n"
     ]
    },
    {
     "ename": "KeyboardInterrupt",
     "evalue": "Interrupted by user",
     "output_type": "error",
     "traceback": [
      "\u001b[0;31m---------------------------------------------------------------------------\u001b[0m",
      "\u001b[0;31mKeyboardInterrupt\u001b[0m                         Traceback (most recent call last)",
      "Cell \u001b[0;32mIn[61], line 114\u001b[0m\n\u001b[1;32m    112\u001b[0m             \u001b[38;5;28;01mbreak\u001b[39;00m \n\u001b[1;32m    113\u001b[0m \u001b[38;5;66;03m# Run the game\u001b[39;00m\n\u001b[0;32m--> 114\u001b[0m \u001b[43mtic_tac_toe\u001b[49m\u001b[43m(\u001b[49m\u001b[43m)\u001b[49m\n",
      "Cell \u001b[0;32mIn[61], line 101\u001b[0m, in \u001b[0;36mtic_tac_toe\u001b[0;34m()\u001b[0m\n\u001b[1;32m     98\u001b[0m print_board(board)\n\u001b[1;32m    100\u001b[0m \u001b[38;5;66;03m# Take the current player's turn\u001b[39;00m\n\u001b[0;32m--> 101\u001b[0m \u001b[43mtake_turn\u001b[49m\u001b[43m(\u001b[49m\u001b[43mboard\u001b[49m\u001b[43m,\u001b[49m\u001b[43m \u001b[49m\u001b[43mcurrent_player\u001b[49m\u001b[43m)\u001b[49m\n\u001b[1;32m    103\u001b[0m \u001b[38;5;66;03m# Switch players\u001b[39;00m\n\u001b[1;32m    104\u001b[0m current_player \u001b[38;5;241m=\u001b[39m player_2 \u001b[38;5;28;01mif\u001b[39;00m current_player \u001b[38;5;241m==\u001b[39m player_1 \u001b[38;5;28;01melse\u001b[39;00m player_1\n",
      "Cell \u001b[0;32mIn[61], line 70\u001b[0m, in \u001b[0;36mtake_turn\u001b[0;34m(board, player)\u001b[0m\n\u001b[1;32m     67\u001b[0m \u001b[38;5;28;01mdef\u001b[39;00m \u001b[38;5;21mtake_turn\u001b[39m(board, player):\n\u001b[1;32m     68\u001b[0m     \u001b[38;5;28;01mwhile\u001b[39;00m \u001b[38;5;28;01mTrue\u001b[39;00m:\n\u001b[1;32m     69\u001b[0m         \u001b[38;5;66;03m# Prompt the player for input\u001b[39;00m\n\u001b[0;32m---> 70\u001b[0m         location \u001b[38;5;241m=\u001b[39m \u001b[38;5;28;43minput\u001b[39;49m\u001b[43m(\u001b[49m\u001b[38;5;124;43mf\u001b[39;49m\u001b[38;5;124;43m\"\u001b[39;49m\u001b[38;5;124;43mPlayer \u001b[39;49m\u001b[38;5;132;43;01m{\u001b[39;49;00m\u001b[43mplayer\u001b[49m\u001b[38;5;132;43;01m}\u001b[39;49;00m\u001b[38;5;124;43m, enter your move (e.g., A1, B2, etc.): \u001b[39;49m\u001b[38;5;124;43m\"\u001b[39;49m\u001b[43m)\u001b[49m\n\u001b[1;32m     72\u001b[0m         \u001b[38;5;66;03m# Attempt to place the player's mark at the specified location\u001b[39;00m\n\u001b[1;32m     73\u001b[0m         success \u001b[38;5;241m=\u001b[39m place_mark(board, player, location)\n",
      "File \u001b[0;32m/usr/local/lib/python3.10/dist-packages/ipykernel/kernelbase.py:1270\u001b[0m, in \u001b[0;36mKernel.raw_input\u001b[0;34m(self, prompt)\u001b[0m\n\u001b[1;32m   1268\u001b[0m     msg \u001b[38;5;241m=\u001b[39m \u001b[38;5;124m\"\u001b[39m\u001b[38;5;124mraw_input was called, but this frontend does not support input requests.\u001b[39m\u001b[38;5;124m\"\u001b[39m\n\u001b[1;32m   1269\u001b[0m     \u001b[38;5;28;01mraise\u001b[39;00m StdinNotImplementedError(msg)\n\u001b[0;32m-> 1270\u001b[0m \u001b[38;5;28;01mreturn\u001b[39;00m \u001b[38;5;28;43mself\u001b[39;49m\u001b[38;5;241;43m.\u001b[39;49m\u001b[43m_input_request\u001b[49m\u001b[43m(\u001b[49m\n\u001b[1;32m   1271\u001b[0m \u001b[43m    \u001b[49m\u001b[38;5;28;43mstr\u001b[39;49m\u001b[43m(\u001b[49m\u001b[43mprompt\u001b[49m\u001b[43m)\u001b[49m\u001b[43m,\u001b[49m\n\u001b[1;32m   1272\u001b[0m \u001b[43m    \u001b[49m\u001b[38;5;28;43mself\u001b[39;49m\u001b[38;5;241;43m.\u001b[39;49m\u001b[43m_parent_ident\u001b[49m\u001b[43m[\u001b[49m\u001b[38;5;124;43m\"\u001b[39;49m\u001b[38;5;124;43mshell\u001b[39;49m\u001b[38;5;124;43m\"\u001b[39;49m\u001b[43m]\u001b[49m\u001b[43m,\u001b[49m\n\u001b[1;32m   1273\u001b[0m \u001b[43m    \u001b[49m\u001b[38;5;28;43mself\u001b[39;49m\u001b[38;5;241;43m.\u001b[39;49m\u001b[43mget_parent\u001b[49m\u001b[43m(\u001b[49m\u001b[38;5;124;43m\"\u001b[39;49m\u001b[38;5;124;43mshell\u001b[39;49m\u001b[38;5;124;43m\"\u001b[39;49m\u001b[43m)\u001b[49m\u001b[43m,\u001b[49m\n\u001b[1;32m   1274\u001b[0m \u001b[43m    \u001b[49m\u001b[43mpassword\u001b[49m\u001b[38;5;241;43m=\u001b[39;49m\u001b[38;5;28;43;01mFalse\u001b[39;49;00m\u001b[43m,\u001b[49m\n\u001b[1;32m   1275\u001b[0m \u001b[43m\u001b[49m\u001b[43m)\u001b[49m\n",
      "File \u001b[0;32m/usr/local/lib/python3.10/dist-packages/ipykernel/kernelbase.py:1313\u001b[0m, in \u001b[0;36mKernel._input_request\u001b[0;34m(self, prompt, ident, parent, password)\u001b[0m\n\u001b[1;32m   1310\u001b[0m \u001b[38;5;28;01mexcept\u001b[39;00m \u001b[38;5;167;01mKeyboardInterrupt\u001b[39;00m:\n\u001b[1;32m   1311\u001b[0m     \u001b[38;5;66;03m# re-raise KeyboardInterrupt, to truncate traceback\u001b[39;00m\n\u001b[1;32m   1312\u001b[0m     msg \u001b[38;5;241m=\u001b[39m \u001b[38;5;124m\"\u001b[39m\u001b[38;5;124mInterrupted by user\u001b[39m\u001b[38;5;124m\"\u001b[39m\n\u001b[0;32m-> 1313\u001b[0m     \u001b[38;5;28;01mraise\u001b[39;00m \u001b[38;5;167;01mKeyboardInterrupt\u001b[39;00m(msg) \u001b[38;5;28;01mfrom\u001b[39;00m \u001b[38;5;28;01mNone\u001b[39;00m\n\u001b[1;32m   1314\u001b[0m \u001b[38;5;28;01mexcept\u001b[39;00m \u001b[38;5;167;01mException\u001b[39;00m:\n\u001b[1;32m   1315\u001b[0m     \u001b[38;5;28mself\u001b[39m\u001b[38;5;241m.\u001b[39mlog\u001b[38;5;241m.\u001b[39mwarning(\u001b[38;5;124m\"\u001b[39m\u001b[38;5;124mInvalid Message:\u001b[39m\u001b[38;5;124m\"\u001b[39m, exc_info\u001b[38;5;241m=\u001b[39m\u001b[38;5;28;01mTrue\u001b[39;00m)\n",
      "\u001b[0;31mKeyboardInterrupt\u001b[0m: Interrupted by user"
     ]
    }
   ],
   "source": [
    "### Write you solution here\n",
    "# Define constants\n",
    "player_1 = 1\n",
    "player_2 = 2\n",
    "empty = 0\n",
    "\n",
    "# Define the size of the board (assuming a standard 3x3 tic-tac-toe board)\n",
    "size = 3\n",
    "\n",
    "# Define symbols for players\n",
    "player_symbols = {\n",
    "    player_1: \"X\",\n",
    "    player_2: \"O\",\n",
    "    empty: \" \"\n",
    "}\n",
    "\n",
    "# Function to draw the board\n",
    "def print_board(board):\n",
    "    # Calculate the width of the column labels\n",
    "    col_label_width = max(len(col) for col in col_names) + 3 # Add 1 for padding\n",
    "    \n",
    "    # Print column names with appropriate padding for alignment\n",
    "    print(\" \" * col_label_width, end=\"\")\n",
    "    for col in col_names:\n",
    "        print(f\"{col:{col_label_width}}\", end=\"\")\n",
    "    print()\n",
    "    \n",
    "    # Print row labels and board contents\n",
    "    for i, row in enumerate(board):\n",
    "        print(row_names[i], end=\" \")  # Print row label\n",
    "        for cell in row:\n",
    "            if cell == 0:\n",
    "                print(\" |  \", end='')  # Empty cell\n",
    "            elif cell == 1:\n",
    "                print(\" | X \", end='')   # Cell with X\n",
    "            elif cell == 2:\n",
    "                print(\" | O \", end='')   # Cell with O\n",
    "        print(\"|\")  # End of the row\n",
    "        \n",
    "        # Draw the horizontal line\n",
    "        print(\" \" * col_label_width, end=\" \")  # Add space for column labels\n",
    "        print(\"\" + \"----\" * len(board[0]))    # Draw horizontal line\n",
    "        \n",
    "# Function to check if the board is full\n",
    "def is_board_full(board):\n",
    "    for row in board:\n",
    "        for cell in row:\n",
    "            if cell == empty:\n",
    "                return False\n",
    "    return True\n",
    "\n",
    "# Function to check for a win\n",
    "def check_wins(board, player):\n",
    "    row_winner = checkrows(board)\n",
    "    if row_winner != 0:\n",
    "        return row_winner\n",
    "\n",
    "    col_winner =checkCol(board)\n",
    "    if col_winner != 0:\n",
    "        return col_winner\n",
    "    diag_winner = checkDiagonals(board)\n",
    "    if diag_winner != 0:\n",
    "        return diag_winner\n",
    "        if is_board_full(board):\n",
    "            return \"Draw\"\n",
    "# Function to take a turn\n",
    "def take_turn(board, player):\n",
    "    while True:\n",
    "        # Prompt the player for input\n",
    "        location = input(f\"Player {player}, enter your move (e.g., A1, B2, etc.): \")\n",
    "\n",
    "        # Attempt to place the player's mark at the specified location\n",
    "        success = place_mark(board, player, location)\n",
    "\n",
    "        if success:\n",
    "            print_board(board)\n",
    "            print_board(board)\n",
    "            print(\"Winner:\", checkwins(board))\n",
    "            print(\"Game status:\", check_Incomplete(board))\n",
    "            # If the move is successful, break out of the loop\n",
    "            break\n",
    "        else:\n",
    "            # If the move is not successful, print an error message and continue the loop\n",
    "            print(\"Invalid move. Please try again.\")\n",
    "# Function to run the game\n",
    "def tic_tac_toe():\n",
    "    print(\"Welcome to a game of Tic-Tac-Toe\")\n",
    "    print(\"--------------------------------\")\n",
    "    \n",
    "    # Initialize the board\n",
    "    board = [[empty] * size for _ in range(size)]\n",
    "\n",
    "    # Game loop\n",
    "    current_player = player_1\n",
    "    game_ended =False\n",
    "    while True:\n",
    "        #Draw the board\n",
    "        print_board(board)\n",
    "        \n",
    "        # Take the current player's turn\n",
    "        take_turn(board, current_player)\n",
    "        \n",
    "        # Switch players\n",
    "        current_player = player_2 if current_player == player_1 else player_1\n",
    "\n",
    "        # Check for win or draw\n",
    "        if check_wins(board, current_player):\n",
    "            print(f\"Player {current_player} wins!\")\n",
    "            break\n",
    "        elif is_board_full(board):\n",
    "            print(\"It's a draw!\")\n",
    "            break \n",
    "# Run the game\n",
    "tic_tac_toe()"
   ]
  },
  {
   "cell_type": "markdown",
   "metadata": {},
   "source": [
    "*Exercise 10:* Test that your game works for 5x5 Tic Tac Toe.  "
   ]
  },
  {
   "cell_type": "code",
   "execution_count": null,
   "metadata": {},
   "outputs": [],
   "source": [
    "# Test your solution here\n",
    "player_1 = 1\n",
    "player_2 = 2\n",
    "empty = 0\n",
    "\n",
    "# Define the size of the board (assuming a standard 3x3 tic-tac-toe board)\n",
    "size = 3\n",
    "\n",
    "# Define symbols for players\n",
    "player_symbols = {\n",
    "    player_1: \"X\",\n",
    "    player_2: \"O\",\n",
    "    empty: \" \"\n",
    "}\n",
    "\n",
    "# Function to draw the board\n",
    "def print_board(board):\n",
    "    # Calculate the width of the column labels\n",
    "    col_label_width = max(len(col) for col in col_names) + 3 # Add 1 for padding\n",
    "    \n",
    "    # Print column names with appropriate padding for alignment\n",
    "    print(\" \" * col_label_width, end=\"\")\n",
    "    for col in col_names:\n",
    "        print(f\"{col:{col_label_width}}\", end=\"\")\n",
    "    print()\n",
    "    \n",
    "    # Print row labels and board contents\n",
    "    for i, row in enumerate(board):\n",
    "        print(row_names[i], end=\" \")  # Print row label\n",
    "        for cell in row:\n",
    "            if cell == 0:\n",
    "                print(\" |  \", end='')  # Empty cell\n",
    "            elif cell == 1:\n",
    "                print(\" | X \", end='')   # Cell with X\n",
    "            elif cell == 2:\n",
    "                print(\" | O \", end='')   # Cell with O\n",
    "        print(\"|\")  # End of the row\n",
    "        \n",
    "        # Draw the horizontal line\n",
    "        print(\" \" * col_label_width, end=\" \")  # Add space for column labels\n",
    "        print(\"\" + \"----\" * len(board[0]))    # Draw horizontal line\n",
    "        \n",
    "# Function to check if the board is full\n",
    "def is_board_full(board):\n",
    "    for row in board:\n",
    "        for cell in row:\n",
    "            if cell == empty:\n",
    "                return False\n",
    "    return True\n",
    "\n",
    "# Function to check for a win\n",
    "def checkwins(board):\n",
    "    row_winner = checkrows(board)\n",
    "    if row_winner != 0:\n",
    "        return row_winner\n",
    "\n",
    "    col_winner =checkCol(board)\n",
    "    if col_winner != 0:\n",
    "        return col_winner\n",
    "    diag_winner = checkDiagonals(board)\n",
    "    if diag_winner != 0:\n",
    "        return diag_winner\n",
    "        if is_board_full(board):\n",
    "            return \"Draw\"\n",
    "# Function to take a turn\n",
    "def take_turn(board, player):\n",
    "    while True:\n",
    "        # Prompt the player for input\n",
    "        location = input(f\"Player {player}, enter your move (e.g., A1, B2, etc.): \")\n",
    "\n",
    "        # Attempt to place the player's mark at the specified location\n",
    "        success = place_mark(board, player, location)\n",
    "\n",
    "        if success:\n",
    "            print_board(board)\n",
    "            print_board(board)\n",
    "            print(\"Winner:\", checkwins(board))\n",
    "            print(\"Game status:\", check_Incomplete(board))\n",
    "            # If the move is successful, break out of the loop\n",
    "            break\n",
    "        else:\n",
    "            # If the move is not successful, print an error message and continue the loop\n",
    "            print(\"Invalid move. Please try again.\")\n",
    "# Function to run the game\n",
    "def tic_tac_toe():\n",
    "    print(\"Welcome to a game of Tic-Tac-Toe\")\n",
    "    print(\"--------------------------------\")\n",
    "    \n",
    "    # Initialize the board\n",
    "    board = [[empty] * size for _ in range(size)]\n",
    "\n",
    "    # Game loop\n",
    "    current_player = player_1\n",
    "    game_ended =False\n",
    "    while True:\n",
    "        #Draw the board\n",
    "        print_board(board)\n",
    "        \n",
    "        # Take the current player's turn\n",
    "        take_turn(board, current_player)\n",
    "        \n",
    "        # Switch players\n",
    "        current_player = player_2 if current_player == player_1 else player_1\n",
    "\n",
    "        # Check for win or draw\n",
    "        if check_win(board, current_player):\n",
    "            print(f\"Player {current_player} wins!\")\n",
    "            break\n",
    "        elif is_board_full(board):\n",
    "            print(\"It's a draw!\")\n",
    "            break \n",
    "# Run the game\n",
    "tic_tac_toe()"
   ]
  },
  {
   "cell_type": "markdown",
   "metadata": {},
   "source": [
    "*Exercise 11:* (Advanced / Challenge) Develop a version of the game where one player is the computer. Note that you don't need to do an extensive seach for the best move. You can have the computer simply protect against loosing and otherwise try to win with straight or diagonal patterns."
   ]
  },
  {
   "cell_type": "code",
   "execution_count": null,
   "metadata": {},
   "outputs": [],
   "source": [
    "# Write you solution here"
   ]
  },
  {
   "cell_type": "code",
   "execution_count": null,
   "metadata": {},
   "outputs": [],
   "source": [
    "# Test your solution here"
   ]
  }
 ],
 "metadata": {
  "kernelspec": {
   "display_name": "Python 3 (ipykernel)",
   "language": "python",
   "name": "python3"
  },
  "language_info": {
   "codemirror_mode": {
    "name": "ipython",
    "version": 3
   },
   "file_extension": ".py",
   "mimetype": "text/x-python",
   "name": "python",
   "nbconvert_exporter": "python",
   "pygments_lexer": "ipython3",
   "version": "3.10.12"
  }
 },
 "nbformat": 4,
 "nbformat_minor": 4
}
