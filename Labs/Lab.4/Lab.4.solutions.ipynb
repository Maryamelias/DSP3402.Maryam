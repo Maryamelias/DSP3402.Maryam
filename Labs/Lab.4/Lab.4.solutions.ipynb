{
 "cells": [
  {
   "cell_type": "markdown",
   "metadata": {},
   "source": [
    "# Lab 4- Object Oriented Programming\n",
    "\n",
    "For all of the exercises below, make sure you provide tests of your solutions.\n"
   ]
  },
  {
   "cell_type": "markdown",
   "metadata": {},
   "source": [
    "1. Write a \"counter\" class that can be incremented up to a specified maximum value, will print an error if an attempt is made to increment beyond that value, and allows reseting the counter. "
   ]
  },
  {
   "cell_type": "code",
   "execution_count": 14,
   "metadata": {},
   "outputs": [],
   "source": [
    "### Solutions\n",
    "class Counter:\n",
    "    def __init__(self, max):\n",
    "        self.max = max_value\n",
    "        self.value = 0\n",
    "    def increment(self):\n",
    "        if self.value < self.max:\n",
    "            self.value += 1\n",
    "        else:\n",
    "            print(\"Error, Exceeded maximum value\")\n",
    "    def reset(self):\n",
    "        self.value = 0\n",
    "    def get_value(self):\n",
    "        return self.value"
   ]
  },
  {
   "cell_type": "code",
   "execution_count": 15,
   "metadata": {},
   "outputs": [
    {
     "name": "stdout",
     "output_type": "stream",
     "text": [
      "Current value: 1\n",
      "Current value: 2\n",
      "Current value: 3\n",
      "Current value: 4\n",
      "Current value: 5\n",
      "Current value: 6\n",
      "Current value: 7\n",
      "Current value: 8\n",
      "Current value: 9\n",
      "Current value: 10\n",
      "Error, Exceeded maximum value\n",
      "Current value: 10\n",
      "Error, Exceeded maximum value\n",
      "Current value: 10\n",
      "Counter reset. Current value: 0\n"
     ]
    }
   ],
   "source": [
    "### Testing the solutions\n",
    "max_value = 10\n",
    "counter = Counter(max_value)\n",
    "\n",
    "# Increment the counter a few times\n",
    "for _ in range(max_value + 2):\n",
    "    counter.increment()\n",
    "    print(\"Current value:\", counter.get_value())\n",
    "\n",
    "# Reset the counter\n",
    "counter.reset()\n",
    "print(\"Counter reset. Current value:\", counter.get_value())"
   ]
  },
  {
   "cell_type": "markdown",
   "metadata": {},
   "source": [
    "2. Copy and paste your solution to question 1 and modify it so that all the data held by the counter is private. Implement functions to check the value of the counter, check the maximum value, and check if the counter is at the maximum."
   ]
  },
  {
   "cell_type": "code",
   "execution_count": 16,
   "metadata": {},
   "outputs": [],
   "source": [
    "### Solutions\n",
    "class Counter:\n",
    "    def __init__(self, max):\n",
    "        self._max = max_value\n",
    "        self._value = 0\n",
    "    def increment(self):\n",
    "        if self._value < self._max:\n",
    "            self._value += 1\n",
    "        else:\n",
    "            print(\"Error, Exceeded maximum value\")\n",
    "    def reset(self):\n",
    "        self._value = 0\n",
    "    def get_value(self):\n",
    "        return self._value\n",
    "    def get_max_value(self):\n",
    "        return self._max\n",
    "    def is_at_max(self):\n",
    "        self._value == self._max"
   ]
  },
  {
   "cell_type": "code",
   "execution_count": 17,
   "metadata": {},
   "outputs": [
    {
     "name": "stdout",
     "output_type": "stream",
     "text": [
      "Current value: 1\n",
      "Current value: 2\n",
      "Current value: 3\n",
      "Current value: 4\n",
      "Current value: 5\n",
      "Current value: 6\n",
      "Current value: 7\n",
      "Current value: 8\n",
      "Current value: 9\n",
      "Current value: 10\n",
      "Error, Exceeded maximum value\n",
      "Current value: 10\n",
      "Error, Exceeded maximum value\n",
      "Current value: 10\n",
      "Counter reset. Current value: 0\n"
     ]
    }
   ],
   "source": [
    "### Testing the solutions\n",
    "max_value = 10\n",
    "counter = Counter(max_value)\n",
    "\n",
    "# Increment the counter a few times\n",
    "for _ in range(max_value + 2):\n",
    "    counter.increment()\n",
    "    print(\"Current value:\", counter.get_value())\n",
    "\n",
    "# Reset the counter\n",
    "counter.reset()\n",
    "print(\"Counter reset. Current value:\", counter.get_value())"
   ]
  },
  {
   "cell_type": "markdown",
   "metadata": {},
   "source": [
    "3. Implement a class to represent a rectangle, holding the length, width, and $x$ and $y$ coordinates of a corner of the object. Implement functions that compute the area and perimeter of the rectangle. Make all data members private and privide accessors to retrieve values of data members. "
   ]
  },
  {
   "cell_type": "code",
   "execution_count": 18,
   "metadata": {},
   "outputs": [],
   "source": [
    "### Solutions\n",
    "class Rectangle:\n",
    "    def __init__(self, length, width, x, y):\n",
    "        self._length = length\n",
    "        self._width = width\n",
    "        self._x = x\n",
    "        self._y = y\n",
    "    ### Accessor\n",
    "    def get_length(self):\n",
    "        return self._length\n",
    "    def get_width(self):\n",
    "        return self._width\n",
    "    def get_x(self):\n",
    "        return self._x\n",
    "    def get_y(self):\n",
    "        return self._y\n",
    "    ### Computing Area and Perimeter\n",
    "    def area(self):\n",
    "        return self._length * self._width\n",
    "    def perimeter(self):\n",
    "        return 2 * (self._length + self._width)"
   ]
  },
  {
   "cell_type": "code",
   "execution_count": 19,
   "metadata": {},
   "outputs": [
    {
     "name": "stdout",
     "output_type": "stream",
     "text": [
      "Length: 20\n",
      "Width: 10\n",
      "X-coordinate of corner: 6\n",
      "Y-coordinate of corner: 6\n",
      "Area: 200\n",
      "Perimeter: 60\n"
     ]
    }
   ],
   "source": [
    "### Testing the solution\n",
    "rectangle = Rectangle(20, 10, 6, 6)\n",
    "\n",
    "print(\"Length:\", rectangle.get_length())\n",
    "print(\"Width:\", rectangle.get_width())\n",
    "print(\"X-coordinate of corner:\", rectangle.get_x())\n",
    "print(\"Y-coordinate of corner:\", rectangle.get_y())\n",
    "\n",
    "print(\"Area:\", rectangle.area())\n",
    "print(\"Perimeter:\", rectangle.perimeter())"
   ]
  },
  {
   "cell_type": "markdown",
   "metadata": {},
   "source": [
    "4. Implement a class to represent a circle, holding the radius and $x$ and $y$ coordinates of center of the object. Implement functions that compute the area and perimeter of the rectangle. Make all data members private and privide accessors to retrieve values of data members. "
   ]
  },
  {
   "cell_type": "code",
   "execution_count": 20,
   "metadata": {},
   "outputs": [],
   "source": [
    "### Solutions \n",
    "import math\n",
    "\n",
    "class Circle:\n",
    "    def __init__(self, radius, center_x, center_y):\n",
    "        self._radius = radius\n",
    "        self._center_x = center_x\n",
    "        self._center_y = center_y \n",
    "    ### Accessor\n",
    "    def get_radius(self):\n",
    "        return self._radius\n",
    "    def get_center_x(self):\n",
    "        return self._center_x\n",
    "    def get_center_y(self):\n",
    "        return self._center_y\n",
    "    ### Computing the area and perimeter\n",
    "    def area(self):\n",
    "        return math.pi * self._radius**2\n",
    "    def perimeter(self):\n",
    "        return math.pi * 2 * self._radius"
   ]
  },
  {
   "cell_type": "code",
   "execution_count": 21,
   "metadata": {},
   "outputs": [
    {
     "name": "stdout",
     "output_type": "stream",
     "text": [
      "Radius: 5\n",
      "X-coordinate of center: 2\n",
      "Y-coordinate of center: 2\n",
      "Area: 78.53981633974483\n",
      "Circumference: 31.41592653589793\n"
     ]
    }
   ],
   "source": [
    "### Testing Solution\n",
    "circle = Circle(5, 2, 2)\n",
    "\n",
    "print(\"Radius:\", circle.get_radius())\n",
    "print(\"X-coordinate of center:\", circle.get_center_x())\n",
    "print(\"Y-coordinate of center:\", circle.get_center_y())\n",
    "\n",
    "print(\"Area:\", circle.area())\n",
    "print(\"Circumference:\", circle.perimeter())"
   ]
  },
  {
   "cell_type": "markdown",
   "metadata": {},
   "source": [
    "5. Implement a common base class for the classes implemented in 3 and 4 above which implements all common methods as not implemented functions (virtual). Re-implement your regtangle and circule classes to inherit from the base class and overload the functions accordingly. "
   ]
  },
  {
   "cell_type": "code",
   "execution_count": 3,
   "metadata": {},
   "outputs": [],
   "source": [
    "import math\n",
    "from abc import ABC, abstractmethod\n",
    "class Shape(ABC):\n",
    "    @abstractmethod\n",
    "    def area(self):\n",
    "        pass\n",
    "    @abstractmethod\n",
    "    def perimeter(self):\n",
    "        pass\n",
    "class Rectangle(Shape):\n",
    "    def __init__(self, length, width, x, y):\n",
    "        self._length = length\n",
    "        self._width = width\n",
    "        self._x = x\n",
    "        self._y = y\n",
    "\n",
    "    def area(self):\n",
    "        return self._length * self._width\n",
    "    def perimeter(self):\n",
    "        return 2 * (self._length + self._width)\n",
    "class Circle(Shape):\n",
    "    def __init__(self, radius, center_x, center_y):\n",
    "        self._radius = radius\n",
    "        self._center_x = center_x\n",
    "        self._center_y = center_y \n",
    "        \n",
    "    def area(self):\n",
    "        return math.pi * self._radius**2\n",
    "    def perimeter(self):\n",
    "        return math.pi * 2 * self._radius       "
   ]
  },
  {
   "cell_type": "code",
   "execution_count": 6,
   "metadata": {},
   "outputs": [
    {
     "name": "stdout",
     "output_type": "stream",
     "text": [
      "Rectangle Area: 100\n",
      "Rectangle Perimeter: 40\n",
      "Circle Area: 78.53981633974483\n",
      "Circle Perimeter: 31.41592653589793\n"
     ]
    }
   ],
   "source": [
    "#Testing the solution\n",
    "rectangle = Rectangle(10, 10, 2, 2)\n",
    "circle = Circle(5, 2, 2)\n",
    "\n",
    "print(\"Rectangle Area:\", rectangle.area())\n",
    "print(\"Rectangle Perimeter:\", rectangle.perimeter())\n",
    "print(\"Circle Area:\", circle.area())\n",
    "print(\"Circle Perimeter:\", circle.perimeter())"
   ]
  },
  {
   "cell_type": "markdown",
   "metadata": {},
   "source": [
    "6. Implement a triangle class analogous to the rectangle and circle in question 5."
   ]
  },
  {
   "cell_type": "code",
   "execution_count": 16,
   "metadata": {},
   "outputs": [],
   "source": [
    "import math\n",
    "class Triangle(Shape):\n",
    "    def __init__(self, base, height, x, y):\n",
    "        self._base = base\n",
    "        self._height = height \n",
    "        self._x = x\n",
    "        self._y = y\n",
    "    # Accessor\n",
    "    def get_base(self):\n",
    "        return self._base\n",
    "    def get_height(self):\n",
    "        return self._height\n",
    "    def get_x(self):\n",
    "        return self._x\n",
    "    def get_y(self):\n",
    "        return self._y\n",
    "    ## Computing the area \n",
    "    def area(self):\n",
    "        return (self._base * self._height) * 0.5\n",
    "    ## Computing the perimeter\n",
    "    def calculate_hypotenuse(self):\n",
    "        # Calculate the length of the hypotenuse using the Pythagorean theorem\n",
    "        return math.sqrt(self._base**2 + self._height**2)\n",
    "\n",
    "    def perimeter(self):\n",
    "        # Calculate the length of the hypotenuse\n",
    "        hypotenuse = self.calculate_hypotenuse()\n",
    "\n",
    "        # Compute the perimeter\n",
    "        perimeter = self._base + self._height + hypotenuse\n",
    "        return perimeter"
   ]
  },
  {
   "cell_type": "code",
   "execution_count": 17,
   "metadata": {},
   "outputs": [
    {
     "name": "stdout",
     "output_type": "stream",
     "text": [
      "Triangle Area: 10.0\n",
      "Triangle Perimeter 15.403124237432849\n"
     ]
    }
   ],
   "source": [
    "### Testing the solution\n",
    "triangle= Triangle(5, 4, 2, 2)\n",
    "print(\"Triangle Area:\", triangle.area())\n",
    "print(\"Triangle Perimeter\", triangle.perimeter())"
   ]
  },
  {
   "cell_type": "markdown",
   "metadata": {},
   "source": [
    "7. Add a function to the object classes, including the base, that returns a list of up to 16 pairs of  $x$ and $y$ points on the parameter of the object. "
   ]
  },
  {
   "cell_type": "code",
   "execution_count": 18,
   "metadata": {},
   "outputs": [],
   "source": [
    "import math\n",
    "\n",
    "class Shape:\n",
    "    def generate_points_on_perimeter(self):\n",
    "        raise NotImplementedError(\"Please implement this method in the subclasses\")\n",
    "\n",
    "class Rectangle(Shape):\n",
    "    def __init__(self, length, width):\n",
    "        self.__length = length\n",
    "        self.__width = width\n",
    "\n",
    "    def generate_points_on_perimeter(self):\n",
    "        # For rectangle, return the four corners\n",
    "        return [(0, 0), (self.__length, 0), (self.__length, self.__width), (0, self.__width)]\n",
    "\n",
    "    def area(self):\n",
    "        return self.__length * self.__width\n",
    "\n",
    "    def perimeter(self):\n",
    "        return 2 * (self.__length + self.__width)\n",
    "\n",
    "class Circle(Shape):\n",
    "    def __init__(self, radius):\n",
    "        self.__radius = radius\n",
    "\n",
    "    def generate_points_on_perimeter(self):\n",
    "        # For circle, return points evenly distributed along the circumference\n",
    "        num_points = min(16, int(2 * math.pi * self.__radius))\n",
    "        points = []\n",
    "        for i in range(num_points):\n",
    "            theta = i * (2 * math.pi) / num_points\n",
    "            x = self.__radius * math.cos(theta)\n",
    "            y = self.__radius * math.sin(theta)\n",
    "            points.append((x, y))\n",
    "        return points\n",
    "\n",
    "    def area(self):\n",
    "        return math.pi * self.__radius ** 2\n",
    "\n",
    "    def perimeter(self):\n",
    "        return 2 * math.pi * self.__radius\n",
    "\n",
    "class Triangle(Shape):\n",
    "    def __init__(self, base, height, x, y):\n",
    "        self._base = base\n",
    "        self._height = height\n",
    "        self._x = x\n",
    "        self._y = y\n",
    "\n",
    "    def generate_points_on_perimeter(self):\n",
    "        # For triangle, return points representing vertices\n",
    "        return [(self._x, self._y), (self._x + self._base, self._y), (self._x, self._y + self._height)]\n",
    "\n",
    "    def area(self):\n",
    "        return (self._base * self._height) * 0.5\n",
    "\n",
    "    def calculate_hypotenuse(self):\n",
    "        return math.sqrt(self._base**2 + self._height**2)\n",
    "\n",
    "    def perimeter(self):\n",
    "        hypotenuse = self.calculate_hypotenuse()\n",
    "        perimeter = self._base + self._height + hypotenuse\n",
    "        return perimeter"
   ]
  },
  {
   "cell_type": "code",
   "execution_count": 19,
   "metadata": {},
   "outputs": [
    {
     "name": "stdout",
     "output_type": "stream",
     "text": [
      "Rectangle Perimeter: 18\n",
      "Rectangle Points on Perimeter: [(0, 0), (5, 0), (5, 4), (0, 4)]\n",
      "Circle Perimeter: 18.84955592153876\n",
      "Circle Points on Perimeter: [(3.0, 0.0), (2.77163859753386, 1.1480502970952693), (2.121320343559643, 2.1213203435596424), (1.1480502970952695, 2.77163859753386), (1.8369701987210297e-16, 3.0), (-1.1480502970952693, 2.77163859753386), (-2.1213203435596424, 2.121320343559643), (-2.77163859753386, 1.1480502970952697), (-3.0, 3.6739403974420594e-16), (-2.7716385975338604, -1.148050297095269), (-2.121320343559643, -2.1213203435596424), (-1.148050297095271, -2.7716385975338595), (-5.51091059616309e-16, -3.0), (1.14805029709527, -2.77163859753386), (2.121320343559642, -2.121320343559643), (2.7716385975338595, -1.148050297095271)]\n",
      "Triangle Perimeter: 12.0\n",
      "Triangle Points on Perimeter: [(0, 0), (3, 0), (0, 4)]\n"
     ]
    }
   ],
   "source": [
    "# Testing the classes\n",
    "rectangle = Rectangle(5, 4)\n",
    "print(\"Rectangle Perimeter:\", rectangle.perimeter())\n",
    "print(\"Rectangle Points on Perimeter:\", rectangle.generate_points_on_perimeter())\n",
    "\n",
    "circle = Circle(3)\n",
    "print(\"Circle Perimeter:\", circle.perimeter())\n",
    "print(\"Circle Points on Perimeter:\", circle.generate_points_on_perimeter())\n",
    "\n",
    "triangle = Triangle(3, 4, 0, 0)\n",
    "print(\"Triangle Perimeter:\", triangle.perimeter())\n",
    "print(\"Triangle Points on Perimeter:\", triangle.generate_points_on_perimeter())"
   ]
  },
  {
   "cell_type": "markdown",
   "metadata": {},
   "source": [
    "8. Add a function to the object classes, including the base, that tests if a given set of $x$ and $y$ coordinates are inside of the object. You'll have to think through how to determine if a set of coordinates are inside an object for each object type."
   ]
  },
  {
   "cell_type": "code",
   "execution_count": 20,
   "metadata": {},
   "outputs": [],
   "source": [
    "import math\n",
    "\n",
    "class Shape:\n",
    "    def is_inside(self, x, y):\n",
    "        raise NotImplementedError(\"Please implement this method in the subclasses\")\n",
    "\n",
    "class Rectangle(Shape):\n",
    "    def __init__(self, length, width):\n",
    "        self.__length = length\n",
    "        self.__width = width\n",
    "\n",
    "    def is_inside(self, x, y):\n",
    "        # Checking if the point (x, y) lies inside the rectangle\n",
    "        return 0 <= x <= self.__length and 0 <= y <= self.__width\n",
    "\n",
    "class Circle(Shape):\n",
    "    def __init__(self, radius):\n",
    "        self.__radius = radius\n",
    "\n",
    "    def is_inside(self, x, y):\n",
    "        # Checking if the dist between the point (x, y) and the center of the circle is less than the radius\n",
    "        distance = math.sqrt((0 - x) ** 2 + (0 - y) ** 2)\n",
    "        return distance <= self.__radius\n",
    "\n",
    "class Triangle(Shape):\n",
    "    def __init__(self, base, height):\n",
    "        self.__base = base\n",
    "        self.__height = height\n",
    "\n",
    "    def is_inside(self, x, y):\n",
    "        # Checking if the point (x, y) lies inside the triangle\n",
    "        triangle_area = 0.5 * self.__base * self.__height\n",
    "        point_area = 0.5 * abs(x) * abs(y)\n",
    "        return point_area <= triangle_area"
   ]
  },
  {
   "cell_type": "code",
   "execution_count": 21,
   "metadata": {},
   "outputs": [
    {
     "name": "stdout",
     "output_type": "stream",
     "text": [
      "(2, 2) is inside rectangle: True\n",
      "(6, 6) is inside rectangle: False\n",
      "(2, 2) is inside circle: True\n",
      "(5, 5) is inside circle: False\n",
      "(2, 2) is inside triangle: True\n",
      "(4, 4) is inside triangle: True\n"
     ]
    }
   ],
   "source": [
    "# Testing the classes\n",
    "rectangle = Rectangle(5, 4)\n",
    "print(\"(2, 2) is inside rectangle:\", rectangle.is_inside(2, 2))\n",
    "print(\"(6, 6) is inside rectangle:\", rectangle.is_inside(6, 6))\n",
    "\n",
    "circle = Circle(3)\n",
    "print(\"(2, 2) is inside circle:\", circle.is_inside(2, 2))\n",
    "print(\"(5, 5) is inside circle:\", circle.is_inside(5, 5))\n",
    "\n",
    "triangle = Triangle(4, 6)\n",
    "print(\"(2, 2) is inside triangle:\", triangle.is_inside(2, 2))\n",
    "print(\"(4, 4) is inside triangle:\", triangle.is_inside(4, 4))"
   ]
  },
  {
   "cell_type": "markdown",
   "metadata": {},
   "source": [
    "9. Add a function in the base class of the object classes that returns true/false testing that the object overlaps with another object."
   ]
  },
  {
   "cell_type": "code",
   "execution_count": 22,
   "metadata": {},
   "outputs": [],
   "source": [
    "import math\n",
    "\n",
    "class Shape:\n",
    "    def overlap(self, other):\n",
    "        raise NotImplementedError(\"Please implement this method in the subclasses\")\n",
    "\n",
    "class Rectangle(Shape):\n",
    "    def __init__(self, length, width):\n",
    "        self.__length = length\n",
    "        self.__width = width\n",
    "\n",
    "    def overlap(self, other):\n",
    "        # Checking if the rectangle overlaps with another rectangle\n",
    "        if isinstance(other, Rectangle):\n",
    "            return (abs(other.__length - self.__length) < self.__length + other.__length) and \\\n",
    "                   (abs(other.__width - self.__width) < self.__width + other.__width)\n",
    "        else:\n",
    "            return False\n",
    "\n",
    "class Circle(Shape):\n",
    "    def __init__(self, radius):\n",
    "        self.__radius = radius\n",
    "\n",
    "    def overlap(self, other):\n",
    "        # Checking if the circle overlaps with another circle\n",
    "        if isinstance(other, Circle):\n",
    "            distance_between_centers = math.sqrt((other.__radius - self.__radius) ** 2)\n",
    "            return distance_between_centers < (self.__radius + other.__radius)\n",
    "        else:\n",
    "            return False\n",
    "\n",
    "class Triangle(Shape):\n",
    "    def __init__(self, base, height):\n",
    "        self.__base = base\n",
    "        self.__height = height\n",
    "\n",
    "    def overlap(self, other):\n",
    "        # Checking if the triangle overlaps with another triangle\n",
    "        if isinstance(other, Triangle):\n",
    "            return (self.__base + other.__base) > abs(self.__base - other.__base) and \\\n",
    "                   (self.__height + other.__height) > abs(self.__height - other.__height)\n",
    "        else:\n",
    "            return False"
   ]
  },
  {
   "cell_type": "code",
   "execution_count": 23,
   "metadata": {},
   "outputs": [
    {
     "name": "stdout",
     "output_type": "stream",
     "text": [
      "Rectangles overlap: True\n",
      "Circles overlap: True\n",
      "Triangles overlap: True\n"
     ]
    }
   ],
   "source": [
    "# Testing the classes\n",
    "rectangle1 = Rectangle(5, 4)\n",
    "rectangle2 = Rectangle(3, 2)\n",
    "print(\"Rectangles overlap:\", rectangle1.overlap(rectangle2))\n",
    "\n",
    "circle1 = Circle(3)\n",
    "circle2 = Circle(2)\n",
    "print(\"Circles overlap:\", circle1.overlap(circle2))\n",
    "\n",
    "triangle1 = Triangle(4, 6)\n",
    "triangle2 = Triangle(5, 7)\n",
    "print(\"Triangles overlap:\", triangle1.overlap(triangle2))"
   ]
  },
  {
   "cell_type": "markdown",
   "metadata": {},
   "source": [
    "10. Copy the `Canvas` class from lecture to in a python file creating a `paint` module. Copy your classes from above into the module and implement paint functions. Implement a `CompoundShape` class. Create a simple drawing demonstrating that all of your classes are working."
   ]
  },
  {
   "cell_type": "code",
   "execution_count": 24,
   "metadata": {},
   "outputs": [],
   "source": [
    "class Canvas:\n",
    "    def __init__(self, width, height):\n",
    "        self.width = width\n",
    "        self.height = height\n",
    "        self.data = [[' '] * width for _ in range(height)]\n",
    "\n",
    "    def set_pixel(self, row, col, char='*'):\n",
    "        self.data[row][col] = char\n",
    "\n",
    "    def get_pixel(self, row, col):\n",
    "        return self.data[row][col]\n",
    "    \n",
    "    def clear_canvas(self):\n",
    "        self.data = [[' '] * self.width for _ in range(self.height)]\n",
    "    \n",
    "    def v_line(self, x, y, w, **kwargs):\n",
    "        for i in range(y, y+w):\n",
    "            self.set_pixel(i, x, **kwargs)\n",
    "\n",
    "    def h_line(self, x, y, h, **kwargs):\n",
    "        for i in range(x, x+h):\n",
    "            self.set_pixel(y, i, **kwargs)\n",
    "            \n",
    "    def line(self, x1, y1, x2, y2, **kwargs):\n",
    "        slope = (y2 - y1) / (x2 - x1)\n",
    "        for y in range(y1, y2):\n",
    "            x = int(slope * y)\n",
    "            self.set_pixel(x, y, **kwargs)\n",
    "            \n",
    "    def display(self):\n",
    "        print(\"\\n\".join([\"\".join(row) for row in self.data]))\n",
    "\n",
    "\n",
    "class Shape:\n",
    "    def generate_points_on_perimeter(self):\n",
    "        raise NotImplementedError(\"Please implement this method in the subclasses\")\n",
    "\n",
    "    def is_inside(self, x, y):\n",
    "        raise NotImplementedError(\"Please implement this method in the subclasses\")\n",
    "\n",
    "    def overlap(self, other):\n",
    "        raise NotImplementedError(\"Please implement this method in the subclasses\")\n",
    "\n",
    "\n",
    "class Rectangle(Shape):\n",
    "    def __init__(self, length, width):\n",
    "        self.length = length\n",
    "        self.width = width\n",
    "\n",
    "    def generate_points_on_perimeter(self):\n",
    "        return [(0, 0), (self.length, 0), (self.length, self.width), (0, self.width)]\n",
    "\n",
    "    def is_inside(self, x, y):\n",
    "        return 0 <= x < self.length and 0 <= y < self.width\n",
    "\n",
    "    def overlap(self, other):\n",
    "        if isinstance(other, Rectangle):\n",
    "            return (abs(other.length - self.length) < self.length + other.length) and \\\n",
    "                   (abs(other.width - self.width) < self.width + other.width)\n",
    "        else:\n",
    "            return False\n",
    "\n",
    "\n",
    "class Circle(Shape):\n",
    "    def __init__(self, radius):\n",
    "        self.radius = radius\n",
    "\n",
    "    def generate_points_on_perimeter(self):\n",
    "        num_points = min(16, int(2 * math.pi * self.radius))\n",
    "        points = []\n",
    "        for i in range(num_points):\n",
    "            theta = i * (2 * math.pi) / num_points\n",
    "            x = int(self.radius * math.cos(theta))\n",
    "            y = int(self.radius * math.sin(theta))\n",
    "            points.append((x, y))\n",
    "        return points\n",
    "\n",
    "    def is_inside(self, x, y):\n",
    "        distance = math.sqrt(x ** 2 + y ** 2)\n",
    "        return distance <= self.radius\n",
    "\n",
    "    def overlap(self, other):\n",
    "        if isinstance(other, Circle):\n",
    "            distance_between_centers = math.sqrt((other.radius - self.radius) ** 2)\n",
    "            return distance_between_centers < (self.radius + other.radius)\n",
    "        else:\n",
    "            return False\n",
    "\n",
    "\n",
    "class Triangle(Shape):\n",
    "    def __init__(self, base, height):\n",
    "        self.base = base\n",
    "        self.height = height\n",
    "\n",
    "    def generate_points_on_perimeter(self):\n",
    "        return [(0, 0), (self.base, 0), (0, self.height)]\n",
    "\n",
    "    def is_inside(self, x, y):\n",
    "        triangle_area = 0.5 * self.base * self.height\n",
    "        point_area = 0.5 * abs(x) * abs(y)\n",
    "        return point_area <= triangle_area\n",
    "\n",
    "    def overlap(self, other):\n",
    "        if isinstance(other, Triangle):\n",
    "            return (self.base + other.base) > abs(self.base - other.base) and \\\n",
    "                   (self.height + other.height) > abs(self.height - other.height)\n",
    "        else:\n",
    "            return False\n",
    "\n",
    "\n",
    "class CompoundShape(Shape):\n",
    "    def __init__(self, shapes):\n",
    "        self.shapes = shapes\n",
    "\n",
    "    def generate_points_on_perimeter(self):\n",
    "        points = []\n",
    "        for shape in self.shapes:\n",
    "            points.extend(shape.generate_points_on_perimeter())\n",
    "        return points\n",
    "\n",
    "    def is_inside(self, x, y):\n",
    "        for shape in self.shapes:\n",
    "            if shape.is_inside(x, y):\n",
    "                return True\n",
    "        return False\n",
    "\n",
    "    def overlap(self, other):\n",
    "        for shape in self.shapes:\n",
    "            if shape.overlap(other):\n",
    "                return True\n",
    "        return False"
   ]
  },
  {
   "cell_type": "code",
   "execution_count": 25,
   "metadata": {},
   "outputs": [
    {
     "name": "stdout",
     "output_type": "stream",
     "text": [
      "*    *              \n",
      "                    \n",
      "                    \n",
      "                    \n",
      "          *   *     \n",
      "                    \n",
      "                    \n",
      "*                   \n",
      " *                 *\n",
      "   *             *  \n",
      "*    *              \n",
      "    *           *   \n",
      "     *    *    *    \n",
      "    *           *   \n",
      "                    \n",
      "   *             *  \n",
      " *                 *\n",
      "*                   \n",
      "                    \n",
      "                    \n"
     ]
    }
   ],
   "source": [
    "# Simple drawing demonstration\n",
    "if __name__ == \"__main__\":\n",
    "    canvas = Canvas(20, 20)\n",
    "\n",
    "    # Create shapes\n",
    "    rectangle = Rectangle(10, 5)\n",
    "    circle = Circle(5)\n",
    "    triangle = Triangle(8, 4)\n",
    "\n",
    "    # Draw shapes on canvas\n",
    "    for x, y in rectangle.generate_points_on_perimeter():\n",
    "        canvas.set_pixel(x, y)\n",
    "    for x, y in circle.generate_points_on_perimeter():\n",
    "        canvas.set_pixel(x + 12, y)\n",
    "    for x, y in triangle.generate_points_on_perimeter():\n",
    "        canvas.set_pixel(x + 4, y + 10)\n",
    "\n",
    "    # Display canvas\n",
    "    canvas.display()"
   ]
  },
  {
   "cell_type": "markdown",
   "metadata": {},
   "source": [
    "11. Create a `RasterDrawing` class. Demonstrate that you can create a drawing made of several shapes, paint the drawing, modify the drawing, and paint it again. "
   ]
  },
  {
   "cell_type": "code",
   "execution_count": 26,
   "metadata": {},
   "outputs": [
    {
     "name": "stdout",
     "output_type": "stream",
     "text": [
      "Initial Drawing:\n",
      "*    *  * *         \n",
      "    *               \n",
      "                    \n",
      "   *                \n",
      "**                  \n",
      "*         *         \n",
      "                    \n",
      "                    \n",
      "                    \n",
      "                    \n",
      "                    \n",
      "                    \n",
      "                    \n",
      "                    \n",
      "                    \n",
      "                    \n",
      "                    \n",
      "                    \n",
      "                    \n",
      "                    \n",
      "\n",
      "Modified Drawing:\n",
      "*    *  * *         \n",
      "    *               \n",
      "                    \n",
      "   *                \n",
      "**                  \n",
      "*         *         \n",
      "*       *           \n",
      "                    \n",
      "                    \n",
      "                    \n",
      "                    \n",
      "                    \n",
      "                    \n",
      "                    \n",
      "                    \n",
      "                    \n",
      "                    \n",
      "                    \n",
      "                    \n",
      "                    \n"
     ]
    }
   ],
   "source": [
    "class RasterDrawing:\n",
    "    def __init__(self, width, height):\n",
    "        self.canvas = Canvas(width, height)\n",
    "        self.shapes = []\n",
    "\n",
    "    def add_shape(self, shape):\n",
    "        self.shapes.append(shape)\n",
    "\n",
    "    def paint(self):\n",
    "        for shape in self.shapes:\n",
    "            points = shape.generate_points_on_perimeter()\n",
    "            for x, y in points:\n",
    "                if 0 <= x < self.canvas.width and 0 <= y < self.canvas.height:\n",
    "                    self.canvas.set_pixel(y, x)\n",
    "\n",
    "    def clear(self):\n",
    "        self.canvas.clear_canvas()\n",
    "\n",
    "    def display(self):\n",
    "        self.canvas.display()\n",
    "\n",
    "\n",
    "if __name__ == \"__main__\":\n",
    "    # Create a RasterDrawing instance\n",
    "    drawing = RasterDrawing(20, 20)\n",
    "\n",
    "    # Create shapes and add them to the drawing\n",
    "    rectangle = Rectangle(10, 5)\n",
    "    circle = Circle(5)\n",
    "    triangle = Triangle(8, 4)\n",
    "\n",
    "    drawing.add_shape(rectangle)\n",
    "    drawing.add_shape(circle)\n",
    "    drawing.add_shape(triangle)\n",
    "\n",
    "    # Paint the drawing\n",
    "    drawing.paint()\n",
    "\n",
    "    # Display the drawing\n",
    "    print(\"Initial Drawing:\")\n",
    "    drawing.display()\n",
    "\n",
    "    # Clear the canvas and modify the drawing\n",
    "    drawing.clear()\n",
    "    new_rectangle = Rectangle(8, 6)\n",
    "    drawing.add_shape(new_rectangle)\n",
    "\n",
    "    # Paint the modified drawing\n",
    "    drawing.paint()\n",
    "\n",
    "    # Display the modified drawing\n",
    "    print(\"\\nModified Drawing:\")\n",
    "    drawing.display()"
   ]
  },
  {
   "cell_type": "markdown",
   "metadata": {},
   "source": [
    "12. Implement the ability to load/save raster drawings and demonstate that your method works. One way to implement this ability:\n",
    "\n",
    "   * Overload `__repr__` functions of all objects to return strings of the python code that would construct the object.\n",
    "   \n",
    "   * In the save method of raster drawing class, store the representations into the file.\n",
    "   * Write a loader function that reads the file and uses `eval` to instantiate the object.\n",
    "\n",
    "For example:"
   ]
  },
  {
   "cell_type": "code",
   "execution_count": 27,
   "metadata": {},
   "outputs": [],
   "source": [
    "class foo:\n",
    "    def __init__(self,a,b=None):\n",
    "        self.a=a\n",
    "        self.b=b\n",
    "        \n",
    "    def __repr__(self):\n",
    "        return \"foo(\"+repr(self.a)+\",\"+repr(self.b)+\")\"\n",
    "    \n",
    "    def save(self,filename):\n",
    "        f=open(filename,\"w\")\n",
    "        f.write(self.__repr__())\n",
    "        f.close()\n",
    "        \n",
    "   \n",
    "def foo_loader(filename):\n",
    "    f=open(filename,\"r\")\n",
    "    tmp=eval(f.read())\n",
    "    f.close()\n",
    "    return tmp"
   ]
  },
  {
   "cell_type": "code",
   "execution_count": 28,
   "metadata": {},
   "outputs": [
    {
     "name": "stdout",
     "output_type": "stream",
     "text": [
      "foo(1,'hello')\n"
     ]
    }
   ],
   "source": [
    "# Test\n",
    "print(repr(foo(1,\"hello\")))"
   ]
  },
  {
   "cell_type": "code",
   "execution_count": 29,
   "metadata": {},
   "outputs": [],
   "source": [
    "# Create an object and save it\n",
    "ff=foo(1,\"hello\")\n",
    "ff.save(\"Test.foo\")"
   ]
  },
  {
   "cell_type": "code",
   "execution_count": 30,
   "metadata": {},
   "outputs": [
    {
     "name": "stdout",
     "output_type": "stream",
     "text": [
      "foo(1,'hello')"
     ]
    }
   ],
   "source": [
    "# Check contents of the saved file\n",
    "!cat Test.foo"
   ]
  },
  {
   "cell_type": "code",
   "execution_count": 31,
   "metadata": {},
   "outputs": [
    {
     "data": {
      "text/plain": [
       "foo(1,'hello')"
      ]
     },
     "execution_count": 31,
     "metadata": {},
     "output_type": "execute_result"
    }
   ],
   "source": [
    "# Load the object\n",
    "ff_reloaded=foo_loader(\"Test.foo\")\n",
    "ff_reloaded"
   ]
  },
  {
   "cell_type": "code",
   "execution_count": 32,
   "metadata": {},
   "outputs": [],
   "source": [
    "class RasterDrawing:\n",
    "    def __init__(self, width, height):\n",
    "        self.canvas = Canvas(width, height)\n",
    "        self.shapes = []\n",
    "\n",
    "    def add_shape(self, shape):\n",
    "        self.shapes.append(shape)\n",
    "\n",
    "    def paint(self):\n",
    "        for shape in self.shapes:\n",
    "            points = shape.generate_points_on_perimeter()\n",
    "            for x, y in points:\n",
    "                if 0 <= x < self.canvas.width and 0 <= y < self.canvas.height:\n",
    "                    self.canvas.set_pixel(y, x)\n",
    "\n",
    "    def clear(self):\n",
    "        self.canvas.clear_canvas()\n",
    "\n",
    "    def display(self):\n",
    "        self.canvas.display()\n",
    "\n",
    "    def save(self, filename):\n",
    "        with open(filename, \"w\") as f:\n",
    "            for shape in self.shapes:\n",
    "                f.write(repr(shape) + '\\n')\n",
    "\n",
    "    def load(self, filename):\n",
    "        with open(filename, \"r\") as f:\n",
    "            for line in f:\n",
    "                shape = eval(line.strip())\n",
    "                self.add_shape(shape)\n",
    "\n",
    "class Rectangle:\n",
    "    def __init__(self, length, width):\n",
    "        self.length = length\n",
    "        self.width = width\n",
    "\n",
    "    def generate_points_on_perimeter(self):\n",
    "        return [(0, 0), (self.length, 0), (self.length, self.width), (0, self.width)]\n",
    "\n",
    "    def __repr__(self):\n",
    "        return f\"Rectangle({self.length}, {self.width})\"\n",
    "\n",
    "class Circle:\n",
    "    def __init__(self, radius):\n",
    "        self.radius = radius\n",
    "\n",
    "    def generate_points_on_perimeter(self):\n",
    "        num_points = min(16, int(2 * math.pi * self.radius))\n",
    "        points = []\n",
    "        for i in range(num_points):\n",
    "            theta = i * (2 * math.pi) / num_points\n",
    "            x = int(self.radius * math.cos(theta))\n",
    "            y = int(self.radius * math.sin(theta))\n",
    "            points.append((x, y))\n",
    "        return points\n",
    "\n",
    "    def __repr__(self):\n",
    "        return f\"Circle({self.radius})\"\n",
    "\n",
    "class Triangle:\n",
    "    def __init__(self, base, height):\n",
    "        self.base = base\n",
    "        self.height = height\n",
    "\n",
    "    def generate_points_on_perimeter(self):\n",
    "        return [(0, 0), (self.base, 0), (0, self.height)]\n",
    "\n",
    "    def __repr__(self):\n",
    "        return f\"Triangle({self.base}, {self.height})\""
   ]
  },
  {
   "cell_type": "code",
   "execution_count": 33,
   "metadata": {},
   "outputs": [
    {
     "name": "stdout",
     "output_type": "stream",
     "text": [
      "Loaded Drawing:\n",
      "*    *  * *         \n",
      "    *               \n",
      "                    \n",
      "   *                \n",
      "**                  \n",
      "*         *         \n",
      "                    \n",
      "                    \n",
      "                    \n",
      "                    \n",
      "                    \n",
      "                    \n",
      "                    \n",
      "                    \n",
      "                    \n",
      "                    \n",
      "                    \n",
      "                    \n",
      "                    \n",
      "                    \n"
     ]
    }
   ],
   "source": [
    "if __name__ == \"__main__\":\n",
    "    # Create a RasterDrawing instance\n",
    "    drawing = RasterDrawing(20, 20)\n",
    "\n",
    "    # Create shapes and add them to the drawing\n",
    "    rectangle = Rectangle(10, 5)\n",
    "    circle = Circle(5)\n",
    "    triangle = Triangle(8, 4)\n",
    "\n",
    "    drawing.add_shape(rectangle)\n",
    "    drawing.add_shape(circle)\n",
    "    drawing.add_shape(triangle)\n",
    "\n",
    "    # Save the drawing to a file\n",
    "    drawing.save(\"drawing.txt\")\n",
    "\n",
    "    # Clear the canvas and load the drawing from the file\n",
    "    drawing.clear()\n",
    "    drawing.load(\"drawing.txt\")\n",
    "\n",
    "    # Paint the loaded drawing\n",
    "    drawing.paint()\n",
    "\n",
    "    # Display the loaded drawing\n",
    "    print(\"Loaded Drawing:\")\n",
    "    drawing.display()"
   ]
  },
  {
   "cell_type": "code",
   "execution_count": null,
   "metadata": {},
   "outputs": [],
   "source": []
  }
 ],
 "metadata": {
  "kernelspec": {
   "display_name": "Python 3 (ipykernel)",
   "language": "python",
   "name": "python3"
  },
  "language_info": {
   "codemirror_mode": {
    "name": "ipython",
    "version": 3
   },
   "file_extension": ".py",
   "mimetype": "text/x-python",
   "name": "python",
   "nbconvert_exporter": "python",
   "pygments_lexer": "ipython3",
   "version": "3.10.12"
  }
 },
 "nbformat": 4,
 "nbformat_minor": 4
}
