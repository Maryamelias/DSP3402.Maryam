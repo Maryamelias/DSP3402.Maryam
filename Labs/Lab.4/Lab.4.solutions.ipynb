{
 "cells": [
  {
   "cell_type": "markdown",
   "metadata": {},
   "source": [
    "# Lab 4- Object Oriented Programming\n",
    "\n",
    "For all of the exercises below, make sure you provide tests of your solutions.\n"
   ]
  },
  {
   "cell_type": "markdown",
   "metadata": {},
   "source": [
    "1. Write a \"counter\" class that can be incremented up to a specified maximum value, will print an error if an attempt is made to increment beyond that value, and allows reseting the counter. "
   ]
  },
  {
   "cell_type": "code",
   "execution_count": 1,
   "metadata": {},
   "outputs": [],
   "source": [
    "### Solutions\n",
    "class Counter:\n",
    "    def __init__(self, max):\n",
    "        self.max = max_value\n",
    "        self.value = 0\n",
    "    def increment(self):\n",
    "        if self.value < self.max:\n",
    "            self.value += 1\n",
    "        else:\n",
    "            print(\"Error, Exceeded maximum value\")\n",
    "    def reset(self):\n",
    "        self.value = 0\n",
    "    def get_value(self):\n",
    "        return self.value"
   ]
  },
  {
   "cell_type": "code",
   "execution_count": 2,
   "metadata": {},
   "outputs": [
    {
     "name": "stdout",
     "output_type": "stream",
     "text": [
      "Current value: 1\n",
      "Current value: 2\n",
      "Current value: 3\n",
      "Current value: 4\n",
      "Current value: 5\n",
      "Current value: 6\n",
      "Current value: 7\n",
      "Current value: 8\n",
      "Current value: 9\n",
      "Current value: 10\n",
      "Error, Exceeded maximum value\n",
      "Current value: 10\n",
      "Error, Exceeded maximum value\n",
      "Current value: 10\n",
      "Counter reset. Current value: 0\n"
     ]
    }
   ],
   "source": [
    "### Testing the solutions\n",
    "max_value = 10\n",
    "counter = Counter(max_value)\n",
    "\n",
    "# Increment the counter a few times\n",
    "for _ in range(max_value + 2):\n",
    "    counter.increment()\n",
    "    print(\"Current value:\", counter.get_value())\n",
    "\n",
    "# Reset the counter\n",
    "counter.reset()\n",
    "print(\"Counter reset. Current value:\", counter.get_value())"
   ]
  },
  {
   "cell_type": "markdown",
   "metadata": {},
   "source": [
    "2. Copy and paste your solution to question 1 and modify it so that all the data held by the counter is private. Implement functions to check the value of the counter, check the maximum value, and check if the counter is at the maximum."
   ]
  },
  {
   "cell_type": "code",
   "execution_count": 5,
   "metadata": {},
   "outputs": [],
   "source": [
    "### Solutions\n",
    "class Counter:\n",
    "    def __init__(self, max):\n",
    "        self._max = max_value\n",
    "        self._value = 0\n",
    "    def increment(self):\n",
    "        if self._value < self._max:\n",
    "            self._value += 1\n",
    "        else:\n",
    "            print(\"Error, Exceeded maximum value\")\n",
    "    def reset(self):\n",
    "        self._value = 0\n",
    "    def get_value(self):\n",
    "        return self._value\n",
    "    def get_max_value(self):\n",
    "        return self._max\n",
    "    def is_at_max(self):\n",
    "        self._value == self._max"
   ]
  },
  {
   "cell_type": "code",
   "execution_count": 6,
   "metadata": {},
   "outputs": [
    {
     "name": "stdout",
     "output_type": "stream",
     "text": [
      "Current value: 1\n",
      "Current value: 2\n",
      "Current value: 3\n",
      "Current value: 4\n",
      "Current value: 5\n",
      "Current value: 6\n",
      "Current value: 7\n",
      "Current value: 8\n",
      "Current value: 9\n",
      "Current value: 10\n",
      "Error, Exceeded maximum value\n",
      "Current value: 10\n",
      "Error, Exceeded maximum value\n",
      "Current value: 10\n",
      "Counter reset. Current value: 0\n"
     ]
    }
   ],
   "source": [
    "### Testing the solutions\n",
    "max_value = 10\n",
    "counter = Counter(max_value)\n",
    "\n",
    "# Increment the counter a few times\n",
    "for _ in range(max_value + 2):\n",
    "    counter.increment()\n",
    "    print(\"Current value:\", counter.get_value())\n",
    "\n",
    "# Reset the counter\n",
    "counter.reset()\n",
    "print(\"Counter reset. Current value:\", counter.get_value())"
   ]
  },
  {
   "cell_type": "markdown",
   "metadata": {},
   "source": [
    "3. Implement a class to represent a rectangle, holding the length, width, and $x$ and $y$ coordinates of a corner of the object. Implement functions that compute the area and perimeter of the rectangle. Make all data members private and privide accessors to retrieve values of data members. "
   ]
  },
  {
   "cell_type": "code",
   "execution_count": 4,
   "metadata": {},
   "outputs": [],
   "source": [
    "### Solutions\n",
    "class Rectangle:\n",
    "    def __init__(self, length, width, x, y):\n",
    "        self._length = length\n",
    "        self._width = width\n",
    "        self._x = x\n",
    "        self._y = y\n",
    "    ### Accessor\n",
    "    def get_length(self):\n",
    "        return self._length\n",
    "    def get_width(self):\n",
    "        return self._width\n",
    "    def get_x(self):\n",
    "        return self._x\n",
    "    def get_y(self):\n",
    "        return self._y\n",
    "    ### Computing Area and Perimeter\n",
    "    def area(self):\n",
    "        return self._length * self._width\n",
    "    def perimeter(self):\n",
    "        return 2 * (self._length + self._width)"
   ]
  },
  {
   "cell_type": "code",
   "execution_count": 6,
   "metadata": {},
   "outputs": [
    {
     "name": "stdout",
     "output_type": "stream",
     "text": [
      "Length: 20\n",
      "Width: 10\n",
      "X-coordinate of corner: 6\n",
      "Y-coordinate of corner: 6\n",
      "Area: 200\n",
      "Perimeter: 60\n"
     ]
    }
   ],
   "source": [
    "### Testing the solution\n",
    "rectangle = Rectangle(20, 10, 6, 6)\n",
    "\n",
    "print(\"Length:\", rectangle.get_length())\n",
    "print(\"Width:\", rectangle.get_width())\n",
    "print(\"X-coordinate of corner:\", rectangle.get_x())\n",
    "print(\"Y-coordinate of corner:\", rectangle.get_y())\n",
    "\n",
    "print(\"Area:\", rectangle.area())\n",
    "print(\"Perimeter:\", rectangle.perimeter())"
   ]
  },
  {
   "cell_type": "markdown",
   "metadata": {},
   "source": [
    "4. Implement a class to represent a circle, holding the radius and $x$ and $y$ coordinates of center of the object. Implement functions that compute the area and perimeter of the rectangle. Make all data members private and privide accessors to retrieve values of data members. "
   ]
  },
  {
   "cell_type": "code",
   "execution_count": 11,
   "metadata": {},
   "outputs": [],
   "source": [
    "### Solutions \n",
    "import math\n",
    "\n",
    "class Circle:\n",
    "    def __init__(self, radius, center_x, center_y):\n",
    "        self._radius = radius\n",
    "        self._center_x = center_x\n",
    "        self._center_y = center_y \n",
    "    ### Accessor\n",
    "    def get_radius(self):\n",
    "        return self._radius\n",
    "    def get_center_x(self):\n",
    "        return self._center_x\n",
    "    def get_center_y(self):\n",
    "        return self._center_y\n",
    "    ### Computing the area and perimeter\n",
    "    def area(self):\n",
    "        return math.pi * self._radius**2\n",
    "    def perimeter(self):\n",
    "        return math.pi * 2 * self._radius"
   ]
  },
  {
   "cell_type": "code",
   "execution_count": 13,
   "metadata": {},
   "outputs": [
    {
     "name": "stdout",
     "output_type": "stream",
     "text": [
      "Radius: 5\n",
      "X-coordinate of center: 2\n",
      "Y-coordinate of center: 2\n",
      "Area: 78.53981633974483\n",
      "Circumference: 31.41592653589793\n"
     ]
    }
   ],
   "source": [
    "### Testing Solution\n",
    "circle = Circle(5, 2, 2)\n",
    "\n",
    "print(\"Radius:\", circle.get_radius())\n",
    "print(\"X-coordinate of center:\", circle.get_center_x())\n",
    "print(\"Y-coordinate of center:\", circle.get_center_y())\n",
    "\n",
    "print(\"Area:\", circle.area())\n",
    "print(\"Circumference:\", circle.perimeter())"
   ]
  },
  {
   "cell_type": "markdown",
   "metadata": {},
   "source": [
    "5. Implement a common base class for the classes implemented in 3 and 4 above which implements all common methods as not implemented functions (virtual). Re-implement your regtangle and circule classes to inherit from the base class and overload the functions accordingly. "
   ]
  },
  {
   "cell_type": "code",
   "execution_count": null,
   "metadata": {},
   "outputs": [],
   "source": []
  },
  {
   "cell_type": "markdown",
   "metadata": {},
   "source": [
    "6. Implement a triangle class analogous to the rectangle and circle in question 5."
   ]
  },
  {
   "cell_type": "code",
   "execution_count": null,
   "metadata": {},
   "outputs": [],
   "source": []
  },
  {
   "cell_type": "markdown",
   "metadata": {},
   "source": [
    "7. Add a function to the object classes, including the base, that returns a list of up to 16 pairs of  $x$ and $y$ points on the parameter of the object. "
   ]
  },
  {
   "cell_type": "code",
   "execution_count": null,
   "metadata": {},
   "outputs": [],
   "source": []
  },
  {
   "cell_type": "markdown",
   "metadata": {},
   "source": [
    "8. Add a function to the object classes, including the base, that tests if a given set of $x$ and $y$ coordinates are inside of the object. You'll have to think through how to determine if a set of coordinates are inside an object for each object type."
   ]
  },
  {
   "cell_type": "code",
   "execution_count": null,
   "metadata": {},
   "outputs": [],
   "source": []
  },
  {
   "cell_type": "markdown",
   "metadata": {},
   "source": [
    "9. Add a function in the base class of the object classes that returns true/false testing that the object overlaps with another object."
   ]
  },
  {
   "cell_type": "code",
   "execution_count": null,
   "metadata": {},
   "outputs": [],
   "source": []
  },
  {
   "cell_type": "markdown",
   "metadata": {},
   "source": [
    "10. Copy the `Canvas` class from lecture to in a python file creating a `paint` module. Copy your classes from above into the module and implement paint functions. Implement a `CompoundShape` class. Create a simple drawing demonstrating that all of your classes are working."
   ]
  },
  {
   "cell_type": "code",
   "execution_count": null,
   "metadata": {},
   "outputs": [],
   "source": []
  },
  {
   "cell_type": "markdown",
   "metadata": {},
   "source": [
    "11. Create a `RasterDrawing` class. Demonstrate that you can create a drawing made of several shapes, paint the drawing, modify the drawing, and paint it again. "
   ]
  },
  {
   "cell_type": "code",
   "execution_count": null,
   "metadata": {},
   "outputs": [],
   "source": []
  },
  {
   "cell_type": "markdown",
   "metadata": {},
   "source": [
    "12. Implement the ability to load/save raster drawings and demonstate that your method works. One way to implement this ability:\n",
    "\n",
    "   * Overload `__repr__` functions of all objects to return strings of the python code that would construct the object.\n",
    "   \n",
    "   * In the save method of raster drawing class, store the representations into the file.\n",
    "   * Write a loader function that reads the file and uses `eval` to instantiate the object.\n",
    "\n",
    "For example:"
   ]
  },
  {
   "cell_type": "code",
   "execution_count": 1,
   "metadata": {},
   "outputs": [],
   "source": [
    "class foo:\n",
    "    def __init__(self,a,b=None):\n",
    "        self.a=a\n",
    "        self.b=b\n",
    "        \n",
    "    def __repr__(self):\n",
    "        return \"foo(\"+repr(self.a)+\",\"+repr(self.b)+\")\"\n",
    "    \n",
    "    def save(self,filename):\n",
    "        f=open(filename,\"w\")\n",
    "        f.write(self.__repr__())\n",
    "        f.close()\n",
    "        \n",
    "   \n",
    "def foo_loader(filename):\n",
    "    f=open(filename,\"r\")\n",
    "    tmp=eval(f.read())\n",
    "    f.close()\n",
    "    return tmp\n"
   ]
  },
  {
   "cell_type": "code",
   "execution_count": 2,
   "metadata": {},
   "outputs": [
    {
     "name": "stdout",
     "output_type": "stream",
     "text": [
      "foo(1,'hello')\n"
     ]
    }
   ],
   "source": [
    "# Test\n",
    "print(repr(foo(1,\"hello\")))"
   ]
  },
  {
   "cell_type": "code",
   "execution_count": 3,
   "metadata": {},
   "outputs": [],
   "source": [
    "# Create an object and save it\n",
    "ff=foo(1,\"hello\")\n",
    "ff.save(\"Test.foo\")"
   ]
  },
  {
   "cell_type": "code",
   "execution_count": 4,
   "metadata": {},
   "outputs": [
    {
     "name": "stdout",
     "output_type": "stream",
     "text": [
      "foo(1,'hello')"
     ]
    }
   ],
   "source": [
    "# Check contents of the saved file\n",
    "!cat Test.foo"
   ]
  },
  {
   "cell_type": "code",
   "execution_count": 5,
   "metadata": {},
   "outputs": [
    {
     "data": {
      "text/plain": [
       "foo(1,'hello')"
      ]
     },
     "execution_count": 5,
     "metadata": {},
     "output_type": "execute_result"
    }
   ],
   "source": [
    "# Load the object\n",
    "ff_reloaded=foo_loader(\"Test.foo\")\n",
    "ff_reloaded"
   ]
  },
  {
   "cell_type": "code",
   "execution_count": null,
   "metadata": {},
   "outputs": [],
   "source": []
  },
  {
   "cell_type": "code",
   "execution_count": null,
   "metadata": {},
   "outputs": [],
   "source": []
  }
 ],
 "metadata": {
  "kernelspec": {
   "display_name": "Python 3 (ipykernel)",
   "language": "python",
   "name": "python3"
  },
  "language_info": {
   "codemirror_mode": {
    "name": "ipython",
    "version": 3
   },
   "file_extension": ".py",
   "mimetype": "text/x-python",
   "name": "python",
   "nbconvert_exporter": "python",
   "pygments_lexer": "ipython3",
   "version": "3.10.12"
  }
 },
 "nbformat": 4,
 "nbformat_minor": 4
}
