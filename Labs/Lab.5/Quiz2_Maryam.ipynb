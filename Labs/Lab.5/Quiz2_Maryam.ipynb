{
 "cells": [
  {
   "cell_type": "markdown",
   "metadata": {},
   "source": [
    "# Lecture 10 (Part b)\n"
   ]
  },
  {
   "cell_type": "markdown",
   "metadata": {},
   "source": [
    "## Quiz 2 \n",
    "\n",
    "Write a function `make_deck` that returns a list of all of the cards in a standard card deck. The return should be a list of tuples of pairs of suit and value. For example the 10 of Clubs would be  `('Clubs', 10)` and Queen of Hearts would be `('Hearts', 'Queen')`. Recall that a deck has 52 cards, divided into 4 suits (Clubs, Diamonds, Hearts, and Spades), and that each suit has 13 cards: 2 to 10, Jack, Queen, King, and Ace. Summit your solution with Lab 2."
   ]
  },
  {
   "cell_type": "code",
   "execution_count": 4,
   "metadata": {},
   "outputs": [],
   "source": [
    "def make_deck():\n",
    "    ## Defining the suit and values \n",
    "    suits = [\"Clubs\", \"Diamonds\", \"Hearts\", \"Spades\"]\n",
    "    values = ['2', '3', '4', '5', '6', '7', '8', '9', '10', 'Jack', 'Queen', 'King', 'Ace']\n",
    "    ## Iterating OVer suits and Values\n",
    "    deck = [(suit, value) for suit in suits for value in values]\n",
    "    return deck"
   ]
  },
  {
   "cell_type": "code",
   "execution_count": 5,
   "metadata": {},
   "outputs": [],
   "source": [
    "## Putting the function into var. deck\n",
    "deck = make_deck()"
   ]
  },
  {
   "cell_type": "code",
   "execution_count": 6,
   "metadata": {},
   "outputs": [
    {
     "name": "stdout",
     "output_type": "stream",
     "text": [
      "Print few cards in the deck:\n",
      "('Clubs', '2')\n",
      "('Clubs', '3')\n",
      "('Clubs', '4')\n",
      "('Clubs', '5')\n",
      "('Clubs', '6')\n",
      "('Clubs', '7')\n",
      "('Clubs', '8')\n",
      "('Clubs', '9')\n",
      "('Clubs', '10')\n",
      "('Clubs', 'Jack')\n"
     ]
    }
   ],
   "source": [
    "### Testing the function\n",
    "print(\"Print few cards in the deck:\")\n",
    "for card in deck[:10]:\n",
    "    print(card)"
   ]
  },
  {
   "cell_type": "code",
   "execution_count": null,
   "metadata": {},
   "outputs": [],
   "source": []
  }
 ],
 "metadata": {
  "kernelspec": {
   "display_name": "Python 3 (ipykernel)",
   "language": "python",
   "name": "python3"
  },
  "language_info": {
   "codemirror_mode": {
    "name": "ipython",
    "version": 3
   },
   "file_extension": ".py",
   "mimetype": "text/x-python",
   "name": "python",
   "nbconvert_exporter": "python",
   "pygments_lexer": "ipython3",
   "version": "3.10.12"
  }
 },
 "nbformat": 4,
 "nbformat_minor": 4
}
