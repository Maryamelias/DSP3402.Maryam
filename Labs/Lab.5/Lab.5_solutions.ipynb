{
 "cells": [
  {
   "cell_type": "markdown",
   "metadata": {},
   "source": [
    "# Lab 5\n"
   ]
  },
  {
   "cell_type": "markdown",
   "metadata": {},
   "source": [
    "Matrix Representation: In this lab you will be creating a simple linear algebra system. In memory, we will represent matrices as nested python lists as we have done in lecture. \n",
    "\n",
    "1. Create a `matrix` class with the following properties:\n",
    "    * It can be initialized in 2 ways:\n",
    "        1. with arguments `n` and `m`, the size of the matrix. A newly instanciated matrix will contain all zeros.\n",
    "        2. with a list of lists of values. Note that since we are using lists of lists to implement matrices, it is possible that not all rows have the same number of columns. Test explicitly that the matrix is properly specified.\n",
    "    * Matrix instances `M` can be indexed with `M[i][j]` and `M[i,j]`.\n",
    "    * Matrix assignment works in 2 ways:\n",
    "        1. If `M_1` and `M_2` are `matrix` instances `M_1=M_2` sets the values of `M_1` to those of `M_2`, if they are the same size. Error otherwise.\n",
    "        2. In example above `M_2` can be a list of lists of correct size.\n"
   ]
  },
  {
   "cell_type": "code",
   "execution_count": 13,
   "metadata": {},
   "outputs": [],
   "source": [
    "### Creating a matrix class\n",
    "class matrix:\n",
    "    ### Intialization\n",
    "    def __init__(self, n, m):\n",
    "        self.n = n\n",
    "        self.m = m\n",
    "        self.matrix = [[0 for j in range(m)] for i in range(n)]\n",
    "    ### Indexing the matrix\n",
    "    def __getitem__(self, index):\n",
    "        if isinstance(index, tuple):\n",
    "            i, j = index\n",
    "            return self.matrix[i][j]\n",
    "        elif isinstance(index, int):\n",
    "            return self.matrix[index]\n",
    "        else:\n",
    "            raise TypeError(\"Invalid\")\n",
    "            \n",
    "    ### Checking if given indices is with the bounds of the matrix\n",
    "    def is_valid_index(self, i, j):\n",
    "        return 0 <=1 < self.n and 0 <= j < self.m\n",
    "    ### Display of the matrix\n",
    "    def show_matrix(self):\n",
    "        for row in self.matrix:\n",
    "            print(row)"
   ]
  },
  {
   "cell_type": "code",
   "execution_count": 21,
   "metadata": {},
   "outputs": [
    {
     "name": "stdout",
     "output_type": "stream",
     "text": [
      "0\n",
      "0\n",
      "First Row: [0, 0, 0]\n",
      "[0, 0, 0]\n",
      "[0, 0, 0]\n",
      "[0, 0, 0]\n"
     ]
    }
   ],
   "source": [
    "### Testing solution\n",
    "M = matrix(3,3) # Creating an instance of the matrix class\n",
    "## Accessing i, j using M[i][j] notation\n",
    "print(M[1][2]) # Should access the elements at row 1, col 2\n",
    "\n",
    "## Accessing elements using M[i, j] notation\n",
    "print(M[2, 2]) # Should access the element at row 2, col 2\n",
    "\n",
    "## Accessing the entire row \n",
    "print(\"First Row:\" , M[0] ) ## access the 1st row \n",
    "### Showing the whole matrix\n",
    "M.show_matrix()"
   ]
  },
  {
   "cell_type": "markdown",
   "metadata": {},
   "source": [
    "2. Add the following methods:\n",
    "    * `shape()`: returns a tuple `(n,m)` of the shape of the matrix.\n",
    "    * `transpose()`: returns a new matrix instance which is the transpose of the matrix.\n",
    "    * `row(n)` and `column(n)`: that return the nth row or column of the matrix M as a new appropriately shaped matrix object.\n",
    "    * `to_list()`: which returns the matrix as a list of lists.\n",
    "    *  `block(n_0,n_1,m_0,m_1)` that returns a smaller matrix located at the n_0 to n_1 columns and m_0 to m_1 rows. \n",
    "    * (Extra credit) Modify `__getitem__` implemented above to support slicing.       "
   ]
  },
  {
   "cell_type": "code",
   "execution_count": 69,
   "metadata": {},
   "outputs": [],
   "source": [
    "class Matrix:\n",
    "    def __init__(self, n, m, matrix=None):\n",
    "        self.n = n\n",
    "        self.m = m\n",
    "        if matrix is None:\n",
    "            self.matrix = [[0 for j in range(m)] for i in range(n)]\n",
    "        else:\n",
    "            self.matrix = matrix\n",
    "\n",
    "    def shape(self):\n",
    "        return (self.n, self.m)  ## return the tuple in the shape of a matrix \n",
    "\n",
    "    def transpose(self):\n",
    "        transposed_matrix = [[self.matrix[j][i] for j in range(self.n)] for i in range(self.m)]\n",
    "        return Matrix(self.m, self.n, transposed_matrix)\n",
    "\n",
    "    def row(self, n):\n",
    "        return Matrix(1, self.m, [self.matrix[n][:]]) ## Return Row of matrix\n",
    "\n",
    "    def column(self, n):\n",
    "        return Matrix(self.n, 1, [[self.matrix[i][n]] for i in range(self.n)]) ## Return col of the matrix\n",
    "\n",
    "    def to_list(self):\n",
    "        return self.matrix ## return the matrix as a list of list\n",
    "\n",
    "    def block(self, n_0, n_1, m_0, m_1):  ## Returns a smaller matrix located to the n_0 - n_1 and m_0 - m_1 rows\n",
    "        return Matrix(n_1 - n_0, m_1 - m_0, [row[m_0:m_1] for row in self.matrix[n_0:n_1]])\n",
    "\n",
    "    def __getitem__(self, index):  ## implementing to support slicing\n",
    "        if isinstance(index, tuple):\n",
    "            row_slice, col_slice = index\n",
    "            if isinstance(row_slice, slice) and isinstance(col_slice, slice):\n",
    "                return Matrix(len(range(*row_slice.indices(self.n))), len(range(*col_slice.indices(self.m))),\n",
    "                              [row[col_slice] for row in self.matrix[row_slice]])\n",
    "            else:\n",
    "                raise TypeError(\"Invalid slice type\")\n",
    "        elif isinstance(index, int):\n",
    "            return self.matrix[index]\n",
    "        else:\n",
    "            raise TypeError(\"Invalid index type\")"
   ]
  },
  {
   "cell_type": "code",
   "execution_count": 70,
   "metadata": {},
   "outputs": [
    {
     "name": "stdout",
     "output_type": "stream",
     "text": [
      "Original matrix:\n",
      "[[0, 1, 2], [1, 2, 3], [2, 3, 4]]\n",
      "Shape of the matrix: (3, 3)\n",
      "Transposed matrix:\n",
      "[[0, 1, 2], [1, 2, 3], [2, 3, 4]]\n",
      "Row 1 of the matrix: [[1, 2, 3]]\n",
      "Column 2 of the matrix: [[2], [3], [4]]\n",
      "Block of the matrix:\n",
      "[[0, 1], [1, 2]]\n",
      "Slice of the matrix:\n",
      "[[0, 1], [1, 2]]\n"
     ]
    }
   ],
   "source": [
    "# Create a 3x3 matrix\n",
    "mat = Matrix(3, 3)\n",
    "\n",
    "# Fill the matrix with some values\n",
    "for i in range(3):\n",
    "    for j in range(3):\n",
    "        mat.matrix[i][j] = i + j\n",
    "\n",
    "# Print the original matrix\n",
    "print(\"Original matrix:\")\n",
    "print(mat.to_list())\n",
    "\n",
    "# Get the shape of the matrix\n",
    "print(\"Shape of the matrix:\", mat.shape())\n",
    "\n",
    "# Transpose the matrix\n",
    "transposed_mat = mat.transpose()\n",
    "print(\"Transposed matrix:\")\n",
    "print(transposed_mat.to_list())\n",
    "\n",
    "# Get the row and column of the matrix\n",
    "print(\"Row 1 of the matrix:\", mat.row(1).to_list())\n",
    "print(\"Column 2 of the matrix:\", mat.column(2).to_list())\n",
    "\n",
    "# Get a block of the matrix\n",
    "print(\"Block of the matrix:\")\n",
    "print(mat.block(0, 2, 0, 2).to_list())\n",
    "\n",
    "# Get a slice of the matrix\n",
    "print(\"Slice of the matrix:\")\n",
    "print(mat[0:2, 0:2].to_list())"
   ]
  },
  {
   "cell_type": "markdown",
   "metadata": {},
   "source": [
    "3. Write functions that create special matrices (note these are standalone functions, not member functions of your `matrix` class):\n",
    "    * `constant(n,m,c)`: returns a `n` by `m` matrix filled with floats of value `c`.\n",
    "    * `zeros(n,m)` and `ones(n,m)`: return `n` by `m` matrices filled with floats of value `0` and `1`, respectively.\n",
    "    * `eye(n)`: returns the n by n identity matrix."
   ]
  },
  {
   "cell_type": "code",
   "execution_count": 77,
   "metadata": {},
   "outputs": [],
   "source": [
    "def constant(n, m, c):\n",
    "    return Matrix(n,m, [[c] * m for _ in range(n)]) # returns a n by m matrix filled with floats of value c\n",
    "def zeros(n,m):\n",
    "    return constant(n,m,0) # return n by m matrices filled with floats of value 0.\n",
    "def ones(n,m):\n",
    "    return constant(n,m,1) # return n by m matrices filled with floats of value 1.\n",
    "def eye(n):\n",
    "    identity_matrix = zeros(n,m)\n",
    "    for i in range(n):\n",
    "        identity_matrix.matrix[i][j] = 1\n",
    "    return identity_matrix  #returns the n by n identity matrix"
   ]
  },
  {
   "cell_type": "code",
   "execution_count": 80,
   "metadata": {},
   "outputs": [
    {
     "name": "stdout",
     "output_type": "stream",
     "text": [
      "Constant Matrix:\n",
      "[[5, 5, 5], [5, 5, 5], [5, 5, 5]]\n",
      "\n",
      "Zeros Matrix:\n",
      "[[0, 0], [0, 0]]\n",
      "\n",
      "Ones Matrix:\n",
      "[[1, 1, 1, 1], [1, 1, 1, 1], [1, 1, 1, 1], [1, 1, 1, 1]]\n",
      "\n",
      "Identity Matrix:\n",
      "[[1, 0, 0, 0, 0], [0, 1, 0, 0, 0], [0, 0, 1, 0, 0], [0, 0, 0, 1, 0], [0, 0, 0, 0, 1]]\n"
     ]
    }
   ],
   "source": [
    "# Test the functions\n",
    "print(\"Constant Matrix:\")\n",
    "print(constant(3, 3, 5).to_list())\n",
    "\n",
    "print(\"\\nZeros Matrix:\")\n",
    "print(zeros(2, 2).to_list())\n",
    "\n",
    "print(\"\\nOnes Matrix:\")\n",
    "print(ones(4, 4).to_list())\n",
    "\n",
    "print(\"\\nIdentity Matrix:\")\n",
    "print(eye(5).to_list())"
   ]
  },
  {
   "cell_type": "markdown",
   "metadata": {},
   "source": [
    "4. Add the following member functions to your class. Make sure to appropriately test the dimensions of the matrices to make sure the operations are correct.\n",
    "    * `M.scalarmul(c)`: a matrix that is scalar product $cM$, where every element of $M$ is multiplied by $c$.\n",
    "    * `M.add(N)`: adds two matrices $M$ and $N$. Don’t forget to test that the sizes of the matrices are compatible for this and all other operations.\n",
    "    * `M.sub(N)`: subtracts two matrices $M$ and $N$.\n",
    "    * `M.mat_mult(N)`: returns a matrix that is the matrix product of two matrices $M$ and $N$.\n",
    "    * `M.element_mult(N)`: returns a matrix that is the element-wise product of two matrices $M$ and $N$.\n",
    "    * `M.equals(N)`: returns true/false if $M==N$."
   ]
  },
  {
   "cell_type": "code",
   "execution_count": 81,
   "metadata": {},
   "outputs": [],
   "source": [
    "class Matrix:\n",
    "    def __init__(self, n, m, matrix=None):\n",
    "        self.n = n\n",
    "        self.m = m\n",
    "        if matrix is None:\n",
    "            self.matrix = [[0 for j in range(m)] for i in range(n)]\n",
    "        else:\n",
    "            self.matrix = matrix\n",
    "\n",
    "    def shape(self):\n",
    "        return (self.n, self.m)  ## return the tuple in the shape of a matrix \n",
    "\n",
    "    def transpose(self):\n",
    "        transposed_matrix = [[self.matrix[j][i] for j in range(self.n)] for i in range(self.m)]\n",
    "        return Matrix(self.m, self.n, transposed_matrix)\n",
    "\n",
    "    def row(self, n):\n",
    "        return Matrix(1, self.m, [self.matrix[n][:]]) ## Return Row of matrix\n",
    "\n",
    "    def column(self, n):\n",
    "        return Matrix(self.n, 1, [[self.matrix[i][n]] for i in range(self.n)]) ## Return col of the matrix\n",
    "\n",
    "    def to_list(self):\n",
    "        return self.matrix ## return the matrix as a list of list\n",
    "\n",
    "    def block(self, n_0, n_1, m_0, m_1):  ## Returns a smaller matrix located to the n_0 - n_1 and m_0 - m_1 rows\n",
    "        return Matrix(n_1 - n_0, m_1 - m_0, [row[m_0:m_1] for row in self.matrix[n_0:n_1]])\n",
    "\n",
    "    def __getitem__(self, index):  ## implementing to support slicing\n",
    "        if isinstance(index, tuple):\n",
    "            row_slice, col_slice = index\n",
    "            if isinstance(row_slice, slice) and isinstance(col_slice, slice):\n",
    "                return Matrix(len(range(*row_slice.indices(self.n))), len(range(*col_slice.indices(self.m))),\n",
    "                              [row[col_slice] for row in self.matrix[row_slice]])\n",
    "            else:\n",
    "                raise TypeError(\"Invalid slice type\")\n",
    "        elif isinstance(index, int):\n",
    "            return self.matrix[index]\n",
    "        else:\n",
    "            raise TypeError(\"Invalid index type\")\n",
    "    def scalarmul(self, c):\n",
    "        return Matrix(self.n, self.m, [[self.matrix[i][j] * c for j in range(self.m)] for i in range(self.n)])\n",
    "\n",
    "    def add(self, N):\n",
    "        if self.shape() != N.shape():\n",
    "            raise ValueError(\"Matrix dimensions must match for addition.\")\n",
    "        return Matrix(self.n, self.m, [[self.matrix[i][j] + N.matrix[i][j] for j in range(self.m)] for i in range(self.n)])\n",
    "\n",
    "    def sub(self, N):\n",
    "        if self.shape() != N.shape():\n",
    "            raise ValueError(\"Matrix dimensions must match for subtraction.\")\n",
    "        return Matrix(self.n, self.m, [[self.matrix[i][j] - N.matrix[i][j] for j in range(self.m)] for i in range(self.n)])\n",
    "\n",
    "    def mat_mult(self, N):\n",
    "        if self.m != N.n:\n",
    "            raise ValueError(\"Matrix dimensions are incompatible for matrix multiplication.\")\n",
    "        result = [[sum(a * b for a, b in zip(self.matrix[i], [row[j] for row in N.matrix])) for j in range(N.m)] for i in range(self.n)]\n",
    "        return Matrix(self.n, N.m, result)\n",
    "\n",
    "    def element_mult(self, N):\n",
    "        if self.shape() != N.shape():\n",
    "            raise ValueError(\"Matrix dimensions must match for element-wise multiplication.\")\n",
    "        return Matrix(self.n, self.m, [[self.matrix[i][j] * N.matrix[i][j] for j in range(self.m)] for i in range(self.n)])\n",
    "\n",
    "    def equals(self, N):\n",
    "        return self.matrix == N.matrix  "
   ]
  },
  {
   "cell_type": "code",
   "execution_count": 82,
   "metadata": {},
   "outputs": [
    {
     "name": "stdout",
     "output_type": "stream",
     "text": [
      "Scalar Multiplication:\n",
      "[[2, 4, 6], [8, 10, 12]]\n",
      "Matrix Addition:\n",
      "[[8, 10, 12], [14, 16, 18]]\n",
      "Matrix Subtraction:\n",
      "[[-6, -6, -6], [-6, -6, -6]]\n",
      "Matrix Multiplication:\n",
      "[[22, 28], [49, 64]]\n",
      "Element-wise Multiplication:\n",
      "[[1, 4, 9], [16, 25, 36]]\n",
      "Equality Test:\n",
      "True\n"
     ]
    }
   ],
   "source": [
    "# Create matrices for testing\n",
    "A = Matrix(2, 3, [[1, 2, 3], [4, 5, 6]])\n",
    "B = Matrix(2, 3, [[7, 8, 9], [10, 11, 12]])\n",
    "C = Matrix(3, 2, [[1, 2], [3, 4], [5, 6]])\n",
    "D = Matrix(2, 3, [[1, 2, 3], [4, 5, 6]])\n",
    "\n",
    "# Test scalar multiplication\n",
    "print(\"Scalar Multiplication:\")\n",
    "print(A.scalarmul(2).to_list())\n",
    "\n",
    "# Test addition\n",
    "print(\"Matrix Addition:\")\n",
    "print(A.add(B).to_list())\n",
    "\n",
    "# Test subtraction\n",
    "print(\"Matrix Subtraction:\")\n",
    "print(A.sub(B).to_list())\n",
    "\n",
    "# Test matrix multiplication\n",
    "print(\"Matrix Multiplication:\")\n",
    "print(A.mat_mult(C).to_list())\n",
    "\n",
    "# Test element-wise multiplication\n",
    "print(\"Element-wise Multiplication:\")\n",
    "print(A.element_mult(D).to_list())\n",
    "\n",
    "# Test equality\n",
    "print(\"Equality Test:\")\n",
    "print(A.equals(D))  # Should return True"
   ]
  },
  {
   "cell_type": "markdown",
   "metadata": {},
   "source": [
    "5. Overload python operators to appropriately use your functions in 4 and allow expressions like:\n",
    "    * 2*M\n",
    "    * M*2\n",
    "    * M+N\n",
    "    * M-N\n",
    "    * M*N\n",
    "    * M==N\n",
    "    * M=N\n"
   ]
  },
  {
   "cell_type": "code",
   "execution_count": 83,
   "metadata": {},
   "outputs": [],
   "source": [
    "class Matrix:\n",
    "    def __init__(self, n, m, matrix=None):\n",
    "        self.n = n\n",
    "        self.m = m\n",
    "        if matrix is None:\n",
    "            self.matrix = [[0 for j in range(m)] for i in range(n)]\n",
    "        else:\n",
    "            self.matrix = matrix\n",
    "\n",
    "    def shape(self):\n",
    "        return (self.n, self.m)\n",
    "\n",
    "    def transpose(self):\n",
    "        transposed_matrix = [[self.matrix[j][i] for j in range(self.n)] for i in range(self.m)]\n",
    "        return Matrix(self.m, self.n, transposed_matrix)\n",
    "\n",
    "    def row(self, n):\n",
    "        return Matrix(1, self.m, [self.matrix[n][:]])\n",
    "\n",
    "    def column(self, n):\n",
    "        return Matrix(self.n, 1, [[self.matrix[i][n]] for i in range(self.n)])\n",
    "\n",
    "    def to_list(self):\n",
    "        return self.matrix\n",
    "\n",
    "    def block(self, n_0, n_1, m_0, m_1):\n",
    "        return Matrix(n_1 - n_0, m_1 - m_0, [row[m_0:m_1] for row in self.matrix[n_0:n_1]])\n",
    "\n",
    "    def __getitem__(self, index):\n",
    "        if isinstance(index, tuple):\n",
    "            row_slice, col_slice = index\n",
    "            if isinstance(row_slice, slice) and isinstance(col_slice, slice):\n",
    "                return Matrix(len(range(*row_slice.indices(self.n))), len(range(*col_slice.indices(self.m))),\n",
    "                              [row[col_slice] for row in self.matrix[row_slice]])\n",
    "            else:\n",
    "                raise TypeError(\"Invalid slice type\")\n",
    "        elif isinstance(index, int):\n",
    "            return self.matrix[index]\n",
    "        else:\n",
    "            raise TypeError(\"Invalid index type\")\n",
    "\n",
    "    def __mul__(self, other):\n",
    "        if isinstance(other, int) or isinstance(other, float):\n",
    "            return self.scalarmul(other)\n",
    "        elif isinstance(other, Matrix):\n",
    "            return self.mat_mult(other)\n",
    "        else:\n",
    "            raise TypeError(\"Unsupported operand type(s) for *: 'Matrix' and '{}'\".format(type(other)))\n",
    "\n",
    "    def __rmul__(self, other):\n",
    "        if isinstance(other, int) or isinstance(other, float):\n",
    "            return self.scalarmul(other)\n",
    "        else:\n",
    "            raise TypeError(\"Unsupported operand type(s) for *: '{}' and 'Matrix'\".format(type(other)))\n",
    "\n",
    "    def __add__(self, other):\n",
    "        if self.shape() != other.shape():\n",
    "            raise ValueError(\"Matrix dimensions must match for addition.\")\n",
    "        result = [[self.matrix[i][j] + other.matrix[i][j] for j in range(self.m)] for i in range(self.n)]\n",
    "        return Matrix(self.n, self.m, result)\n",
    "\n",
    "    def __sub__(self, other):\n",
    "        if self.shape() != other.shape():\n",
    "            raise ValueError(\"Matrix dimensions must match for subtraction.\")\n",
    "        result = [[self.matrix[i][j] - other.matrix[i][j] for j in range(self.m)] for i in range(self.n)]\n",
    "        return Matrix(self.n, self.m, result)\n",
    "\n",
    "    def __eq__(self, other):\n",
    "        return self.matrix == other.matrix\n",
    "\n",
    "    def __str__(self):\n",
    "        return '\\n'.join([' '.join([str(cell) for cell in row]) for row in self.matrix])\n",
    "\n",
    "    def scalarmul(self, c):\n",
    "        return Matrix(self.n, self.m, [[self.matrix[i][j] * c for j in range(self.m)] for i in range(self.n)])\n",
    "\n",
    "    def mat_mult(self, other):\n",
    "        if self.m != other.n:\n",
    "            raise ValueError(\"Matrix dimensions are incompatible for matrix multiplication.\")\n",
    "        result = [[sum(a * b for a, b in zip(self.matrix[i], [row[j] for row in other.matrix])) for j in range(other.m)] for i in range(self.n)]\n",
    "        return Matrix(self.n, other.m, result)"
   ]
  },
  {
   "cell_type": "code",
   "execution_count": 84,
   "metadata": {},
   "outputs": [
    {
     "name": "stdout",
     "output_type": "stream",
     "text": [
      "Scalar Multiplication:\n",
      "2 4\n",
      "6 8\n",
      "2 4\n",
      "6 8\n",
      "Matrix Addition:\n",
      "6 8\n",
      "10 12\n",
      "Matrix Subtraction:\n",
      "-4 -4\n",
      "-4 -4\n",
      "Matrix Multiplication:\n",
      "19 22\n",
      "43 50\n",
      "Equality Test:\n",
      "False\n",
      "Matrix M:\n",
      "1 2\n",
      "3 4\n"
     ]
    }
   ],
   "source": [
    "# Test the overloaded operators\n",
    "M = Matrix(2, 2, [[1, 2], [3, 4]])\n",
    "N = Matrix(2, 2, [[5, 6], [7, 8]])\n",
    "\n",
    "# Test scalar multiplication\n",
    "print(\"Scalar Multiplication:\")\n",
    "print(2 * M)\n",
    "print(M * 2)\n",
    "\n",
    "# Test addition\n",
    "print(\"Matrix Addition:\")\n",
    "print(M + N)\n",
    "\n",
    "# Test subtraction\n",
    "print(\"Matrix Subtraction:\")\n",
    "print(M - N)\n",
    "\n",
    "# Test matrix multiplication\n",
    "print(\"Matrix Multiplication:\")\n",
    "print(M * N)\n",
    "\n",
    "# Test equality\n",
    "print(\"Equality Test:\")\n",
    "print(M == N)\n",
    "\n",
    "# Test string representation\n",
    "print(\"Matrix M:\")\n",
    "print(M)"
   ]
  },
  {
   "cell_type": "markdown",
   "metadata": {},
   "source": [
    "6. Demonstrate the basic properties of matrices with your matrix class by creating two 2 by 2 example matrices using your Matrix class and illustrating the following:\n",
    "\n",
    "$$\n",
    "(AB)C=A(BC)\n",
    "$$\n",
    "$$\n",
    "A(B+C)=AB+AC\n",
    "$$\n",
    "$$\n",
    "AB\\neq BA\n",
    "$$\n",
    "$$\n",
    "AI=A\n",
    "$$"
   ]
  },
  {
   "cell_type": "code",
   "execution_count": 85,
   "metadata": {},
   "outputs": [],
   "source": [
    "# Define matrices A, B, and C\n",
    "A = Matrix(2, 2, [[1, 2], [3, 4]])\n",
    "B = Matrix(2, 2, [[5, 6], [7, 8]])\n",
    "C = Matrix(2, 2, [[9, 10], [11, 12]])"
   ]
  },
  {
   "cell_type": "code",
   "execution_count": 86,
   "metadata": {},
   "outputs": [
    {
     "name": "stdout",
     "output_type": "stream",
     "text": [
      "Property 1: (AB)C = A(BC)\n",
      "Left Side:\n",
      "413 454\n",
      "937 1030\n",
      "Right Side:\n",
      "413 454\n",
      "937 1030\n",
      "Are they equal? True\n",
      "\n"
     ]
    }
   ],
   "source": [
    "# Question 1 : (AB)C =A(BC)\n",
    "result1_left = (A * B) * C\n",
    "result1_right = A * (B * C)\n",
    "print(\"Property 1: (AB)C = A(BC)\")\n",
    "print(\"Left Side:\")\n",
    "print(result1_left)\n",
    "print(\"Right Side:\")\n",
    "print(result1_right)\n",
    "print(\"Are they equal?\", result1_left == result1_right)\n",
    "print()"
   ]
  },
  {
   "cell_type": "code",
   "execution_count": 87,
   "metadata": {},
   "outputs": [
    {
     "name": "stdout",
     "output_type": "stream",
     "text": [
      "Property 2: A(B+C) = AB + AC\n",
      "Left Side:\n",
      "50 56\n",
      "114 128\n",
      "Right Side:\n",
      "50 56\n",
      "114 128\n",
      "Are they equal? True\n",
      "\n"
     ]
    }
   ],
   "source": [
    "# Q2: A(B+C) = AB + AC\n",
    "result2_left = A * (B + C)\n",
    "result2_right = A * B + A * C\n",
    "print(\"Property 2: A(B+C) = AB + AC\")\n",
    "print(\"Left Side:\")\n",
    "print(result2_left)\n",
    "print(\"Right Side:\")\n",
    "print(result2_right)\n",
    "print(\"Are they equal?\", result2_left == result2_right)\n",
    "print()"
   ]
  },
  {
   "cell_type": "code",
   "execution_count": 88,
   "metadata": {},
   "outputs": [
    {
     "name": "stdout",
     "output_type": "stream",
     "text": [
      "Property 3: AB != BA\n",
      "AB:\n",
      "19 22\n",
      "43 50\n",
      "BA:\n",
      "23 34\n",
      "31 46\n",
      "Are they equal? False\n",
      "\n"
     ]
    }
   ],
   "source": [
    "# Q3: AB != BA\n",
    "result3_left = A * B\n",
    "result3_right = B * A\n",
    "print(\"Property 3: AB != BA\")\n",
    "print(\"AB:\")\n",
    "print(result3_left)\n",
    "print(\"BA:\")\n",
    "print(result3_right)\n",
    "print(\"Are they equal?\", result3_left == result3_right)\n",
    "print()"
   ]
  },
  {
   "cell_type": "code",
   "execution_count": 89,
   "metadata": {},
   "outputs": [
    {
     "name": "stdout",
     "output_type": "stream",
     "text": [
      "Property 4: AI = A\n",
      "Left Side:\n",
      "1 2\n",
      "3 4\n",
      "Right Side:\n",
      "1 2\n",
      "3 4\n",
      "Are they equal? True\n"
     ]
    }
   ],
   "source": [
    "# Q4 : AI = A\n",
    "I = Matrix(2, 2, [[1, 0], [0, 1]])\n",
    "result4_left = A * I\n",
    "result4_right = A\n",
    "print(\"Property 4: AI = A\")\n",
    "print(\"Left Side:\")\n",
    "print(result4_left)\n",
    "print(\"Right Side:\")\n",
    "print(result4_right)\n",
    "print(\"Are they equal?\", result4_left == result4_right)"
   ]
  },
  {
   "cell_type": "code",
   "execution_count": null,
   "metadata": {},
   "outputs": [],
   "source": []
  }
 ],
 "metadata": {
  "kernelspec": {
   "display_name": "Python 3 (ipykernel)",
   "language": "python",
   "name": "python3"
  },
  "language_info": {
   "codemirror_mode": {
    "name": "ipython",
    "version": 3
   },
   "file_extension": ".py",
   "mimetype": "text/x-python",
   "name": "python",
   "nbconvert_exporter": "python",
   "pygments_lexer": "ipython3",
   "version": "3.10.12"
  }
 },
 "nbformat": 4,
 "nbformat_minor": 4
}
